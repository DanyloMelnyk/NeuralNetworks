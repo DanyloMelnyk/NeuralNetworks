{
  "nbformat": 4,
  "nbformat_minor": 0,
  "metadata": {
    "colab": {
      "name": "Neural_network_lab3.ipynb",
      "provenance": [],
      "collapsed_sections": []
    },
    "kernelspec": {
      "name": "python3",
      "display_name": "Python 3"
    },
    "language_info": {
      "name": "python"
    },
    "accelerator": "GPU"
  },
  "cells": [
    {
      "cell_type": "code",
      "source": [
        "!pip install -U d2l transformers"
      ],
      "metadata": {
        "colab": {
          "base_uri": "https://localhost:8080/",
          "height": 1000
        },
        "id": "r4N-mY_Cr9Eb",
        "outputId": "fa6ac01b-7622-45b3-c226-ca60f21d660a"
      },
      "execution_count": 1,
      "outputs": [
        {
          "output_type": "stream",
          "name": "stdout",
          "text": [
            "Collecting d2l\n",
            "  Downloading d2l-0.17.5-py3-none-any.whl (82 kB)\n",
            "\u001b[K     |████████████████████████████████| 82 kB 557 kB/s \n",
            "\u001b[?25hCollecting transformers\n",
            "  Downloading transformers-4.18.0-py3-none-any.whl (4.0 MB)\n",
            "\u001b[K     |████████████████████████████████| 4.0 MB 32.7 MB/s \n",
            "\u001b[?25hCollecting requests==2.25.1\n",
            "  Downloading requests-2.25.1-py2.py3-none-any.whl (61 kB)\n",
            "\u001b[K     |████████████████████████████████| 61 kB 7.3 MB/s \n",
            "\u001b[?25hRequirement already satisfied: jupyter==1.0.0 in /usr/local/lib/python3.7/dist-packages (from d2l) (1.0.0)\n",
            "Collecting matplotlib==3.5.1\n",
            "  Downloading matplotlib-3.5.1-cp37-cp37m-manylinux_2_5_x86_64.manylinux1_x86_64.whl (11.2 MB)\n",
            "\u001b[K     |████████████████████████████████| 11.2 MB 22.6 MB/s \n",
            "\u001b[?25hCollecting pandas==1.2.4\n",
            "  Downloading pandas-1.2.4-cp37-cp37m-manylinux1_x86_64.whl (9.9 MB)\n",
            "\u001b[K     |████████████████████████████████| 9.9 MB 34.4 MB/s \n",
            "\u001b[?25hCollecting numpy==1.21.5\n",
            "  Downloading numpy-1.21.5-cp37-cp37m-manylinux_2_12_x86_64.manylinux2010_x86_64.whl (15.7 MB)\n",
            "\u001b[K     |████████████████████████████████| 15.7 MB 30.5 MB/s \n",
            "\u001b[?25hRequirement already satisfied: ipywidgets in /usr/local/lib/python3.7/dist-packages (from jupyter==1.0.0->d2l) (7.7.0)\n",
            "Requirement already satisfied: notebook in /usr/local/lib/python3.7/dist-packages (from jupyter==1.0.0->d2l) (5.3.1)\n",
            "Requirement already satisfied: qtconsole in /usr/local/lib/python3.7/dist-packages (from jupyter==1.0.0->d2l) (5.3.0)\n",
            "Requirement already satisfied: jupyter-console in /usr/local/lib/python3.7/dist-packages (from jupyter==1.0.0->d2l) (5.2.0)\n",
            "Requirement already satisfied: ipykernel in /usr/local/lib/python3.7/dist-packages (from jupyter==1.0.0->d2l) (4.10.1)\n",
            "Requirement already satisfied: nbconvert in /usr/local/lib/python3.7/dist-packages (from jupyter==1.0.0->d2l) (5.6.1)\n",
            "Requirement already satisfied: packaging>=20.0 in /usr/local/lib/python3.7/dist-packages (from matplotlib==3.5.1->d2l) (21.3)\n",
            "Collecting fonttools>=4.22.0\n",
            "  Downloading fonttools-4.33.3-py3-none-any.whl (930 kB)\n",
            "\u001b[K     |████████████████████████████████| 930 kB 39.7 MB/s \n",
            "\u001b[?25hRequirement already satisfied: kiwisolver>=1.0.1 in /usr/local/lib/python3.7/dist-packages (from matplotlib==3.5.1->d2l) (1.4.2)\n",
            "Requirement already satisfied: cycler>=0.10 in /usr/local/lib/python3.7/dist-packages (from matplotlib==3.5.1->d2l) (0.11.0)\n",
            "Requirement already satisfied: pyparsing>=2.2.1 in /usr/local/lib/python3.7/dist-packages (from matplotlib==3.5.1->d2l) (3.0.8)\n",
            "Requirement already satisfied: pillow>=6.2.0 in /usr/local/lib/python3.7/dist-packages (from matplotlib==3.5.1->d2l) (7.1.2)\n",
            "Requirement already satisfied: python-dateutil>=2.7 in /usr/local/lib/python3.7/dist-packages (from matplotlib==3.5.1->d2l) (2.8.2)\n",
            "Requirement already satisfied: pytz>=2017.3 in /usr/local/lib/python3.7/dist-packages (from pandas==1.2.4->d2l) (2022.1)\n",
            "Requirement already satisfied: certifi>=2017.4.17 in /usr/local/lib/python3.7/dist-packages (from requests==2.25.1->d2l) (2021.10.8)\n",
            "Requirement already satisfied: chardet<5,>=3.0.2 in /usr/local/lib/python3.7/dist-packages (from requests==2.25.1->d2l) (3.0.4)\n",
            "Requirement already satisfied: urllib3<1.27,>=1.21.1 in /usr/local/lib/python3.7/dist-packages (from requests==2.25.1->d2l) (1.24.3)\n",
            "Requirement already satisfied: idna<3,>=2.5 in /usr/local/lib/python3.7/dist-packages (from requests==2.25.1->d2l) (2.10)\n",
            "Requirement already satisfied: typing-extensions in /usr/local/lib/python3.7/dist-packages (from kiwisolver>=1.0.1->matplotlib==3.5.1->d2l) (4.2.0)\n",
            "Requirement already satisfied: six>=1.5 in /usr/local/lib/python3.7/dist-packages (from python-dateutil>=2.7->matplotlib==3.5.1->d2l) (1.15.0)\n",
            "Collecting huggingface-hub<1.0,>=0.1.0\n",
            "  Downloading huggingface_hub-0.5.1-py3-none-any.whl (77 kB)\n",
            "\u001b[K     |████████████████████████████████| 77 kB 6.3 MB/s \n",
            "\u001b[?25hRequirement already satisfied: importlib-metadata in /usr/local/lib/python3.7/dist-packages (from transformers) (4.11.3)\n",
            "Collecting tokenizers!=0.11.3,<0.13,>=0.11.1\n",
            "  Downloading tokenizers-0.12.1-cp37-cp37m-manylinux_2_12_x86_64.manylinux2010_x86_64.whl (6.6 MB)\n",
            "\u001b[K     |████████████████████████████████| 6.6 MB 37.2 MB/s \n",
            "\u001b[?25hRequirement already satisfied: filelock in /usr/local/lib/python3.7/dist-packages (from transformers) (3.6.0)\n",
            "Requirement already satisfied: regex!=2019.12.17 in /usr/local/lib/python3.7/dist-packages (from transformers) (2019.12.20)\n",
            "Collecting pyyaml>=5.1\n",
            "  Downloading PyYAML-6.0-cp37-cp37m-manylinux_2_5_x86_64.manylinux1_x86_64.manylinux_2_12_x86_64.manylinux2010_x86_64.whl (596 kB)\n",
            "\u001b[K     |████████████████████████████████| 596 kB 46.2 MB/s \n",
            "\u001b[?25hCollecting sacremoses\n",
            "  Downloading sacremoses-0.0.53.tar.gz (880 kB)\n",
            "\u001b[K     |████████████████████████████████| 880 kB 39.3 MB/s \n",
            "\u001b[?25hRequirement already satisfied: tqdm>=4.27 in /usr/local/lib/python3.7/dist-packages (from transformers) (4.64.0)\n",
            "Requirement already satisfied: zipp>=0.5 in /usr/local/lib/python3.7/dist-packages (from importlib-metadata->transformers) (3.8.0)\n",
            "Requirement already satisfied: tornado>=4.0 in /usr/local/lib/python3.7/dist-packages (from ipykernel->jupyter==1.0.0->d2l) (5.1.1)\n",
            "Requirement already satisfied: ipython>=4.0.0 in /usr/local/lib/python3.7/dist-packages (from ipykernel->jupyter==1.0.0->d2l) (5.5.0)\n",
            "Requirement already satisfied: jupyter-client in /usr/local/lib/python3.7/dist-packages (from ipykernel->jupyter==1.0.0->d2l) (5.3.5)\n",
            "Requirement already satisfied: traitlets>=4.1.0 in /usr/local/lib/python3.7/dist-packages (from ipykernel->jupyter==1.0.0->d2l) (5.1.1)\n",
            "Requirement already satisfied: setuptools>=18.5 in /usr/local/lib/python3.7/dist-packages (from ipython>=4.0.0->ipykernel->jupyter==1.0.0->d2l) (57.4.0)\n",
            "Requirement already satisfied: simplegeneric>0.8 in /usr/local/lib/python3.7/dist-packages (from ipython>=4.0.0->ipykernel->jupyter==1.0.0->d2l) (0.8.1)\n",
            "Requirement already satisfied: pygments in /usr/local/lib/python3.7/dist-packages (from ipython>=4.0.0->ipykernel->jupyter==1.0.0->d2l) (2.6.1)\n",
            "Requirement already satisfied: prompt-toolkit<2.0.0,>=1.0.4 in /usr/local/lib/python3.7/dist-packages (from ipython>=4.0.0->ipykernel->jupyter==1.0.0->d2l) (1.0.18)\n",
            "Requirement already satisfied: pexpect in /usr/local/lib/python3.7/dist-packages (from ipython>=4.0.0->ipykernel->jupyter==1.0.0->d2l) (4.8.0)\n",
            "Requirement already satisfied: pickleshare in /usr/local/lib/python3.7/dist-packages (from ipython>=4.0.0->ipykernel->jupyter==1.0.0->d2l) (0.7.5)\n",
            "Requirement already satisfied: decorator in /usr/local/lib/python3.7/dist-packages (from ipython>=4.0.0->ipykernel->jupyter==1.0.0->d2l) (4.4.2)\n",
            "Requirement already satisfied: wcwidth in /usr/local/lib/python3.7/dist-packages (from prompt-toolkit<2.0.0,>=1.0.4->ipython>=4.0.0->ipykernel->jupyter==1.0.0->d2l) (0.2.5)\n",
            "Requirement already satisfied: ipython-genutils~=0.2.0 in /usr/local/lib/python3.7/dist-packages (from ipywidgets->jupyter==1.0.0->d2l) (0.2.0)\n",
            "Requirement already satisfied: jupyterlab-widgets>=1.0.0 in /usr/local/lib/python3.7/dist-packages (from ipywidgets->jupyter==1.0.0->d2l) (1.1.0)\n",
            "Requirement already satisfied: widgetsnbextension~=3.6.0 in /usr/local/lib/python3.7/dist-packages (from ipywidgets->jupyter==1.0.0->d2l) (3.6.0)\n",
            "Requirement already satisfied: nbformat>=4.2.0 in /usr/local/lib/python3.7/dist-packages (from ipywidgets->jupyter==1.0.0->d2l) (5.3.0)\n",
            "Requirement already satisfied: jsonschema>=2.6 in /usr/local/lib/python3.7/dist-packages (from nbformat>=4.2.0->ipywidgets->jupyter==1.0.0->d2l) (4.3.3)\n",
            "Requirement already satisfied: fastjsonschema in /usr/local/lib/python3.7/dist-packages (from nbformat>=4.2.0->ipywidgets->jupyter==1.0.0->d2l) (2.15.3)\n",
            "Requirement already satisfied: jupyter-core in /usr/local/lib/python3.7/dist-packages (from nbformat>=4.2.0->ipywidgets->jupyter==1.0.0->d2l) (4.10.0)\n",
            "Requirement already satisfied: importlib-resources>=1.4.0 in /usr/local/lib/python3.7/dist-packages (from jsonschema>=2.6->nbformat>=4.2.0->ipywidgets->jupyter==1.0.0->d2l) (5.7.1)\n",
            "Requirement already satisfied: pyrsistent!=0.17.0,!=0.17.1,!=0.17.2,>=0.14.0 in /usr/local/lib/python3.7/dist-packages (from jsonschema>=2.6->nbformat>=4.2.0->ipywidgets->jupyter==1.0.0->d2l) (0.18.1)\n",
            "Requirement already satisfied: attrs>=17.4.0 in /usr/local/lib/python3.7/dist-packages (from jsonschema>=2.6->nbformat>=4.2.0->ipywidgets->jupyter==1.0.0->d2l) (21.4.0)\n",
            "Requirement already satisfied: jinja2 in /usr/local/lib/python3.7/dist-packages (from notebook->jupyter==1.0.0->d2l) (2.11.3)\n",
            "Requirement already satisfied: Send2Trash in /usr/local/lib/python3.7/dist-packages (from notebook->jupyter==1.0.0->d2l) (1.8.0)\n",
            "Requirement already satisfied: terminado>=0.8.1 in /usr/local/lib/python3.7/dist-packages (from notebook->jupyter==1.0.0->d2l) (0.13.3)\n",
            "Requirement already satisfied: pyzmq>=13 in /usr/local/lib/python3.7/dist-packages (from jupyter-client->ipykernel->jupyter==1.0.0->d2l) (22.3.0)\n",
            "Requirement already satisfied: ptyprocess in /usr/local/lib/python3.7/dist-packages (from terminado>=0.8.1->notebook->jupyter==1.0.0->d2l) (0.7.0)\n",
            "Requirement already satisfied: MarkupSafe>=0.23 in /usr/local/lib/python3.7/dist-packages (from jinja2->notebook->jupyter==1.0.0->d2l) (2.0.1)\n",
            "Requirement already satisfied: bleach in /usr/local/lib/python3.7/dist-packages (from nbconvert->jupyter==1.0.0->d2l) (5.0.0)\n",
            "Requirement already satisfied: mistune<2,>=0.8.1 in /usr/local/lib/python3.7/dist-packages (from nbconvert->jupyter==1.0.0->d2l) (0.8.4)\n",
            "Requirement already satisfied: entrypoints>=0.2.2 in /usr/local/lib/python3.7/dist-packages (from nbconvert->jupyter==1.0.0->d2l) (0.4)\n",
            "Requirement already satisfied: testpath in /usr/local/lib/python3.7/dist-packages (from nbconvert->jupyter==1.0.0->d2l) (0.6.0)\n",
            "Requirement already satisfied: pandocfilters>=1.4.1 in /usr/local/lib/python3.7/dist-packages (from nbconvert->jupyter==1.0.0->d2l) (1.5.0)\n",
            "Requirement already satisfied: defusedxml in /usr/local/lib/python3.7/dist-packages (from nbconvert->jupyter==1.0.0->d2l) (0.7.1)\n",
            "Requirement already satisfied: webencodings in /usr/local/lib/python3.7/dist-packages (from bleach->nbconvert->jupyter==1.0.0->d2l) (0.5.1)\n",
            "Requirement already satisfied: qtpy>=2.0.1 in /usr/local/lib/python3.7/dist-packages (from qtconsole->jupyter==1.0.0->d2l) (2.0.1)\n",
            "Requirement already satisfied: click in /usr/local/lib/python3.7/dist-packages (from sacremoses->transformers) (7.1.2)\n",
            "Requirement already satisfied: joblib in /usr/local/lib/python3.7/dist-packages (from sacremoses->transformers) (1.1.0)\n",
            "Building wheels for collected packages: sacremoses\n",
            "  Building wheel for sacremoses (setup.py) ... \u001b[?25l\u001b[?25hdone\n",
            "  Created wheel for sacremoses: filename=sacremoses-0.0.53-py3-none-any.whl size=895260 sha256=29d34b24540f165e22a2cf344694aa2a935ba05c7c31045adb0f91c2be915dd3\n",
            "  Stored in directory: /root/.cache/pip/wheels/87/39/dd/a83eeef36d0bf98e7a4d1933a4ad2d660295a40613079bafc9\n",
            "Successfully built sacremoses\n",
            "Installing collected packages: requests, pyyaml, numpy, fonttools, tokenizers, sacremoses, pandas, matplotlib, huggingface-hub, transformers, d2l\n",
            "  Attempting uninstall: requests\n",
            "    Found existing installation: requests 2.23.0\n",
            "    Uninstalling requests-2.23.0:\n",
            "      Successfully uninstalled requests-2.23.0\n",
            "  Attempting uninstall: pyyaml\n",
            "    Found existing installation: PyYAML 3.13\n",
            "    Uninstalling PyYAML-3.13:\n",
            "      Successfully uninstalled PyYAML-3.13\n",
            "  Attempting uninstall: numpy\n",
            "    Found existing installation: numpy 1.21.6\n",
            "    Uninstalling numpy-1.21.6:\n",
            "      Successfully uninstalled numpy-1.21.6\n",
            "  Attempting uninstall: pandas\n",
            "    Found existing installation: pandas 1.3.5\n",
            "    Uninstalling pandas-1.3.5:\n",
            "      Successfully uninstalled pandas-1.3.5\n",
            "  Attempting uninstall: matplotlib\n",
            "    Found existing installation: matplotlib 3.2.2\n",
            "    Uninstalling matplotlib-3.2.2:\n",
            "      Successfully uninstalled matplotlib-3.2.2\n",
            "\u001b[31mERROR: pip's dependency resolver does not currently take into account all the packages that are installed. This behaviour is the source of the following dependency conflicts.\n",
            "tensorflow 2.8.0 requires tf-estimator-nightly==2.8.0.dev2021122109, which is not installed.\n",
            "google-colab 1.0.0 requires requests~=2.23.0, but you have requests 2.25.1 which is incompatible.\n",
            "datascience 0.10.6 requires folium==0.2.1, but you have folium 0.8.3 which is incompatible.\n",
            "albumentations 0.1.12 requires imgaug<0.2.7,>=0.2.5, but you have imgaug 0.2.9 which is incompatible.\u001b[0m\n",
            "Successfully installed d2l-0.17.5 fonttools-4.33.3 huggingface-hub-0.5.1 matplotlib-3.5.1 numpy-1.21.5 pandas-1.2.4 pyyaml-6.0 requests-2.25.1 sacremoses-0.0.53 tokenizers-0.12.1 transformers-4.18.0\n"
          ]
        },
        {
          "output_type": "display_data",
          "data": {
            "application/vnd.colab-display-data+json": {
              "pip_warning": {
                "packages": [
                  "matplotlib",
                  "mpl_toolkits",
                  "numpy"
                ]
              }
            }
          },
          "metadata": {}
        }
      ]
    },
    {
      "cell_type": "code",
      "execution_count": 1,
      "metadata": {
        "id": "JvRx8lzDVbFZ"
      },
      "outputs": [],
      "source": [
        "import matplotlib.pyplot as plt\n",
        "import numpy as np\n",
        "import pandas as pd\n",
        "\n",
        "from datetime import datetime\n",
        "\n",
        "import os\n",
        "import re\n",
        "\n",
        "from d2l import torch as d2l\n",
        "\n",
        "from transformers import BertTokenizer, BertForSequenceClassification\n",
        "\n",
        "import torch\n",
        "from torch import nn\n",
        "from torch.nn.functional import softmax\n",
        "from torchvision.datasets.utils import download_and_extract_archive\n",
        "from torch.optim import Adam\n",
        "from torch.utils.tensorboard import SummaryWriter\n",
        "from torch.utils.data import Dataset, DataLoader, WeightedRandomSampler\n",
        "\n",
        "from sklearn.metrics import accuracy_score, balanced_accuracy_score, f1_score, roc_auc_score, precision_score, recall_score, classification_report"
      ]
    },
    {
      "cell_type": "code",
      "source": [
        "IS_COLAB = True\n",
        "\n",
        "if IS_COLAB:\n",
        "    from google.colab import drive\n",
        "\n",
        "    drive.mount(\"/content/drive\")\n",
        "    DATA_DIR = \"/content/drive/My Drive/ai/lab3/\"\n",
        "\n",
        "else:\n",
        "    DATA_DIR = \"./data/\""
      ],
      "metadata": {
        "colab": {
          "base_uri": "https://localhost:8080/"
        },
        "id": "pbBTShHrWqzg",
        "outputId": "9583da37-35bb-4e6a-a3e1-6beeeb8b3a99"
      },
      "execution_count": 2,
      "outputs": [
        {
          "output_type": "stream",
          "name": "stdout",
          "text": [
            "Drive already mounted at /content/drive; to attempt to forcibly remount, call drive.mount(\"/content/drive\", force_remount=True).\n"
          ]
        }
      ]
    },
    {
      "cell_type": "code",
      "source": [
        "!cp drive/MyDrive/ai/lab2/pytorchtools.py .\n",
        "from pytorchtools import EarlyStopping  # from https://github.com/Bjarten/early-stopping-pytorch"
      ],
      "metadata": {
        "id": "shnHYG1RWqxO"
      },
      "execution_count": 3,
      "outputs": []
    },
    {
      "cell_type": "markdown",
      "source": [
        "# Dataset preprocessing"
      ],
      "metadata": {
        "id": "PXMyE5RmW7KB"
      }
    },
    {
      "cell_type": "code",
      "source": [
        "class DrugLib(Dataset):\n",
        "  def __init__(self, root, train, task):\n",
        "    self.root = os.path.join(root, \"drugLib\") \n",
        "    self.task = task # overall | effectiveness | sideEffects\n",
        "\n",
        "    self.download()\n",
        "\n",
        "    if not self._check_integrity():\n",
        "      raise RuntimeError(\"Dataset not found or corrupted.\")\n",
        "\n",
        "    self.load(train)\n",
        "\n",
        "  def download(self) -> None:\n",
        "    if self._check_integrity():\n",
        "        print(\"Files already downloaded and verified\")\n",
        "        return\n",
        "\n",
        "    download_and_extract_archive(\n",
        "        \"https://archive.ics.uci.edu/ml/machine-learning-databases/00461/drugLib_raw.zip\",\n",
        "        self.root,\n",
        "        md5=\"b4f5b49c9ddb7b6f466928e1f49ad23f\",\n",
        "        filename=\"drugLib_raw.zip\"\n",
        "    )\n",
        "\n",
        "  def _check_integrity(self) -> bool:\n",
        "    return os.path.exists(os.path.join(self.root, \"drugLibTrain_raw.tsv\")) and os.path.exists(os.path.join(self.root, \"drugLibTest_raw.tsv\"))\n",
        "\n",
        "  def load(self, train):\n",
        "    if train:\n",
        "      self.df = pd.read_csv(os.path.join(self.root, \"drugLibTrain_raw.tsv\"), sep=\"\\t\", header=0)\n",
        "    else:\n",
        "      self.df = pd.read_csv(os.path.join(self.root, \"drugLibTest_raw.tsv\"), sep=\"\\t\", header=0)\n",
        "\n",
        "    self.df = self.df.dropna()\n",
        "\n",
        "\n",
        "    effMap = {'Ineffective':0, 'Marginally Effective':1, 'Moderately Effective':1, 'Considerably Effective':2,\n",
        "                         'Highly Effective':2}\n",
        "    sideEffectsMap = {'No Side Effects':0, 'Mild Side Effects':1, 'Moderate Side Effects':1, 'Severe Side Effects':2, 'Extremely Severe Side Effects':2}\n",
        "\n",
        "    self.df[\"rating\"] = self.df[\"rating\"].apply(lambda x: 0 if x <= 4 else (1 if x < 7 else 2))\n",
        "\n",
        "    self.df[\"effectiveness\"] = self.df[\"effectiveness\"].apply(lambda x: effMap[x])\n",
        "    self.df[\"sideEffects\"] = self.df[\"sideEffects\"].apply(lambda x: sideEffectsMap[x])\n",
        "\n",
        "    def proccess(txt):\n",
        "      # replace all whitespaces to 1 space; delte ., and etc. All to lower\n",
        "      return re.sub(\"[^a-zA-Z\\s]\", \"\",  re.sub('[\\s]+', ' ', txt)).lower()\n",
        "\n",
        "    self.df[\"benefitsReview\"] = self.df[\"benefitsReview\"].apply(proccess)\n",
        "    self.df[\"sideEffectsReview\"] = self.df[\"sideEffectsReview\"].apply(proccess)\n",
        "    self.df[\"commentsReview\"] = self.df[\"commentsReview\"].apply(proccess)\n",
        "\n",
        "    if self.task == \"overall\":\n",
        "      self.labels = self.df[\"rating\"]\n",
        "      self.data = self.df[[\"benefitsReview\", \"sideEffectsReview\", \"commentsReview\"]].apply(lambda x: \" \".join(x), axis=1)\n",
        "      self.review_len = 300\n",
        "    elif self.task == \"effectiveness\":\n",
        "      self.labels = self.df[\"effectiveness\"]\n",
        "      self.data = self.df[\"benefitsReview\"]\n",
        "      self.review_len = 200\n",
        "    elif self.task == \"sideEffects\":\n",
        "      self.labels = self.df[\"sideEffects\"]\n",
        "      self.data = self.df[\"sideEffectsReview\"]\n",
        "      self.review_len = 200\n",
        "    else:\n",
        "      raise ValueError(\"Bad task!\")\n",
        "\n",
        "\n",
        "    self.tokens = d2l.tokenize(self.data, token=\"word\")\n",
        "\n",
        "    self.vocab = d2l.Vocab(self.tokens, min_freq=5, reserved_tokens=[\"<pad>\"])\n",
        "\n",
        "    uniq_label, counts = np.unique(self.labels.values, return_counts=True)\n",
        "    class_weights = [sum(counts) / c for c in counts]\n",
        "    labels_weights = [class_weights[i] for i in self.labels.values]\n",
        "\n",
        "    self.sampler = WeightedRandomSampler(labels_weights, len(self.labels))\n",
        "\n",
        "    self.data = torch.tensor([d2l.truncate_pad(self.vocab[line], self.review_len, self.vocab['<pad>']) for line in self.tokens])\n",
        "    self.labels = torch.tensor(self.labels.values)\n",
        "\n",
        "  \n",
        "  def __len__(self):\n",
        "        return len(self.df)\n",
        "\n",
        "  def __getitem__(self, idx):\n",
        "    return self.data[idx], self.labels[idx]"
      ],
      "metadata": {
        "id": "m4IvvaO3Wqu5"
      },
      "execution_count": 4,
      "outputs": []
    },
    {
      "cell_type": "markdown",
      "source": [
        "# Common (Training functions, models class)"
      ],
      "metadata": {
        "id": "kaKgz6B0cuV6"
      }
    },
    {
      "cell_type": "code",
      "source": [
        "class BiRNN(nn.Module):\n",
        "    def __init__(self, vocab_size, embed_size, num_hiddens,\n",
        "                 num_layers, num_out_classes, recurrent_layer=nn.LSTM, **kwargs):\n",
        "        super(BiRNN, self).__init__(**kwargs)\n",
        "        self.embedding = nn.Embedding(vocab_size, embed_size)\n",
        "        self.encoder = recurrent_layer(embed_size,\n",
        "                               num_hiddens,\n",
        "                               num_layers=num_layers,\n",
        "                               bidirectional=True,\n",
        "                               dropout=0.25)\n",
        "        self.decoder = nn.Linear(4 * num_hiddens, num_out_classes)\n",
        "\n",
        "    def forward(self, inputs):\n",
        "        # The shape of `inputs` is (batch size, no. of time steps).\n",
        "        # The output shape is (no. of time steps, batch size,\n",
        "        # word vector dimension)\n",
        "        embeddings = self.embedding(inputs.T)\n",
        "        self.encoder.flatten_parameters()\n",
        "        # Returns hidden states of the last hidden layer at different time\n",
        "        # steps. The shape of `outputs` is (no. of time steps, batch size,\n",
        "        # 2 * no. of hidden units)\n",
        "        outputs, _ = self.encoder(embeddings)\n",
        "        # Concatenate the hidden states of the initial time step and final\n",
        "        # time step to use as the input of the fully connected layer. Its\n",
        "        # shape is (batch size, 4 * no. of hidden units)\n",
        "        encoding = torch.cat((outputs[0], outputs[-1]), dim=1)\n",
        "        # Concatenate the hidden states at the initial and final time steps as\n",
        "        # the input of the fully-connected layer. Its shape is (batch size,\n",
        "        # 4 * no. of hidden units)\n",
        "        outs = self.decoder(encoding)\n",
        "        return softmax(outs)"
      ],
      "metadata": {
        "id": "nU9uG01uWqnW"
      },
      "execution_count": 4,
      "outputs": []
    },
    {
      "cell_type": "code",
      "source": [
        "def init_weights(m):\n",
        "    if type(m) == nn.Linear:\n",
        "        nn.init.xavier_uniform_(m.weight)\n",
        "    if type(m) in [nn.LSTM, nn.RNN, nn.GRU]:\n",
        "        for param in m._flat_weights_names:\n",
        "            if \"weight\" in param:\n",
        "                nn.init.xavier_uniform_(m._parameters[param])\n"
      ],
      "metadata": {
        "id": "Dh5hPwXf9Nnx"
      },
      "execution_count": 5,
      "outputs": []
    },
    {
      "cell_type": "code",
      "source": [
        "glove_embedding = d2l.TokenEmbedding('glove.6b.100d')"
      ],
      "metadata": {
        "id": "UEX9vyFGdk1e"
      },
      "execution_count": 6,
      "outputs": []
    },
    {
      "cell_type": "code",
      "source": [
        "def initNet(net, vocab):\n",
        "  net.apply(init_weights);\n",
        "\n",
        "  embeds = glove_embedding[vocab.idx_to_token]\n",
        "  net.embedding.weight.data.copy_(embeds)\n",
        "  net.embedding.weight.requires_grad = False"
      ],
      "metadata": {
        "id": "8aW-cYDIdm5V"
      },
      "execution_count": 7,
      "outputs": []
    },
    {
      "cell_type": "code",
      "source": [
        "def train_loop(dataloader, model, loss_fn, optimizer):\n",
        "    size = len(dataloader.dataset)\n",
        "    correct = 0\n",
        "    total_loss = 0\n",
        "    model.train()\n",
        "    for batch, (X, y) in enumerate(dataloader):\n",
        "        X, y = X.to(\"cuda\"), y.to(\"cuda\")\n",
        "        optimizer.zero_grad()\n",
        "\n",
        "        pred = model(X)\n",
        "        loss = loss_fn(pred, y)\n",
        "\n",
        "        loss.backward()\n",
        "        optimizer.step()\n",
        "\n",
        "        correct += (pred.argmax(1) == y).type(torch.float).sum().item()\n",
        "        total_loss += float(loss.item())\n",
        "        if batch % 20 == 0:\n",
        "            loss, current = float(loss.item()), (batch +1) * len(X)\n",
        "            print(f\"Accuracy: {(100 * correct / current):>0.1f}%, Avg loss: {loss:>7f},\\t[{current:>5d}/{size:>5d}]\")\n",
        "    \n",
        "    lossTrain = total_loss/len(dataloader)\n",
        "    accuracyTrain = 100 * correct / size\n",
        "\n",
        "    print(f\"Train accuracy: {accuracyTrain:>0.1f}%, Avg loss: {lossTrain:>7f} \")\n",
        "\n",
        "    print(f\"Memory allocated: {(torch.cuda.memory_allocated()/1024/1024):.1f} MB\")\n",
        "\n",
        "    return lossTrain, accuracyTrain"
      ],
      "metadata": {
        "id": "lJJnG2NMPp2H"
      },
      "execution_count": 8,
      "outputs": []
    },
    {
      "cell_type": "code",
      "source": [
        "def test_loop(dataloader, model, loss_fn):\n",
        "    size = len(dataloader.dataset)\n",
        "    num_batches = len(dataloader)\n",
        "    test_loss, correct = 0, 0\n",
        "\n",
        "    with torch.no_grad():\n",
        "        model.eval()\n",
        "        for batch, (X, y) in enumerate(dataloader):\n",
        "            X, y = X.to(\"cuda\"), y.to(\"cuda\")\n",
        "\n",
        "            pred = model(X)\n",
        "            loss = loss_fn(pred, y)\n",
        "            test_loss += float(loss.item())\n",
        "            correct += (pred.argmax(1) == y).type(torch.float).sum().item()\n",
        "\n",
        "            if batch % 20 == 0:\n",
        "              loss, current = loss.item(), batch * len(X)\n",
        "              print(f\"Test loss: {loss:>7f}  [{current:>5d}/{size:>5d}]\")\n",
        "\n",
        "    test_loss /= num_batches\n",
        "    correct /= size\n",
        "\n",
        "    accuracyTest = 100 * correct\n",
        "\n",
        "    print(f\"Test Error: \\n Accuracy: {accuracyTest:>0.1f}%, Avg loss: {test_loss:>8f} \\n\")\n",
        "    print(f\"Memory allocated: {(torch.cuda.memory_allocated()/1024/1024):.1f} MB\")\n",
        "\n",
        "    return test_loss, accuracyTest"
      ],
      "metadata": {
        "id": "A40-BvzCPvTD"
      },
      "execution_count": 9,
      "outputs": []
    },
    {
      "cell_type": "code",
      "source": [
        "def predict(model, dataloader):\n",
        "  y_pred = []\n",
        "  y_true = []\n",
        "  confidence = []\n",
        "\n",
        "  size = len(dataloader.dataset)\n",
        "\n",
        "  with torch.no_grad():\n",
        "    model.eval()\n",
        "    for batch, (X, y) in enumerate(dataloader):\n",
        "        X = X.to(\"cuda\")\n",
        "        pred = model(X)\n",
        "\n",
        "        y_true.append(y.numpy())\n",
        "        y_pred_t = pred.argmax(1).cpu().numpy()\n",
        "\n",
        "        y_pred.append(y_pred_t)\n",
        "        confidence.append(softmax(pred).cpu().numpy())\n",
        "\n",
        "        if batch % 20 == 0:\n",
        "          current = batch * len(X)\n",
        "          print(f\"Test:  [{current:>5d}/{size:>5d}]\")\n",
        "\n",
        "  y_pred = np.concatenate([i.squeeze() for i in y_pred])\n",
        "  y_true = np.concatenate([i.squeeze() for i in y_true])\n",
        "  confidence = np.concatenate([i.squeeze() for i in confidence])\n",
        "\n",
        "  return y_pred, y_true, confidence"
      ],
      "metadata": {
        "id": "_xB4h7fwi3CH"
      },
      "execution_count": 10,
      "outputs": []
    },
    {
      "cell_type": "code",
      "source": [
        "def plot_learning_curves(name, test_loss, train_loss, test_accuracy, train_accuracy):\n",
        "    plt.subplot(121)\n",
        "\n",
        "    plt.plot(train_accuracy, label=\"train\", c=\"tab:blue\")\n",
        "    plt.plot(test_accuracy, label=\"test\", c=\"tab:red\")\n",
        "\n",
        "    plt.title(f\"{name}\\naccuracy\")\n",
        "    plt.ylabel(\"%\")\n",
        "    plt.xlabel(\"epoch\")\n",
        "    plt.legend(loc=\"upper left\")\n",
        "    # plt.xlim(0, len(history))\n",
        "\n",
        "    plt.subplot(122)\n",
        "    plt.plot(train_loss, label=\"train\", c=\"tab:blue\")\n",
        "    plt.plot(test_loss, label=\"test\", c=\"tab:red\")\n",
        "\n",
        "    plt.title(f\"{name}\\nloss (CrossEntropyLoss)\")\n",
        "    plt.ylabel(\"loss\")\n",
        "    plt.xlabel(\"epoch\")\n",
        "    plt.legend(loc=\"upper left\")\n",
        "    # plt.xlim(0, len(history))\n",
        "    plt.ylim(0)\n",
        "    plt.tight_layout()\n",
        "    plt.show()"
      ],
      "metadata": {
        "id": "_Au1gQJJexo-"
      },
      "execution_count": 11,
      "outputs": []
    },
    {
      "cell_type": "code",
      "source": [
        "def train_and_plot_lc(net, name, trainDataloader, testDataloader, loss_fn, optimizer, epochs = 10, train_loop_func=train_loop, test_loop_func=test_loop):\n",
        "  early_stopping = EarlyStopping(patience=3, verbose=True)\n",
        "\n",
        "  test_loss = []\n",
        "  train_loss = []\n",
        "  test_accuracy = []\n",
        "  train_accuracy = []\n",
        "\n",
        "  for t in range(epochs):\n",
        "      print(f\"Epoch {t + 1}\\n-------------------------------\")\n",
        "      print(f\"Memory allocated: {(torch.cuda.memory_allocated()/1024/1024):.1f} MB\")\n",
        "      lossTrain, accuracyTrain = train_loop_func(trainDataloader, net, loss_fn, optimizer)\n",
        "      lossTest, accuracyTest = test_loop_func(testDataloader, net, loss_fn)\n",
        "\n",
        "      test_loss += [lossTest]\n",
        "      train_loss += [lossTrain]\n",
        "      test_accuracy += [accuracyTest]\n",
        "      train_accuracy += [accuracyTrain]\n",
        "\n",
        "      early_stopping(lossTest, net)\n",
        "\n",
        "      torch.save(net.state_dict(), f\"{DATA_DIR}{name}-{t}.pth\")\n",
        "      if early_stopping.early_stop:\n",
        "          print(f\"Early stopping, epoch {t + 1}\")\n",
        "          break\n",
        "\n",
        "  print(f\"Done! {name} trained.\")\n",
        "\n",
        "  plot_learning_curves(name, test_loss, train_loss, test_accuracy, train_accuracy)"
      ],
      "metadata": {
        "id": "mdFHWjZ0dsLd"
      },
      "execution_count": 12,
      "outputs": []
    },
    {
      "cell_type": "code",
      "source": [
        "def metrics(net, testDataloader, task=\"overall\", predict_func=predict):\n",
        "  y_pred, y_true, confidence = predict_func(net, testDataloader)\n",
        "\n",
        "  target_names = {\"overall\": [\"rating <= 4\", \"4 < rating < 7\", \"rating >= 7\"],\n",
        "                  \"effectiveness\": [\"Ineffective\", \"Marginally/Moderately Effective\", \"Considerably/Highly Effective\"],\n",
        "                  \"sideEffects\": [\"No Side Effects\", \"Mild/Moderate Side Effects\", \"Severe/Extremely Severe  Side Effects\"]}\n",
        "\n",
        "  print(classification_report(y_true, y_pred, target_names=target_names[task]))\n",
        "\n",
        "  print(\"\\n\\nAccuracy:\", accuracy_score(y_true, y_pred))\n",
        "  print(\"Balanced_accuracy:\", balanced_accuracy_score(y_true, y_pred))\n",
        "  print(\"F1:\", f1_score(y_true, y_pred, average='macro'))\n",
        "  print(\"Roc_auc:\", roc_auc_score(y_true, confidence, multi_class='ovr'))\n",
        "  print(\"Precision:\", precision_score(y_true, y_pred, average='macro'))\n",
        "  print(\"Recall:\", recall_score(y_true, y_pred, average='macro'))"
      ],
      "metadata": {
        "id": "mQqoNn6afpej"
      },
      "execution_count": 30,
      "outputs": []
    },
    {
      "cell_type": "markdown",
      "source": [
        "# Overall rating\n"
      ],
      "metadata": {
        "id": "JV21EJg2dex1"
      }
    },
    {
      "cell_type": "code",
      "source": [
        "overallTestDataset = DrugLib(DATA_DIR, train=False, task=\"overall\")\n",
        "overallTrainDataset = DrugLib(DATA_DIR, train=True, task=\"overall\")\n",
        "\n",
        "overallTestDataloader = DataLoader(overallTestDataset, batch_size=64)\n",
        "overallTrainDataloader = DataLoader(overallTrainDataset, sampler=overallTrainDataset.sampler, batch_size=64)"
      ],
      "metadata": {
        "colab": {
          "base_uri": "https://localhost:8080/"
        },
        "id": "KRyN9yqEkL7-",
        "outputId": "aec5f2eb-cbb1-4113-da6f-edb66039c03c"
      },
      "execution_count": 21,
      "outputs": [
        {
          "output_type": "stream",
          "name": "stdout",
          "text": [
            "Files already downloaded and verified\n",
            "Files already downloaded and verified\n"
          ]
        }
      ]
    },
    {
      "cell_type": "code",
      "source": [
        "plt.xlabel('# tokens per review')\n",
        "plt.ylabel('count')\n",
        "plt.hist([len(line) for line in overallTrainDataset.tokens], bins=range(0, 600, 50))\n",
        "plt.show()"
      ],
      "metadata": {
        "colab": {
          "base_uri": "https://localhost:8080/",
          "height": 279
        },
        "id": "jUYifYp7kaK7",
        "outputId": "23e619e9-7e8b-474c-e681-7b0369dff299"
      },
      "execution_count": null,
      "outputs": [
        {
          "output_type": "display_data",
          "data": {
            "text/plain": [
              "<Figure size 432x288 with 1 Axes>"
            ],
            "image/png": "[encoded data removed]"
          },
          "metadata": {
            "needs_background": "light"
          }
        }
      ]
    },
    {
      "cell_type": "markdown",
      "source": [
        "Trim all reviews up to 300 chars"
      ],
      "metadata": {
        "id": "20Cf8WZ-keOH"
      }
    },
    {
      "cell_type": "markdown",
      "source": [
        "## RNN"
      ],
      "metadata": {
        "id": "P0l3Ebz_lbAZ"
      }
    },
    {
      "cell_type": "code",
      "source": [
        "embed_size, num_hiddens, num_layers = 100, 64, 2\n",
        "rnn_overall = BiRNN(len(overallTrainDataset.vocab), embed_size, num_hiddens, num_layers, 3, nn.RNN).to(\"cuda\")\n",
        "initNet(rnn_overall, overallTrainDataset.vocab)"
      ],
      "metadata": {
        "id": "xdmz5WvoWqk_"
      },
      "execution_count": 41,
      "outputs": []
    },
    {
      "cell_type": "code",
      "source": [
        "loss_fn = nn.CrossEntropyLoss().to(\"cuda\")\n",
        "optimizer = Adam(rnn_overall.parameters(), lr=0.01)\n",
        "\n",
        "train_and_plot_lc(rnn_overall, \"RNN overall\", overallTrainDataloader, overallTestDataloader, loss_fn, optimizer, epochs = 10)"
      ],
      "metadata": {
        "id": "11oWolY-Wqif",
        "colab": {
          "base_uri": "https://localhost:8080/",
          "height": 1000
        },
        "outputId": "3fd18a4d-d3c5-4a51-8503-f1ea5d93c3f3"
      },
      "execution_count": 42,
      "outputs": [
        {
          "output_type": "stream",
          "name": "stdout",
          "text": [
            "Epoch 1\n",
            "-------------------------------\n",
            "Memory allocated: 10.7 MB\n",
            "Accuracy: 45.3%, Avg loss: 1.080992,\t[   64/ 3096]\n"
          ]
        },
        {
          "output_type": "stream",
          "name": "stderr",
          "text": [
            "/usr/local/lib/python3.7/dist-packages/ipykernel_launcher.py:31: UserWarning: Implicit dimension choice for softmax has been deprecated. Change the call to include dim=X as an argument.\n"
          ]
        },
        {
          "output_type": "stream",
          "name": "stdout",
          "text": [
            "Accuracy: 37.9%, Avg loss: 1.087921,\t[ 1344/ 3096]\n",
            "Accuracy: 38.9%, Avg loss: 0.998964,\t[ 2624/ 3096]\n",
            "Train accuracy: 39.7%, Avg loss: 1.128962 \n",
            "Memory allocated: 9.9 MB\n",
            "Test loss: 1.327464  [    0/ 1036]\n",
            "Test Error: \n",
            " Accuracy: 19.5%, Avg loss: 1.340703 \n",
            "\n",
            "Memory allocated: 9.9 MB\n",
            "Validation loss decreased (inf --> 1.340703).  Saving model ...\n",
            "Epoch 2\n",
            "-------------------------------\n",
            "Memory allocated: 9.9 MB\n",
            "Accuracy: 40.6%, Avg loss: 1.117382,\t[   64/ 3096]\n",
            "Accuracy: 43.4%, Avg loss: 1.059644,\t[ 1344/ 3096]\n",
            "Accuracy: 42.4%, Avg loss: 1.048896,\t[ 2624/ 3096]\n",
            "Train accuracy: 42.1%, Avg loss: 1.112589 \n",
            "Memory allocated: 9.9 MB\n",
            "Test loss: 1.188204  [    0/ 1036]\n",
            "Test Error: \n",
            " Accuracy: 26.9%, Avg loss: 1.265919 \n",
            "\n",
            "Memory allocated: 9.9 MB\n",
            "Validation loss decreased (1.340703 --> 1.265919).  Saving model ...\n",
            "Epoch 3\n",
            "-------------------------------\n",
            "Memory allocated: 9.9 MB\n",
            "Accuracy: 37.5%, Avg loss: 1.156043,\t[   64/ 3096]\n",
            "Accuracy: 38.3%, Avg loss: 1.185206,\t[ 1344/ 3096]\n",
            "Accuracy: 40.2%, Avg loss: 1.004321,\t[ 2624/ 3096]\n",
            "Train accuracy: 41.4%, Avg loss: 1.120992 \n",
            "Memory allocated: 9.9 MB\n",
            "Test loss: 1.022144  [    0/ 1036]\n",
            "Test Error: \n",
            " Accuracy: 41.4%, Avg loss: 1.117019 \n",
            "\n",
            "Memory allocated: 9.9 MB\n",
            "Validation loss decreased (1.265919 --> 1.117019).  Saving model ...\n",
            "Epoch 4\n",
            "-------------------------------\n",
            "Memory allocated: 9.9 MB\n",
            "Accuracy: 35.9%, Avg loss: 1.168563,\t[   64/ 3096]\n",
            "Accuracy: 44.2%, Avg loss: 1.077416,\t[ 1344/ 3096]\n",
            "Accuracy: 42.9%, Avg loss: 1.087046,\t[ 2624/ 3096]\n",
            "Train accuracy: 43.5%, Avg loss: 1.100475 \n",
            "Memory allocated: 9.9 MB\n",
            "Test loss: 1.255823  [    0/ 1036]\n",
            "Test Error: \n",
            " Accuracy: 28.8%, Avg loss: 1.247115 \n",
            "\n",
            "Memory allocated: 9.9 MB\n",
            "EarlyStopping counter: 1 out of 3\n",
            "Epoch 5\n",
            "-------------------------------\n",
            "Memory allocated: 9.9 MB\n",
            "Accuracy: 50.0%, Avg loss: 1.040128,\t[   64/ 3096]\n",
            "Accuracy: 44.4%, Avg loss: 1.152918,\t[ 1344/ 3096]\n",
            "Accuracy: 44.4%, Avg loss: 0.916074,\t[ 2624/ 3096]\n",
            "Train accuracy: 44.3%, Avg loss: 1.092652 \n",
            "Memory allocated: 9.9 MB\n",
            "Test loss: 1.059303  [    0/ 1036]\n",
            "Test Error: \n",
            " Accuracy: 40.4%, Avg loss: 1.120698 \n",
            "\n",
            "Memory allocated: 9.9 MB\n",
            "EarlyStopping counter: 2 out of 3\n",
            "Epoch 6\n",
            "-------------------------------\n",
            "Memory allocated: 9.9 MB\n",
            "Accuracy: 50.0%, Avg loss: 1.043900,\t[   64/ 3096]\n",
            "Accuracy: 45.2%, Avg loss: 1.056701,\t[ 1344/ 3096]\n",
            "Accuracy: 44.7%, Avg loss: 1.061735,\t[ 2624/ 3096]\n",
            "Train accuracy: 45.0%, Avg loss: 1.087847 \n",
            "Memory allocated: 9.9 MB\n",
            "Test loss: 1.073552  [    0/ 1036]\n",
            "Test Error: \n",
            " Accuracy: 42.4%, Avg loss: 1.109107 \n",
            "\n",
            "Memory allocated: 9.9 MB\n",
            "Validation loss decreased (1.117019 --> 1.109107).  Saving model ...\n",
            "Epoch 7\n",
            "-------------------------------\n",
            "Memory allocated: 9.9 MB\n",
            "Accuracy: 50.0%, Avg loss: 1.046126,\t[   64/ 3096]\n",
            "Accuracy: 47.6%, Avg loss: 0.979649,\t[ 1344/ 3096]\n",
            "Accuracy: 46.7%, Avg loss: 1.037471,\t[ 2624/ 3096]\n",
            "Train accuracy: 45.8%, Avg loss: 1.083163 \n",
            "Memory allocated: 9.9 MB\n",
            "Test loss: 1.229038  [    0/ 1036]\n",
            "Test Error: \n",
            " Accuracy: 29.2%, Avg loss: 1.248597 \n",
            "\n",
            "Memory allocated: 9.9 MB\n",
            "EarlyStopping counter: 1 out of 3\n",
            "Epoch 8\n",
            "-------------------------------\n",
            "Memory allocated: 9.9 MB\n",
            "Accuracy: 39.1%, Avg loss: 1.144712,\t[   64/ 3096]\n",
            "Accuracy: 44.3%, Avg loss: 1.033614,\t[ 1344/ 3096]\n",
            "Accuracy: 44.2%, Avg loss: 1.132054,\t[ 2624/ 3096]\n",
            "Train accuracy: 44.0%, Avg loss: 1.099600 \n",
            "Memory allocated: 9.9 MB\n",
            "Test loss: 1.030062  [    0/ 1036]\n",
            "Test Error: \n",
            " Accuracy: 45.9%, Avg loss: 1.060729 \n",
            "\n",
            "Memory allocated: 9.9 MB\n",
            "Validation loss decreased (1.109107 --> 1.060729).  Saving model ...\n",
            "Epoch 9\n",
            "-------------------------------\n",
            "Memory allocated: 9.9 MB\n",
            "Accuracy: 46.9%, Avg loss: 1.052949,\t[   64/ 3096]\n",
            "Accuracy: 46.1%, Avg loss: 1.086063,\t[ 1344/ 3096]\n",
            "Accuracy: 45.8%, Avg loss: 1.069666,\t[ 2624/ 3096]\n",
            "Train accuracy: 46.1%, Avg loss: 1.070204 \n",
            "Memory allocated: 9.9 MB\n",
            "Test loss: 1.061911  [    0/ 1036]\n",
            "Test Error: \n",
            " Accuracy: 34.0%, Avg loss: 1.163312 \n",
            "\n",
            "Memory allocated: 9.9 MB\n",
            "EarlyStopping counter: 1 out of 3\n",
            "Epoch 10\n",
            "-------------------------------\n",
            "Memory allocated: 9.9 MB\n",
            "Accuracy: 42.2%, Avg loss: 1.081426,\t[   64/ 3096]\n",
            "Accuracy: 46.7%, Avg loss: 1.105617,\t[ 1344/ 3096]\n",
            "Accuracy: 47.3%, Avg loss: 1.066708,\t[ 2624/ 3096]\n",
            "Train accuracy: 47.1%, Avg loss: 1.055070 \n",
            "Memory allocated: 9.9 MB\n",
            "Test loss: 1.048383  [    0/ 1036]\n",
            "Test Error: \n",
            " Accuracy: 36.2%, Avg loss: 1.151337 \n",
            "\n",
            "Memory allocated: 9.9 MB\n",
            "EarlyStopping counter: 2 out of 3\n",
            "Done! RNN overall trained.\n"
          ]
        },
        {
          "output_type": "display_data",
          "data": {
            "text/plain": [
              "<Figure size 432x288 with 2 Axes>"
            ],
            "image/png": "[encoded data removed]"
          },
          "metadata": {
            "needs_background": "light"
          }
        }
      ]
    },
    {
      "cell_type": "code",
      "source": [
        "rnn_overall.load_state_dict(torch.load(f\"{DATA_DIR}RNN overall-7.pth\"))\n",
        "metrics(rnn_overall, overallTestDataloader)"
      ],
      "metadata": {
        "id": "15HktsLpWqbH",
        "colab": {
          "base_uri": "https://localhost:8080/"
        },
        "outputId": "c5d835e2-4f44-4809-e0b1-05e3ce2c6052"
      },
      "execution_count": 43,
      "outputs": [
        {
          "output_type": "stream",
          "name": "stderr",
          "text": [
            "/usr/local/lib/python3.7/dist-packages/ipykernel_launcher.py:31: UserWarning: Implicit dimension choice for softmax has been deprecated. Change the call to include dim=X as an argument.\n",
            "/usr/local/lib/python3.7/dist-packages/ipykernel_launcher.py:18: UserWarning: Implicit dimension choice for softmax has been deprecated. Change the call to include dim=X as an argument.\n"
          ]
        },
        {
          "output_type": "stream",
          "name": "stdout",
          "text": [
            "Test:  [    0/ 1036]\n",
            "                precision    recall  f1-score   support\n",
            "\n",
            "   rating <= 4       0.27      0.38      0.31       241\n",
            "4 < rating < 7       0.11      0.10      0.11       125\n",
            "   rating >= 7       0.64      0.56      0.60       670\n",
            "\n",
            "      accuracy                           0.46      1036\n",
            "     macro avg       0.34      0.35      0.34      1036\n",
            "  weighted avg       0.49      0.46      0.47      1036\n",
            "\n",
            "\n",
            "\n",
            "Accuracy: 0.4594594594594595\n",
            "Balanced_accuracy: 0.34560574719762177\n",
            "F1: 0.33873868374377264\n",
            "Roc_auc: 0.5101378130210931\n",
            "Precision: 0.34058315092640856\n",
            "Recall: 0.34560574719762177\n"
          ]
        }
      ]
    },
    {
      "cell_type": "markdown",
      "source": [
        "## GRU"
      ],
      "metadata": {
        "id": "LV5KpQ91ldWb"
      }
    },
    {
      "cell_type": "code",
      "source": [
        "embed_size, num_hiddens, num_layers = 100, 64, 2\n",
        "gru_overall = BiRNN(len(overallTrainDataset.vocab), embed_size, num_hiddens, num_layers, 3, nn.GRU).to(\"cuda\")\n",
        "initNet(gru_overall, overallTrainDataset.vocab)"
      ],
      "metadata": {
        "id": "Ms3QRez_awqw"
      },
      "execution_count": 31,
      "outputs": []
    },
    {
      "cell_type": "code",
      "source": [
        "loss_fn = nn.CrossEntropyLoss().to(\"cuda\")\n",
        "optimizer = Adam(gru_overall.parameters(), lr=0.01)\n",
        "\n",
        "train_and_plot_lc(gru_overall, \"GRU overall\", overallTrainDataloader, overallTestDataloader, loss_fn, optimizer, epochs = 10)"
      ],
      "metadata": {
        "colab": {
          "base_uri": "https://localhost:8080/",
          "height": 1000
        },
        "id": "lLgFi3X9GXeV",
        "outputId": "b995271d-b07a-4498-dd8f-4b01ae287c0b"
      },
      "execution_count": 32,
      "outputs": [
        {
          "output_type": "stream",
          "name": "stdout",
          "text": [
            "Epoch 1\n",
            "-------------------------------\n",
            "Memory allocated: 9.7 MB\n"
          ]
        },
        {
          "output_type": "stream",
          "name": "stderr",
          "text": [
            "/usr/local/lib/python3.7/dist-packages/ipykernel_launcher.py:31: UserWarning: Implicit dimension choice for softmax has been deprecated. Change the call to include dim=X as an argument.\n"
          ]
        },
        {
          "output_type": "stream",
          "name": "stdout",
          "text": [
            "Accuracy: 31.2%, Avg loss: 1.102310,\t[   64/ 3096]\n",
            "Accuracy: 41.7%, Avg loss: 1.049456,\t[ 1344/ 3096]\n",
            "Accuracy: 44.8%, Avg loss: 0.885372,\t[ 2624/ 3096]\n",
            "Train accuracy: 45.7%, Avg loss: 1.044045 \n",
            "Memory allocated: 7.7 MB\n",
            "Test loss: 1.167955  [    0/ 1036]\n",
            "Test Error: \n",
            " Accuracy: 29.5%, Avg loss: 1.191159 \n",
            "\n",
            "Memory allocated: 7.7 MB\n",
            "Validation loss decreased (inf --> 1.191159).  Saving model ...\n",
            "Epoch 2\n",
            "-------------------------------\n",
            "Memory allocated: 7.7 MB\n",
            "Accuracy: 37.5%, Avg loss: 1.126403,\t[   64/ 3096]\n",
            "Accuracy: 52.0%, Avg loss: 1.057804,\t[ 1344/ 3096]\n",
            "Accuracy: 57.1%, Avg loss: 0.885020,\t[ 2624/ 3096]\n",
            "Train accuracy: 56.8%, Avg loss: 0.962150 \n",
            "Memory allocated: 7.7 MB\n",
            "Test loss: 1.162833  [    0/ 1036]\n",
            "Test Error: \n",
            " Accuracy: 31.9%, Avg loss: 1.194088 \n",
            "\n",
            "Memory allocated: 7.7 MB\n",
            "EarlyStopping counter: 1 out of 3\n",
            "Epoch 3\n",
            "-------------------------------\n",
            "Memory allocated: 7.7 MB\n",
            "Accuracy: 53.1%, Avg loss: 1.014631,\t[   64/ 3096]\n",
            "Accuracy: 62.7%, Avg loss: 0.853494,\t[ 1344/ 3096]\n",
            "Accuracy: 64.2%, Avg loss: 0.893994,\t[ 2624/ 3096]\n",
            "Train accuracy: 65.4%, Avg loss: 0.890466 \n",
            "Memory allocated: 7.7 MB\n",
            "Test loss: 1.212213  [    0/ 1036]\n",
            "Test Error: \n",
            " Accuracy: 31.5%, Avg loss: 1.212736 \n",
            "\n",
            "Memory allocated: 7.7 MB\n",
            "EarlyStopping counter: 2 out of 3\n",
            "Epoch 4\n",
            "-------------------------------\n",
            "Memory allocated: 7.7 MB\n",
            "Accuracy: 67.2%, Avg loss: 0.891958,\t[   64/ 3096]\n",
            "Accuracy: 65.8%, Avg loss: 0.930732,\t[ 1344/ 3096]\n",
            "Accuracy: 66.1%, Avg loss: 0.843447,\t[ 2624/ 3096]\n",
            "Train accuracy: 65.8%, Avg loss: 0.880284 \n",
            "Memory allocated: 7.7 MB\n",
            "Test loss: 1.118397  [    0/ 1036]\n",
            "Test Error: \n",
            " Accuracy: 35.4%, Avg loss: 1.179585 \n",
            "\n",
            "Memory allocated: 7.7 MB\n",
            "Validation loss decreased (1.191159 --> 1.179585).  Saving model ...\n",
            "Epoch 5\n",
            "-------------------------------\n",
            "Memory allocated: 7.7 MB\n",
            "Accuracy: 60.9%, Avg loss: 0.946467,\t[   64/ 3096]\n",
            "Accuracy: 64.8%, Avg loss: 0.952254,\t[ 1344/ 3096]\n",
            "Accuracy: 66.5%, Avg loss: 0.965028,\t[ 2624/ 3096]\n",
            "Train accuracy: 66.2%, Avg loss: 0.875929 \n",
            "Memory allocated: 7.7 MB\n",
            "Test loss: 0.914646  [    0/ 1036]\n",
            "Test Error: \n",
            " Accuracy: 52.0%, Avg loss: 1.000015 \n",
            "\n",
            "Memory allocated: 7.7 MB\n",
            "Validation loss decreased (1.179585 --> 1.000015).  Saving model ...\n",
            "Epoch 6\n",
            "-------------------------------\n",
            "Memory allocated: 7.7 MB\n",
            "Accuracy: 62.5%, Avg loss: 0.923159,\t[   64/ 3096]\n",
            "Accuracy: 64.7%, Avg loss: 0.882020,\t[ 1344/ 3096]\n",
            "Accuracy: 65.3%, Avg loss: 0.845182,\t[ 2624/ 3096]\n",
            "Train accuracy: 65.7%, Avg loss: 0.882815 \n",
            "Memory allocated: 7.7 MB\n",
            "Test loss: 1.111245  [    0/ 1036]\n",
            "Test Error: \n",
            " Accuracy: 36.8%, Avg loss: 1.150342 \n",
            "\n",
            "Memory allocated: 7.7 MB\n",
            "EarlyStopping counter: 1 out of 3\n",
            "Epoch 7\n",
            "-------------------------------\n",
            "Memory allocated: 7.7 MB\n",
            "Accuracy: 56.2%, Avg loss: 0.953772,\t[   64/ 3096]\n",
            "Accuracy: 65.1%, Avg loss: 0.888633,\t[ 1344/ 3096]\n",
            "Accuracy: 67.1%, Avg loss: 0.895758,\t[ 2624/ 3096]\n",
            "Train accuracy: 67.3%, Avg loss: 0.868793 \n",
            "Memory allocated: 7.7 MB\n",
            "Test loss: 1.017291  [    0/ 1036]\n",
            "Test Error: \n",
            " Accuracy: 45.8%, Avg loss: 1.077813 \n",
            "\n",
            "Memory allocated: 7.7 MB\n",
            "EarlyStopping counter: 2 out of 3\n",
            "Epoch 8\n",
            "-------------------------------\n",
            "Memory allocated: 7.7 MB\n",
            "Accuracy: 71.9%, Avg loss: 0.825284,\t[   64/ 3096]\n",
            "Accuracy: 70.4%, Avg loss: 0.800310,\t[ 1344/ 3096]\n",
            "Accuracy: 70.6%, Avg loss: 0.823627,\t[ 2624/ 3096]\n",
            "Train accuracy: 70.9%, Avg loss: 0.837025 \n",
            "Memory allocated: 7.7 MB\n",
            "Test loss: 1.052160  [    0/ 1036]\n",
            "Test Error: \n",
            " Accuracy: 54.1%, Avg loss: 0.985564 \n",
            "\n",
            "Memory allocated: 7.7 MB\n",
            "Validation loss decreased (1.000015 --> 0.985564).  Saving model ...\n",
            "Epoch 9\n",
            "-------------------------------\n",
            "Memory allocated: 7.7 MB\n",
            "Accuracy: 67.2%, Avg loss: 0.872612,\t[   64/ 3096]\n",
            "Accuracy: 73.2%, Avg loss: 0.806198,\t[ 1344/ 3096]\n",
            "Accuracy: 74.4%, Avg loss: 0.753323,\t[ 2624/ 3096]\n",
            "Train accuracy: 75.0%, Avg loss: 0.796894 \n",
            "Memory allocated: 7.7 MB\n",
            "Test loss: 0.978949  [    0/ 1036]\n",
            "Test Error: \n",
            " Accuracy: 53.1%, Avg loss: 1.009107 \n",
            "\n",
            "Memory allocated: 7.7 MB\n",
            "EarlyStopping counter: 1 out of 3\n",
            "Epoch 10\n",
            "-------------------------------\n",
            "Memory allocated: 7.7 MB\n",
            "Accuracy: 84.4%, Avg loss: 0.724585,\t[   64/ 3096]\n",
            "Accuracy: 76.6%, Avg loss: 0.767087,\t[ 1344/ 3096]\n",
            "Accuracy: 76.0%, Avg loss: 0.743711,\t[ 2624/ 3096]\n",
            "Train accuracy: 76.0%, Avg loss: 0.785372 \n",
            "Memory allocated: 7.7 MB\n",
            "Test loss: 0.909765  [    0/ 1036]\n",
            "Test Error: \n",
            " Accuracy: 57.5%, Avg loss: 0.950172 \n",
            "\n",
            "Memory allocated: 7.7 MB\n",
            "Validation loss decreased (0.985564 --> 0.950172).  Saving model ...\n",
            "Done! GRU overall trained.\n"
          ]
        },
        {
          "output_type": "display_data",
          "data": {
            "text/plain": [
              "<Figure size 432x288 with 2 Axes>"
            ],
            "image/png": "[encoded data removed]"
          },
          "metadata": {
            "needs_background": "light"
          }
        }
      ]
    },
    {
      "cell_type": "code",
      "source": [
        "gru_overall.load_state_dict(torch.load(f\"{DATA_DIR}GRU overall-9.pth\"))\n",
        "metrics(gru_overall, overallTestDataloader)"
      ],
      "metadata": {
        "colab": {
          "base_uri": "https://localhost:8080/"
        },
        "id": "BjdfFO-AGdf1",
        "outputId": "e433ac9c-7cd0-4020-e1eb-05d3603cd05a"
      },
      "execution_count": 33,
      "outputs": [
        {
          "output_type": "stream",
          "name": "stderr",
          "text": [
            "/usr/local/lib/python3.7/dist-packages/ipykernel_launcher.py:31: UserWarning: Implicit dimension choice for softmax has been deprecated. Change the call to include dim=X as an argument.\n",
            "/usr/local/lib/python3.7/dist-packages/ipykernel_launcher.py:18: UserWarning: Implicit dimension choice for softmax has been deprecated. Change the call to include dim=X as an argument.\n"
          ]
        },
        {
          "output_type": "stream",
          "name": "stdout",
          "text": [
            "Test:  [    0/ 1036]\n",
            "                precision    recall  f1-score   support\n",
            "\n",
            "   rating <= 4       0.33      0.27      0.29       241\n",
            "4 < rating < 7       0.13      0.05      0.07       125\n",
            "   rating >= 7       0.66      0.79      0.72       670\n",
            "\n",
            "      accuracy                           0.58      1036\n",
            "     macro avg       0.37      0.37      0.36      1036\n",
            "  weighted avg       0.52      0.58      0.54      1036\n",
            "\n",
            "\n",
            "\n",
            "Accuracy: 0.5752895752895753\n",
            "Balanced_accuracy: 0.3662115976135918\n",
            "F1: 0.36070301754168294\n",
            "Roc_auc: 0.5641023119545839\n",
            "Precision: 0.37306390060345535\n",
            "Recall: 0.3662115976135918\n"
          ]
        }
      ]
    },
    {
      "cell_type": "markdown",
      "source": [
        "## LSTM"
      ],
      "metadata": {
        "id": "eGWzYQ96lihb"
      }
    },
    {
      "cell_type": "code",
      "source": [
        "embed_size, num_hiddens, num_layers = 100, 64, 2\n",
        "lstm_overall = BiRNN(len(overallTrainDataset.vocab), embed_size, num_hiddens, num_layers, 3, nn.LSTM).to(\"cuda\")\n",
        "initNet(lstm_overall, overallTrainDataset.vocab)"
      ],
      "metadata": {
        "id": "_C-h8KAgEpGk"
      },
      "execution_count": 35,
      "outputs": []
    },
    {
      "cell_type": "code",
      "source": [
        "loss_fn = nn.CrossEntropyLoss().to(\"cuda\")\n",
        "optimizer = Adam(lstm_overall.parameters(), lr=0.01)\n",
        "\n",
        "train_and_plot_lc(lstm_overall, \"LSTM overall\", overallTrainDataloader, overallTestDataloader, loss_fn, optimizer, epochs = 10)"
      ],
      "metadata": {
        "colab": {
          "base_uri": "https://localhost:8080/",
          "height": 1000
        },
        "id": "p_zV0QkkIqD1",
        "outputId": "aed1109a-e5ac-4369-d788-5c83f5a7f144"
      },
      "execution_count": 36,
      "outputs": [
        {
          "output_type": "stream",
          "name": "stdout",
          "text": [
            "Epoch 1\n",
            "-------------------------------\n",
            "Memory allocated: 9.9 MB\n"
          ]
        },
        {
          "output_type": "stream",
          "name": "stderr",
          "text": [
            "/usr/local/lib/python3.7/dist-packages/ipykernel_launcher.py:31: UserWarning: Implicit dimension choice for softmax has been deprecated. Change the call to include dim=X as an argument.\n"
          ]
        },
        {
          "output_type": "stream",
          "name": "stdout",
          "text": [
            "Accuracy: 28.1%, Avg loss: 1.100326,\t[   64/ 3096]\n",
            "Accuracy: 38.8%, Avg loss: 1.027839,\t[ 1344/ 3096]\n",
            "Accuracy: 44.3%, Avg loss: 1.024462,\t[ 2624/ 3096]\n",
            "Train accuracy: 45.5%, Avg loss: 1.034986 \n",
            "Memory allocated: 11.0 MB\n",
            "Test loss: 1.000962  [    0/ 1036]\n",
            "Test Error: \n",
            " Accuracy: 59.5%, Avg loss: 0.980976 \n",
            "\n",
            "Memory allocated: 10.9 MB\n",
            "Validation loss decreased (inf --> 0.980976).  Saving model ...\n",
            "Epoch 2\n",
            "-------------------------------\n",
            "Memory allocated: 10.9 MB\n",
            "Accuracy: 43.8%, Avg loss: 1.061628,\t[   64/ 3096]\n",
            "Accuracy: 50.4%, Avg loss: 0.958737,\t[ 1344/ 3096]\n",
            "Accuracy: 51.2%, Avg loss: 1.023880,\t[ 2624/ 3096]\n",
            "Train accuracy: 51.1%, Avg loss: 1.005266 \n",
            "Memory allocated: 11.0 MB\n",
            "Test loss: 1.128875  [    0/ 1036]\n",
            "Test Error: \n",
            " Accuracy: 32.5%, Avg loss: 1.152173 \n",
            "\n",
            "Memory allocated: 10.9 MB\n",
            "EarlyStopping counter: 1 out of 3\n",
            "Epoch 3\n",
            "-------------------------------\n",
            "Memory allocated: 10.9 MB\n",
            "Accuracy: 54.7%, Avg loss: 0.996996,\t[   64/ 3096]\n",
            "Accuracy: 59.2%, Avg loss: 0.847793,\t[ 1344/ 3096]\n",
            "Accuracy: 60.6%, Avg loss: 0.951646,\t[ 2624/ 3096]\n",
            "Train accuracy: 61.4%, Avg loss: 0.919373 \n",
            "Memory allocated: 11.0 MB\n",
            "Test loss: 1.081990  [    0/ 1036]\n",
            "Test Error: \n",
            " Accuracy: 45.7%, Avg loss: 1.055626 \n",
            "\n",
            "Memory allocated: 10.9 MB\n",
            "EarlyStopping counter: 2 out of 3\n",
            "Epoch 4\n",
            "-------------------------------\n",
            "Memory allocated: 10.9 MB\n",
            "Accuracy: 59.4%, Avg loss: 0.903575,\t[   64/ 3096]\n",
            "Accuracy: 61.4%, Avg loss: 0.897303,\t[ 1344/ 3096]\n",
            "Accuracy: 63.4%, Avg loss: 0.831785,\t[ 2624/ 3096]\n",
            "Train accuracy: 64.6%, Avg loss: 0.894889 \n",
            "Memory allocated: 11.0 MB\n",
            "Test loss: 1.098261  [    0/ 1036]\n",
            "Test Error: \n",
            " Accuracy: 43.1%, Avg loss: 1.080910 \n",
            "\n",
            "Memory allocated: 10.9 MB\n",
            "EarlyStopping counter: 3 out of 3\n",
            "Early stopping, epoch 4\n",
            "Done! LSTM overall trained.\n"
          ]
        },
        {
          "output_type": "display_data",
          "data": {
            "text/plain": [
              "<Figure size 432x288 with 2 Axes>"
            ],
            "image/png": "[encoded data removed]"
          },
          "metadata": {
            "needs_background": "light"
          }
        }
      ]
    },
    {
      "cell_type": "code",
      "source": [
        "lstm_overall.load_state_dict(torch.load(f\"{DATA_DIR}LSTM overall-3.pth\"))\n",
        "metrics(lstm_overall, overallTestDataloader)"
      ],
      "metadata": {
        "colab": {
          "base_uri": "https://localhost:8080/"
        },
        "id": "sjHMTrrnIp8R",
        "outputId": "bf7667df-54e8-40a8-a2fa-9d3184955d79"
      },
      "execution_count": 37,
      "outputs": [
        {
          "output_type": "stream",
          "name": "stderr",
          "text": [
            "/usr/local/lib/python3.7/dist-packages/ipykernel_launcher.py:31: UserWarning: Implicit dimension choice for softmax has been deprecated. Change the call to include dim=X as an argument.\n",
            "/usr/local/lib/python3.7/dist-packages/ipykernel_launcher.py:18: UserWarning: Implicit dimension choice for softmax has been deprecated. Change the call to include dim=X as an argument.\n"
          ]
        },
        {
          "output_type": "stream",
          "name": "stdout",
          "text": [
            "Test:  [    0/ 1036]\n",
            "                precision    recall  f1-score   support\n",
            "\n",
            "   rating <= 4       0.33      0.32      0.32       241\n",
            "4 < rating < 7       0.11      0.28      0.16       125\n",
            "   rating >= 7       0.68      0.50      0.58       670\n",
            "\n",
            "      accuracy                           0.43      1036\n",
            "     macro avg       0.37      0.37      0.35      1036\n",
            "  weighted avg       0.53      0.43      0.47      1036\n",
            "\n",
            "\n",
            "\n",
            "Accuracy: 0.4305019305019305\n",
            "Balanced_accuracy: 0.3651175656984786\n",
            "F1: 0.35304949805428415\n",
            "Roc_auc: 0.5429990276705887\n",
            "Precision: 0.3743119844360206\n",
            "Recall: 0.3651175656984786\n"
          ]
        }
      ]
    },
    {
      "cell_type": "markdown",
      "source": [
        "# Side effects"
      ],
      "metadata": {
        "id": "NSuFmhdHIDKq"
      }
    },
    {
      "cell_type": "code",
      "source": [
        "seTestDataset = DrugLib(DATA_DIR, train=False, task=\"sideEffects\")\n",
        "seTrainDataset = DrugLib(DATA_DIR, train=True, task=\"sideEffects\")\n",
        "\n",
        "seTestDataloader = DataLoader(seTestDataset, batch_size=64)\n",
        "seTrainDataloader = DataLoader(seTrainDataset, sampler=seTrainDataset.sampler, batch_size=64)"
      ],
      "metadata": {
        "colab": {
          "base_uri": "https://localhost:8080/"
        },
        "id": "5KCT--TIH8aJ",
        "outputId": "65642bff-f99a-4295-df55-22b82cb38516"
      },
      "execution_count": 15,
      "outputs": [
        {
          "output_type": "stream",
          "name": "stdout",
          "text": [
            "Files already downloaded and verified\n",
            "Files already downloaded and verified\n"
          ]
        }
      ]
    },
    {
      "cell_type": "code",
      "source": [
        "plt.xlabel('# tokens per review')\n",
        "plt.ylabel('count')\n",
        "plt.hist([len(line) for line in seTrainDataset.tokens], bins=range(0, 600, 50))\n",
        "plt.show()"
      ],
      "metadata": {
        "colab": {
          "base_uri": "https://localhost:8080/",
          "height": 279
        },
        "id": "wokqybIIIHgU",
        "outputId": "def33cca-a96a-4c2c-8ba1-8e7f2e40d5aa"
      },
      "execution_count": 40,
      "outputs": [
        {
          "output_type": "display_data",
          "data": {
            "text/plain": [
              "<Figure size 432x288 with 1 Axes>"
            ],
            "image/png": "[encoded data removed]"
          },
          "metadata": {
            "needs_background": "light"
          }
        }
      ]
    },
    {
      "cell_type": "markdown",
      "source": [
        "Reduce rewiews to 200 tokens"
      ],
      "metadata": {
        "id": "RVsOKOOnJm3t"
      }
    },
    {
      "cell_type": "markdown",
      "source": [
        "## RNN"
      ],
      "metadata": {
        "id": "DtC7Smg0J-dN"
      }
    },
    {
      "cell_type": "code",
      "source": [
        "embed_size, num_hiddens, num_layers = 100, 64, 2\n",
        "rnn_se = BiRNN(len(seTrainDataset.vocab), embed_size, num_hiddens, num_layers, 3, nn.RNN).to(\"cuda\")\n",
        "initNet(rnn_se, seTrainDataset.vocab)"
      ],
      "metadata": {
        "id": "MPaBQTzULPWo"
      },
      "execution_count": 16,
      "outputs": []
    },
    {
      "cell_type": "code",
      "source": [
        "loss_fn = nn.CrossEntropyLoss().to(\"cuda\")\n",
        "optimizer = Adam(rnn_se.parameters(), lr=0.01)\n",
        "\n",
        "train_and_plot_lc(rnn_se, \"RNN Side Effects\", seTrainDataloader, seTestDataloader, loss_fn, optimizer, epochs = 10)\n"
      ],
      "metadata": {
        "colab": {
          "base_uri": "https://localhost:8080/",
          "height": 1000
        },
        "id": "SOh17p5xLeGE",
        "outputId": "b28061d3-7e42-4ab6-afd3-12d5d0dbcfa6"
      },
      "execution_count": 46,
      "outputs": [
        {
          "output_type": "stream",
          "name": "stdout",
          "text": [
            "Epoch 1\n",
            "-------------------------------\n",
            "Memory allocated: 10.7 MB\n",
            "Accuracy: 35.9%, Avg loss: 1.088464,\t[   64/ 3096]\n"
          ]
        },
        {
          "output_type": "stream",
          "name": "stderr",
          "text": [
            "/usr/local/lib/python3.7/dist-packages/ipykernel_launcher.py:31: UserWarning: Implicit dimension choice for softmax has been deprecated. Change the call to include dim=X as an argument.\n"
          ]
        },
        {
          "output_type": "stream",
          "name": "stdout",
          "text": [
            "Accuracy: 53.4%, Avg loss: 1.034721,\t[ 1344/ 3096]\n",
            "Accuracy: 55.3%, Avg loss: 0.849628,\t[ 2624/ 3096]\n",
            "Train accuracy: 55.2%, Avg loss: 0.984958 \n",
            "Memory allocated: 10.9 MB\n",
            "Test loss: 1.136219  [    0/ 1036]\n",
            "Test Error: \n",
            " Accuracy: 42.5%, Avg loss: 1.088595 \n",
            "\n",
            "Memory allocated: 10.9 MB\n",
            "Validation loss decreased (inf --> 1.088595).  Saving model ...\n",
            "Epoch 2\n",
            "-------------------------------\n",
            "Memory allocated: 10.9 MB\n",
            "Accuracy: 59.4%, Avg loss: 0.943489,\t[   64/ 3096]\n",
            "Accuracy: 62.4%, Avg loss: 0.931104,\t[ 1344/ 3096]\n",
            "Accuracy: 61.1%, Avg loss: 0.870223,\t[ 2624/ 3096]\n",
            "Train accuracy: 61.8%, Avg loss: 0.923389 \n",
            "Memory allocated: 10.9 MB\n",
            "Test loss: 1.197353  [    0/ 1036]\n",
            "Test Error: \n",
            " Accuracy: 31.8%, Avg loss: 1.210202 \n",
            "\n",
            "Memory allocated: 10.9 MB\n",
            "EarlyStopping counter: 1 out of 3\n",
            "Epoch 3\n",
            "-------------------------------\n",
            "Memory allocated: 10.9 MB\n",
            "Accuracy: 67.2%, Avg loss: 0.881296,\t[   64/ 3096]\n",
            "Accuracy: 60.8%, Avg loss: 0.898967,\t[ 1344/ 3096]\n",
            "Accuracy: 59.7%, Avg loss: 0.965357,\t[ 2624/ 3096]\n",
            "Train accuracy: 59.7%, Avg loss: 0.941552 \n",
            "Memory allocated: 10.9 MB\n",
            "Test loss: 1.150511  [    0/ 1036]\n",
            "Test Error: \n",
            " Accuracy: 35.8%, Avg loss: 1.170139 \n",
            "\n",
            "Memory allocated: 10.9 MB\n",
            "EarlyStopping counter: 2 out of 3\n",
            "Epoch 4\n",
            "-------------------------------\n",
            "Memory allocated: 10.9 MB\n",
            "Accuracy: 62.5%, Avg loss: 0.882614,\t[   64/ 3096]\n",
            "Accuracy: 64.3%, Avg loss: 0.908099,\t[ 1344/ 3096]\n",
            "Accuracy: 65.2%, Avg loss: 0.978216,\t[ 2624/ 3096]\n",
            "Train accuracy: 65.1%, Avg loss: 0.884785 \n",
            "Memory allocated: 10.9 MB\n",
            "Test loss: 1.066043  [    0/ 1036]\n",
            "Test Error: \n",
            " Accuracy: 47.7%, Avg loss: 1.062402 \n",
            "\n",
            "Memory allocated: 10.9 MB\n",
            "Validation loss decreased (1.088595 --> 1.062402).  Saving model ...\n",
            "Epoch 5\n",
            "-------------------------------\n",
            "Memory allocated: 10.9 MB\n",
            "Accuracy: 68.8%, Avg loss: 0.851447,\t[   64/ 3096]\n",
            "Accuracy: 67.6%, Avg loss: 0.856862,\t[ 1344/ 3096]\n",
            "Accuracy: 66.7%, Avg loss: 0.938679,\t[ 2624/ 3096]\n",
            "Train accuracy: 66.1%, Avg loss: 0.876390 \n",
            "Memory allocated: 10.9 MB\n",
            "Test loss: 1.018719  [    0/ 1036]\n",
            "Test Error: \n",
            " Accuracy: 54.2%, Avg loss: 1.013118 \n",
            "\n",
            "Memory allocated: 10.9 MB\n",
            "Validation loss decreased (1.062402 --> 1.013118).  Saving model ...\n",
            "Epoch 6\n",
            "-------------------------------\n",
            "Memory allocated: 10.9 MB\n",
            "Accuracy: 51.6%, Avg loss: 1.046580,\t[   64/ 3096]\n",
            "Accuracy: 65.4%, Avg loss: 0.944813,\t[ 1344/ 3096]\n",
            "Accuracy: 65.2%, Avg loss: 0.955368,\t[ 2624/ 3096]\n",
            "Train accuracy: 65.8%, Avg loss: 0.890014 \n",
            "Memory allocated: 10.9 MB\n",
            "Test loss: 1.112299  [    0/ 1036]\n",
            "Test Error: \n",
            " Accuracy: 45.7%, Avg loss: 1.088913 \n",
            "\n",
            "Memory allocated: 10.9 MB\n",
            "EarlyStopping counter: 1 out of 3\n",
            "Epoch 7\n",
            "-------------------------------\n",
            "Memory allocated: 10.9 MB\n",
            "Accuracy: 68.8%, Avg loss: 0.845213,\t[   64/ 3096]\n",
            "Accuracy: 66.5%, Avg loss: 0.891533,\t[ 1344/ 3096]\n",
            "Accuracy: 67.3%, Avg loss: 0.904596,\t[ 2624/ 3096]\n",
            "Train accuracy: 67.9%, Avg loss: 0.863398 \n",
            "Memory allocated: 10.9 MB\n",
            "Test loss: 1.141350  [    0/ 1036]\n",
            "Test Error: \n",
            " Accuracy: 38.8%, Avg loss: 1.160471 \n",
            "\n",
            "Memory allocated: 10.9 MB\n",
            "EarlyStopping counter: 2 out of 3\n",
            "Epoch 8\n",
            "-------------------------------\n",
            "Memory allocated: 10.9 MB\n",
            "Accuracy: 68.8%, Avg loss: 0.869990,\t[   64/ 3096]\n",
            "Accuracy: 71.1%, Avg loss: 0.857260,\t[ 1344/ 3096]\n",
            "Accuracy: 69.8%, Avg loss: 1.011908,\t[ 2624/ 3096]\n",
            "Train accuracy: 69.7%, Avg loss: 0.849184 \n",
            "Memory allocated: 10.9 MB\n",
            "Test loss: 1.074749  [    0/ 1036]\n",
            "Test Error: \n",
            " Accuracy: 43.3%, Avg loss: 1.109434 \n",
            "\n",
            "Memory allocated: 10.9 MB\n",
            "EarlyStopping counter: 3 out of 3\n",
            "Early stopping, epoch 8\n",
            "Done! RNN Side Effects trained.\n"
          ]
        },
        {
          "output_type": "display_data",
          "data": {
            "text/plain": [
              "<Figure size 432x288 with 2 Axes>"
            ],
            "image/png": "[encoded data removed]"
          },
          "metadata": {
            "needs_background": "light"
          }
        }
      ]
    },
    {
      "cell_type": "code",
      "source": [
        "rnn_se.load_state_dict(torch.load(f\"{DATA_DIR}RNN Side Effects-4.pth\"))\n",
        "metrics(rnn_se, seTestDataloader, \"sideEffects\")"
      ],
      "metadata": {
        "colab": {
          "base_uri": "https://localhost:8080/"
        },
        "id": "DnGhcE8ALd64",
        "outputId": "c80bb0d5-f8a8-44ba-f343-02bb1a35fd6c"
      },
      "execution_count": 17,
      "outputs": [
        {
          "output_type": "stream",
          "name": "stderr",
          "text": [
            "/usr/local/lib/python3.7/dist-packages/ipykernel_launcher.py:31: UserWarning: Implicit dimension choice for softmax has been deprecated. Change the call to include dim=X as an argument.\n",
            "/usr/local/lib/python3.7/dist-packages/ipykernel_launcher.py:18: UserWarning: Implicit dimension choice for softmax has been deprecated. Change the call to include dim=X as an argument.\n"
          ]
        },
        {
          "output_type": "stream",
          "name": "stdout",
          "text": [
            "Test:  [    0/ 1036]\n",
            "                                       precision    recall  f1-score   support\n",
            "\n",
            "                      No Side Effects       0.25      0.01      0.02       268\n",
            "           Mild/Moderate Side Effects       0.55      0.98      0.70       566\n",
            "Severe/Extremely Severe  Side Effects       0.40      0.02      0.04       202\n",
            "\n",
            "                             accuracy                           0.54      1036\n",
            "                            macro avg       0.40      0.34      0.25      1036\n",
            "                         weighted avg       0.44      0.54      0.40      1036\n",
            "\n",
            "\n",
            "\n",
            "Accuracy: 0.5424710424710425\n",
            "Balanced_accuracy: 0.3371871270245003\n",
            "F1: 0.2538986886849318\n",
            "Roc_auc: 0.48702699577947023\n",
            "Precision: 0.399112426035503\n",
            "Recall: 0.3371871270245003\n"
          ]
        }
      ]
    },
    {
      "cell_type": "markdown",
      "source": [
        "## GRU"
      ],
      "metadata": {
        "id": "lkgsPh4ZJ-Sf"
      }
    },
    {
      "cell_type": "code",
      "source": [
        "embed_size, num_hiddens, num_layers = 100, 64, 2\n",
        "gru_se = BiRNN(len(seTrainDataset.vocab), embed_size, num_hiddens, num_layers, 3, nn.GRU).to(\"cuda\")\n",
        "initNet(gru_se, seTrainDataset.vocab)"
      ],
      "metadata": {
        "id": "TWwUaKKjLeg-"
      },
      "execution_count": 18,
      "outputs": []
    },
    {
      "cell_type": "code",
      "source": [
        "loss_fn = nn.CrossEntropyLoss().to(\"cuda\")\n",
        "optimizer = Adam(gru_se.parameters(), lr=0.01)\n",
        "\n",
        "train_and_plot_lc(gru_se, \"GRU Side Effects\", seTrainDataloader, seTestDataloader, loss_fn, optimizer, epochs = 10)\n"
      ],
      "metadata": {
        "colab": {
          "base_uri": "https://localhost:8080/",
          "height": 1000
        },
        "id": "IrUzQWB5LeaR",
        "outputId": "6a4d23df-28e3-4bc1-860b-7fa44a4e36a3"
      },
      "execution_count": 49,
      "outputs": [
        {
          "output_type": "stream",
          "name": "stdout",
          "text": [
            "Epoch 1\n",
            "-------------------------------\n",
            "Memory allocated: 12.0 MB\n",
            "Accuracy: 25.0%, Avg loss: 1.110427,\t[   64/ 3096]\n"
          ]
        },
        {
          "output_type": "stream",
          "name": "stderr",
          "text": [
            "/usr/local/lib/python3.7/dist-packages/ipykernel_launcher.py:31: UserWarning: Implicit dimension choice for softmax has been deprecated. Change the call to include dim=X as an argument.\n"
          ]
        },
        {
          "output_type": "stream",
          "name": "stdout",
          "text": [
            "Accuracy: 61.2%, Avg loss: 0.893197,\t[ 1344/ 3096]\n",
            "Accuracy: 65.0%, Avg loss: 0.943275,\t[ 2624/ 3096]\n",
            "Train accuracy: 65.9%, Avg loss: 0.874549 \n",
            "Memory allocated: 13.3 MB\n",
            "Test loss: 1.026919  [    0/ 1036]\n",
            "Test Error: \n",
            " Accuracy: 55.4%, Avg loss: 1.000553 \n",
            "\n",
            "Memory allocated: 13.3 MB\n",
            "Validation loss decreased (inf --> 1.000553).  Saving model ...\n",
            "Epoch 2\n",
            "-------------------------------\n",
            "Memory allocated: 13.3 MB\n",
            "Accuracy: 79.7%, Avg loss: 0.755625,\t[   64/ 3096]\n",
            "Accuracy: 73.3%, Avg loss: 0.801427,\t[ 1344/ 3096]\n",
            "Accuracy: 75.5%, Avg loss: 0.750719,\t[ 2624/ 3096]\n",
            "Train accuracy: 76.4%, Avg loss: 0.780505 \n",
            "Memory allocated: 13.3 MB\n",
            "Test loss: 1.028589  [    0/ 1036]\n",
            "Test Error: \n",
            " Accuracy: 53.4%, Avg loss: 1.002461 \n",
            "\n",
            "Memory allocated: 13.3 MB\n",
            "EarlyStopping counter: 1 out of 3\n",
            "Epoch 3\n",
            "-------------------------------\n",
            "Memory allocated: 13.3 MB\n",
            "Accuracy: 85.9%, Avg loss: 0.701500,\t[   64/ 3096]\n",
            "Accuracy: 75.0%, Avg loss: 0.727105,\t[ 1344/ 3096]\n",
            "Accuracy: 75.5%, Avg loss: 0.810951,\t[ 2624/ 3096]\n",
            "Train accuracy: 76.0%, Avg loss: 0.783677 \n",
            "Memory allocated: 13.3 MB\n",
            "Test loss: 0.977542  [    0/ 1036]\n",
            "Test Error: \n",
            " Accuracy: 56.9%, Avg loss: 0.983547 \n",
            "\n",
            "Memory allocated: 13.3 MB\n",
            "Validation loss decreased (1.000553 --> 0.983547).  Saving model ...\n",
            "Epoch 4\n",
            "-------------------------------\n",
            "Memory allocated: 13.3 MB\n",
            "Accuracy: 79.7%, Avg loss: 0.745906,\t[   64/ 3096]\n",
            "Accuracy: 79.9%, Avg loss: 0.725864,\t[ 1344/ 3096]\n",
            "Accuracy: 79.8%, Avg loss: 0.776484,\t[ 2624/ 3096]\n",
            "Train accuracy: 79.8%, Avg loss: 0.751884 \n",
            "Memory allocated: 13.3 MB\n",
            "Test loss: 1.062357  [    0/ 1036]\n",
            "Test Error: \n",
            " Accuracy: 56.0%, Avg loss: 0.986509 \n",
            "\n",
            "Memory allocated: 13.3 MB\n",
            "EarlyStopping counter: 1 out of 3\n",
            "Epoch 5\n",
            "-------------------------------\n",
            "Memory allocated: 13.3 MB\n",
            "Accuracy: 79.7%, Avg loss: 0.746990,\t[   64/ 3096]\n",
            "Accuracy: 73.2%, Avg loss: 0.831586,\t[ 1344/ 3096]\n",
            "Accuracy: 76.1%, Avg loss: 0.754040,\t[ 2624/ 3096]\n",
            "Train accuracy: 76.7%, Avg loss: 0.777712 \n",
            "Memory allocated: 13.3 MB\n",
            "Test loss: 1.098763  [    0/ 1036]\n",
            "Test Error: \n",
            " Accuracy: 42.3%, Avg loss: 1.104313 \n",
            "\n",
            "Memory allocated: 13.3 MB\n",
            "EarlyStopping counter: 2 out of 3\n",
            "Epoch 6\n",
            "-------------------------------\n",
            "Memory allocated: 13.3 MB\n",
            "Accuracy: 82.8%, Avg loss: 0.717055,\t[   64/ 3096]\n",
            "Accuracy: 81.3%, Avg loss: 0.760090,\t[ 1344/ 3096]\n",
            "Accuracy: 80.5%, Avg loss: 0.758080,\t[ 2624/ 3096]\n",
            "Train accuracy: 80.9%, Avg loss: 0.738135 \n",
            "Memory allocated: 13.3 MB\n",
            "Test loss: 0.989883  [    0/ 1036]\n",
            "Test Error: \n",
            " Accuracy: 56.9%, Avg loss: 0.972997 \n",
            "\n",
            "Memory allocated: 13.3 MB\n",
            "Validation loss decreased (0.983547 --> 0.972997).  Saving model ...\n",
            "Epoch 7\n",
            "-------------------------------\n",
            "Memory allocated: 13.3 MB\n",
            "Accuracy: 85.9%, Avg loss: 0.695908,\t[   64/ 3096]\n",
            "Accuracy: 83.2%, Avg loss: 0.757171,\t[ 1344/ 3096]\n",
            "Accuracy: 83.9%, Avg loss: 0.672070,\t[ 2624/ 3096]\n",
            "Train accuracy: 84.3%, Avg loss: 0.707002 \n",
            "Memory allocated: 13.3 MB\n",
            "Test loss: 0.982102  [    0/ 1036]\n",
            "Test Error: \n",
            " Accuracy: 54.1%, Avg loss: 1.013642 \n",
            "\n",
            "Memory allocated: 13.3 MB\n",
            "EarlyStopping counter: 1 out of 3\n",
            "Epoch 8\n",
            "-------------------------------\n",
            "Memory allocated: 13.3 MB\n",
            "Accuracy: 85.9%, Avg loss: 0.691735,\t[   64/ 3096]\n",
            "Accuracy: 83.7%, Avg loss: 0.723452,\t[ 1344/ 3096]\n",
            "Accuracy: 81.7%, Avg loss: 0.762440,\t[ 2624/ 3096]\n",
            "Train accuracy: 82.3%, Avg loss: 0.725795 \n",
            "Memory allocated: 13.3 MB\n",
            "Test loss: 1.023419  [    0/ 1036]\n",
            "Test Error: \n",
            " Accuracy: 52.9%, Avg loss: 1.025169 \n",
            "\n",
            "Memory allocated: 13.3 MB\n",
            "EarlyStopping counter: 2 out of 3\n",
            "Epoch 9\n",
            "-------------------------------\n",
            "Memory allocated: 13.3 MB\n",
            "Accuracy: 73.4%, Avg loss: 0.815112,\t[   64/ 3096]\n",
            "Accuracy: 82.7%, Avg loss: 0.703584,\t[ 1344/ 3096]\n",
            "Accuracy: 83.7%, Avg loss: 0.679446,\t[ 2624/ 3096]\n",
            "Train accuracy: 83.8%, Avg loss: 0.711818 \n",
            "Memory allocated: 13.3 MB\n",
            "Test loss: 1.029217  [    0/ 1036]\n",
            "Test Error: \n",
            " Accuracy: 51.9%, Avg loss: 1.044738 \n",
            "\n",
            "Memory allocated: 13.3 MB\n",
            "EarlyStopping counter: 3 out of 3\n",
            "Early stopping, epoch 9\n",
            "Done! GRU Side Effects trained.\n"
          ]
        },
        {
          "output_type": "display_data",
          "data": {
            "text/plain": [
              "<Figure size 432x288 with 2 Axes>"
            ],
            "image/png": "[encoded data removed]"
          },
          "metadata": {
            "needs_background": "light"
          }
        }
      ]
    },
    {
      "cell_type": "code",
      "source": [
        "gru_se.load_state_dict(torch.load(f\"{DATA_DIR}GRU Side Effects-5.pth\"))\n",
        "metrics(gru_se, seTestDataloader, \"sideEffects\")"
      ],
      "metadata": {
        "colab": {
          "base_uri": "https://localhost:8080/"
        },
        "id": "zmFIuVW_LPxs",
        "outputId": "c0623e30-6248-4007-c771-110b5faeca90"
      },
      "execution_count": 19,
      "outputs": [
        {
          "output_type": "stream",
          "name": "stderr",
          "text": [
            "/usr/local/lib/python3.7/dist-packages/ipykernel_launcher.py:31: UserWarning: Implicit dimension choice for softmax has been deprecated. Change the call to include dim=X as an argument.\n",
            "/usr/local/lib/python3.7/dist-packages/ipykernel_launcher.py:18: UserWarning: Implicit dimension choice for softmax has been deprecated. Change the call to include dim=X as an argument.\n"
          ]
        },
        {
          "output_type": "stream",
          "name": "stdout",
          "text": [
            "Test:  [    0/ 1036]\n",
            "                                       precision    recall  f1-score   support\n",
            "\n",
            "                      No Side Effects       0.71      0.32      0.44       268\n",
            "           Mild/Moderate Side Effects       0.59      0.80      0.68       566\n",
            "Severe/Extremely Severe  Side Effects       0.35      0.26      0.30       202\n",
            "\n",
            "                             accuracy                           0.57      1036\n",
            "                            macro avg       0.55      0.46      0.47      1036\n",
            "                         weighted avg       0.57      0.57      0.54      1036\n",
            "\n",
            "\n",
            "\n",
            "Accuracy: 0.5694980694980695\n",
            "Balanced_accuracy: 0.4600305159992293\n",
            "F1: 0.4736605656943353\n",
            "Roc_auc: 0.5957733605773098\n",
            "Precision: 0.5512065395487855\n",
            "Recall: 0.4600305159992293\n"
          ]
        }
      ]
    },
    {
      "cell_type": "markdown",
      "source": [
        "## LSTM"
      ],
      "metadata": {
        "id": "Duvgua0xJ-Gy"
      }
    },
    {
      "cell_type": "code",
      "source": [
        "embed_size, num_hiddens, num_layers = 100, 64, 2\n",
        "lstm_se = BiRNN(len(seTrainDataset.vocab), embed_size, num_hiddens, num_layers, 3, nn.LSTM).to(\"cuda\")\n",
        "initNet(lstm_se, seTrainDataset.vocab)"
      ],
      "metadata": {
        "id": "an4Yex9OLfJg"
      },
      "execution_count": 20,
      "outputs": []
    },
    {
      "cell_type": "code",
      "source": [
        "loss_fn = nn.CrossEntropyLoss().to(\"cuda\")\n",
        "optimizer = Adam(lstm_se.parameters(), lr=0.01)\n",
        "\n",
        "train_and_plot_lc(lstm_se, \"LSTM Side Effects\", seTrainDataloader, seTestDataloader, loss_fn, optimizer, epochs = 10)\n"
      ],
      "metadata": {
        "colab": {
          "base_uri": "https://localhost:8080/",
          "height": 1000
        },
        "id": "Hx9aQhTzLfDA",
        "outputId": "45363e80-0846-45d0-f406-f54693fde7dc"
      },
      "execution_count": 52,
      "outputs": [
        {
          "output_type": "stream",
          "name": "stdout",
          "text": [
            "Epoch 1\n",
            "-------------------------------\n",
            "Memory allocated: 14.6 MB\n",
            "Accuracy: 20.3%, Avg loss: 1.102529,\t[   64/ 3096]\n"
          ]
        },
        {
          "output_type": "stream",
          "name": "stderr",
          "text": [
            "/usr/local/lib/python3.7/dist-packages/ipykernel_launcher.py:31: UserWarning: Implicit dimension choice for softmax has been deprecated. Change the call to include dim=X as an argument.\n"
          ]
        },
        {
          "output_type": "stream",
          "name": "stdout",
          "text": [
            "Accuracy: 57.1%, Avg loss: 0.921775,\t[ 1344/ 3096]\n",
            "Accuracy: 59.6%, Avg loss: 0.915447,\t[ 2624/ 3096]\n",
            "Train accuracy: 60.9%, Avg loss: 0.914960 \n",
            "Memory allocated: 15.7 MB\n",
            "Test loss: 1.061439  [    0/ 1036]\n",
            "Test Error: \n",
            " Accuracy: 44.6%, Avg loss: 1.081625 \n",
            "\n",
            "Memory allocated: 15.7 MB\n",
            "Validation loss decreased (inf --> 1.081625).  Saving model ...\n",
            "Epoch 2\n",
            "-------------------------------\n",
            "Memory allocated: 15.7 MB\n",
            "Accuracy: 68.8%, Avg loss: 0.851956,\t[   64/ 3096]\n",
            "Accuracy: 67.6%, Avg loss: 0.831524,\t[ 1344/ 3096]\n",
            "Accuracy: 67.2%, Avg loss: 0.926914,\t[ 2624/ 3096]\n",
            "Train accuracy: 67.0%, Avg loss: 0.875072 \n",
            "Memory allocated: 15.7 MB\n",
            "Test loss: 1.000555  [    0/ 1036]\n",
            "Test Error: \n",
            " Accuracy: 51.4%, Avg loss: 1.041171 \n",
            "\n",
            "Memory allocated: 15.7 MB\n",
            "Validation loss decreased (1.081625 --> 1.041171).  Saving model ...\n",
            "Epoch 3\n",
            "-------------------------------\n",
            "Memory allocated: 15.7 MB\n",
            "Accuracy: 42.2%, Avg loss: 1.065834,\t[   64/ 3096]\n",
            "Accuracy: 64.7%, Avg loss: 0.932858,\t[ 1344/ 3096]\n",
            "Accuracy: 66.2%, Avg loss: 0.899263,\t[ 2624/ 3096]\n",
            "Train accuracy: 65.9%, Avg loss: 0.876333 \n",
            "Memory allocated: 15.7 MB\n",
            "Test loss: 1.150973  [    0/ 1036]\n",
            "Test Error: \n",
            " Accuracy: 36.6%, Avg loss: 1.159152 \n",
            "\n",
            "Memory allocated: 15.7 MB\n",
            "EarlyStopping counter: 1 out of 3\n",
            "Epoch 4\n",
            "-------------------------------\n",
            "Memory allocated: 15.7 MB\n",
            "Accuracy: 51.6%, Avg loss: 1.010921,\t[   64/ 3096]\n",
            "Accuracy: 66.8%, Avg loss: 0.807028,\t[ 1344/ 3096]\n",
            "Accuracy: 68.8%, Avg loss: 0.864087,\t[ 2624/ 3096]\n",
            "Train accuracy: 68.9%, Avg loss: 0.846263 \n",
            "Memory allocated: 15.7 MB\n",
            "Test loss: 1.002756  [    0/ 1036]\n",
            "Test Error: \n",
            " Accuracy: 54.3%, Avg loss: 0.986360 \n",
            "\n",
            "Memory allocated: 15.7 MB\n",
            "Validation loss decreased (1.041171 --> 0.986360).  Saving model ...\n",
            "Epoch 5\n",
            "-------------------------------\n",
            "Memory allocated: 15.7 MB\n",
            "Accuracy: 51.6%, Avg loss: 1.015104,\t[   64/ 3096]\n",
            "Accuracy: 66.6%, Avg loss: 0.782004,\t[ 1344/ 3096]\n",
            "Accuracy: 71.2%, Avg loss: 0.748196,\t[ 2624/ 3096]\n",
            "Train accuracy: 71.5%, Avg loss: 0.822161 \n",
            "Memory allocated: 15.7 MB\n",
            "Test loss: 1.024571  [    0/ 1036]\n",
            "Test Error: \n",
            " Accuracy: 44.6%, Avg loss: 1.091469 \n",
            "\n",
            "Memory allocated: 15.7 MB\n",
            "EarlyStopping counter: 1 out of 3\n",
            "Epoch 6\n",
            "-------------------------------\n",
            "Memory allocated: 15.7 MB\n",
            "Accuracy: 75.0%, Avg loss: 0.785942,\t[   64/ 3096]\n",
            "Accuracy: 73.9%, Avg loss: 0.837279,\t[ 1344/ 3096]\n",
            "Accuracy: 74.8%, Avg loss: 0.748854,\t[ 2624/ 3096]\n",
            "Train accuracy: 75.3%, Avg loss: 0.790811 \n",
            "Memory allocated: 15.7 MB\n",
            "Test loss: 1.038025  [    0/ 1036]\n",
            "Test Error: \n",
            " Accuracy: 43.9%, Avg loss: 1.094775 \n",
            "\n",
            "Memory allocated: 15.7 MB\n",
            "EarlyStopping counter: 2 out of 3\n",
            "Epoch 7\n",
            "-------------------------------\n",
            "Memory allocated: 15.7 MB\n",
            "Accuracy: 76.6%, Avg loss: 0.795356,\t[   64/ 3096]\n",
            "Accuracy: 77.0%, Avg loss: 0.758088,\t[ 1344/ 3096]\n",
            "Accuracy: 76.8%, Avg loss: 0.788911,\t[ 2624/ 3096]\n",
            "Train accuracy: 76.7%, Avg loss: 0.777339 \n",
            "Memory allocated: 15.7 MB\n",
            "Test loss: 0.993783  [    0/ 1036]\n",
            "Test Error: \n",
            " Accuracy: 49.7%, Avg loss: 1.057303 \n",
            "\n",
            "Memory allocated: 15.7 MB\n",
            "EarlyStopping counter: 3 out of 3\n",
            "Early stopping, epoch 7\n",
            "Done! LSTM Side Effects trained.\n"
          ]
        },
        {
          "output_type": "display_data",
          "data": {
            "text/plain": [
              "<Figure size 432x288 with 2 Axes>"
            ],
            "image/png": "[encoded data removed]"
          },
          "metadata": {
            "needs_background": "light"
          }
        }
      ]
    },
    {
      "cell_type": "code",
      "source": [
        "lstm_se.load_state_dict(torch.load(f\"{DATA_DIR}LSTM Side Effects-3.pth\"))\n",
        "metrics(lstm_se, seTestDataloader, \"sideEffects\")"
      ],
      "metadata": {
        "colab": {
          "base_uri": "https://localhost:8080/"
        },
        "id": "lFISFkoRLQQG",
        "outputId": "ba056875-ad93-44bc-8a0f-2d7118692daa"
      },
      "execution_count": 21,
      "outputs": [
        {
          "output_type": "stream",
          "name": "stderr",
          "text": [
            "/usr/local/lib/python3.7/dist-packages/ipykernel_launcher.py:31: UserWarning: Implicit dimension choice for softmax has been deprecated. Change the call to include dim=X as an argument.\n",
            "/usr/local/lib/python3.7/dist-packages/ipykernel_launcher.py:18: UserWarning: Implicit dimension choice for softmax has been deprecated. Change the call to include dim=X as an argument.\n"
          ]
        },
        {
          "output_type": "stream",
          "name": "stdout",
          "text": [
            "Test:  [    0/ 1036]\n",
            "                                       precision    recall  f1-score   support\n",
            "\n",
            "                      No Side Effects       0.37      0.09      0.15       268\n",
            "           Mild/Moderate Side Effects       0.56      0.94      0.70       566\n",
            "Severe/Extremely Severe  Side Effects       0.60      0.03      0.06       202\n",
            "\n",
            "                             accuracy                           0.54      1036\n",
            "                            macro avg       0.51      0.35      0.30      1036\n",
            "                         weighted avg       0.52      0.54      0.43      1036\n",
            "\n",
            "\n",
            "\n",
            "Accuracy: 0.5434362934362934\n",
            "Balanced_accuracy: 0.35430529366949676\n",
            "F1: 0.30119200901774074\n",
            "Roc_auc: 0.575507529199212\n",
            "Precision: 0.5076568832125753\n",
            "Recall: 0.35430529366949676\n"
          ]
        }
      ]
    },
    {
      "cell_type": "markdown",
      "source": [
        "# Effectiveness"
      ],
      "metadata": {
        "id": "wJGa6Qm6KFz2"
      }
    },
    {
      "cell_type": "code",
      "source": [
        "effTestDataset = DrugLib(DATA_DIR, train=False, task=\"effectiveness\")\n",
        "effTrainDataset = DrugLib(DATA_DIR, train=True, task=\"effectiveness\")\n",
        "\n",
        "effTestDataloader = DataLoader(effTestDataset, batch_size=64)\n",
        "effTrainDataloader = DataLoader(effTrainDataset, sampler=effTrainDataset.sampler, batch_size=64)"
      ],
      "metadata": {
        "colab": {
          "base_uri": "https://localhost:8080/"
        },
        "id": "Vb0-dqMLc69t",
        "outputId": "f31da852-61f4-46a3-c151-9a2dce7adf12"
      },
      "execution_count": 23,
      "outputs": [
        {
          "output_type": "stream",
          "name": "stdout",
          "text": [
            "Files already downloaded and verified\n",
            "Files already downloaded and verified\n"
          ]
        }
      ]
    },
    {
      "cell_type": "markdown",
      "source": [
        "## RNN"
      ],
      "metadata": {
        "id": "CQ3pBEJILRaj"
      }
    },
    {
      "cell_type": "code",
      "source": [
        "embed_size, num_hiddens, num_layers = 100, 64, 2\n",
        "enn_eff = BiRNN(len(effTrainDataset.vocab), embed_size, num_hiddens, num_layers, 3, nn.RNN).to(\"cuda\")\n",
        "initNet(enn_eff, effTrainDataset.vocab)"
      ],
      "metadata": {
        "id": "iLt1nE8kLf9_"
      },
      "execution_count": 24,
      "outputs": []
    },
    {
      "cell_type": "code",
      "source": [
        "loss_fn = nn.CrossEntropyLoss().to(\"cuda\")\n",
        "optimizer = Adam(enn_eff.parameters(), lr=0.01)\n",
        "\n",
        "train_and_plot_lc(enn_eff, \"RNN Effectiveness\", effTrainDataloader, effTestDataloader, loss_fn, optimizer, epochs = 10)"
      ],
      "metadata": {
        "colab": {
          "base_uri": "https://localhost:8080/",
          "height": 1000
        },
        "id": "0ccSJ20rebme",
        "outputId": "add41603-e6a2-4a1a-df64-2bc98a50ba11"
      },
      "execution_count": 18,
      "outputs": [
        {
          "output_type": "stream",
          "name": "stdout",
          "text": [
            "Epoch 1\n",
            "-------------------------------\n",
            "Memory allocated: 0.9 MB\n"
          ]
        },
        {
          "output_type": "stream",
          "name": "stderr",
          "text": [
            "/usr/local/lib/python3.7/dist-packages/ipykernel_launcher.py:31: UserWarning: Implicit dimension choice for softmax has been deprecated. Change the call to include dim=X as an argument.\n"
          ]
        },
        {
          "output_type": "stream",
          "name": "stdout",
          "text": [
            "Accuracy: 39.1%, Avg loss: 1.105502,\t[   64/ 3096]\n",
            "Accuracy: 44.8%, Avg loss: 1.001901,\t[ 1344/ 3096]\n",
            "Accuracy: 47.5%, Avg loss: 1.043089,\t[ 2624/ 3096]\n",
            "Train accuracy: 48.2%, Avg loss: 1.049822 \n",
            "Memory allocated: 2.1 MB\n",
            "Test loss: 1.373982  [    0/ 1036]\n",
            "Test Error: \n",
            " Accuracy: 19.5%, Avg loss: 1.343466 \n",
            "\n",
            "Memory allocated: 2.1 MB\n",
            "Validation loss decreased (inf --> 1.343466).  Saving model ...\n",
            "Epoch 2\n",
            "-------------------------------\n",
            "Memory allocated: 2.1 MB\n",
            "Accuracy: 50.0%, Avg loss: 1.040845,\t[   64/ 3096]\n",
            "Accuracy: 51.0%, Avg loss: 1.046938,\t[ 1344/ 3096]\n",
            "Accuracy: 50.8%, Avg loss: 1.148141,\t[ 2624/ 3096]\n",
            "Train accuracy: 50.8%, Avg loss: 1.033200 \n",
            "Memory allocated: 2.1 MB\n",
            "Test loss: 0.883898  [    0/ 1036]\n",
            "Test Error: \n",
            " Accuracy: 64.7%, Avg loss: 0.896579 \n",
            "\n",
            "Memory allocated: 2.1 MB\n",
            "Validation loss decreased (1.343466 --> 0.896579).  Saving model ...\n",
            "Epoch 3\n",
            "-------------------------------\n",
            "Memory allocated: 2.1 MB\n",
            "Accuracy: 51.6%, Avg loss: 1.035324,\t[   64/ 3096]\n",
            "Accuracy: 51.1%, Avg loss: 0.924658,\t[ 1344/ 3096]\n",
            "Accuracy: 51.9%, Avg loss: 1.055348,\t[ 2624/ 3096]\n",
            "Train accuracy: 51.8%, Avg loss: 1.021538 \n",
            "Memory allocated: 2.1 MB\n",
            "Test loss: 1.238067  [    0/ 1036]\n",
            "Test Error: \n",
            " Accuracy: 35.4%, Avg loss: 1.177344 \n",
            "\n",
            "Memory allocated: 2.1 MB\n",
            "EarlyStopping counter: 1 out of 3\n",
            "Epoch 4\n",
            "-------------------------------\n",
            "Memory allocated: 2.1 MB\n",
            "Accuracy: 56.2%, Avg loss: 0.957885,\t[   64/ 3096]\n",
            "Accuracy: 52.5%, Avg loss: 1.043092,\t[ 1344/ 3096]\n",
            "Accuracy: 52.1%, Avg loss: 1.128910,\t[ 2624/ 3096]\n",
            "Train accuracy: 53.1%, Avg loss: 1.008931 \n",
            "Memory allocated: 2.1 MB\n",
            "Test loss: 0.913898  [    0/ 1036]\n",
            "Test Error: \n",
            " Accuracy: 64.7%, Avg loss: 0.887349 \n",
            "\n",
            "Memory allocated: 2.1 MB\n",
            "Validation loss decreased (0.896579 --> 0.887349).  Saving model ...\n",
            "Epoch 5\n",
            "-------------------------------\n",
            "Memory allocated: 2.1 MB\n",
            "Accuracy: 50.0%, Avg loss: 1.042053,\t[   64/ 3096]\n",
            "Accuracy: 56.9%, Avg loss: 0.990996,\t[ 1344/ 3096]\n",
            "Accuracy: 57.7%, Avg loss: 0.986542,\t[ 2624/ 3096]\n",
            "Train accuracy: 57.6%, Avg loss: 0.962078 \n",
            "Memory allocated: 2.1 MB\n",
            "Test loss: 1.033230  [    0/ 1036]\n",
            "Test Error: \n",
            " Accuracy: 50.1%, Avg loss: 1.029697 \n",
            "\n",
            "Memory allocated: 2.1 MB\n",
            "EarlyStopping counter: 1 out of 3\n",
            "Epoch 6\n",
            "-------------------------------\n",
            "Memory allocated: 2.1 MB\n",
            "Accuracy: 54.7%, Avg loss: 0.996621,\t[   64/ 3096]\n",
            "Accuracy: 58.6%, Avg loss: 0.892067,\t[ 1344/ 3096]\n",
            "Accuracy: 58.0%, Avg loss: 0.923191,\t[ 2624/ 3096]\n",
            "Train accuracy: 57.7%, Avg loss: 0.966912 \n",
            "Memory allocated: 2.1 MB\n",
            "Test loss: 1.003044  [    0/ 1036]\n",
            "Test Error: \n",
            " Accuracy: 54.7%, Avg loss: 0.989654 \n",
            "\n",
            "Memory allocated: 2.1 MB\n",
            "EarlyStopping counter: 2 out of 3\n",
            "Epoch 7\n",
            "-------------------------------\n",
            "Memory allocated: 2.1 MB\n",
            "Accuracy: 57.8%, Avg loss: 0.970026,\t[   64/ 3096]\n",
            "Accuracy: 58.0%, Avg loss: 0.964736,\t[ 1344/ 3096]\n",
            "Accuracy: 57.3%, Avg loss: 0.953218,\t[ 2624/ 3096]\n",
            "Train accuracy: 57.6%, Avg loss: 0.967964 \n",
            "Memory allocated: 2.1 MB\n",
            "Test loss: 0.985783  [    0/ 1036]\n",
            "Test Error: \n",
            " Accuracy: 49.2%, Avg loss: 1.042282 \n",
            "\n",
            "Memory allocated: 2.1 MB\n",
            "EarlyStopping counter: 3 out of 3\n",
            "Early stopping, epoch 7\n",
            "Done! RNN Effectiveness trained.\n"
          ]
        },
        {
          "output_type": "display_data",
          "data": {
            "text/plain": [
              "<Figure size 432x288 with 2 Axes>"
            ],
            "image/png": "[encoded data removed]"
          },
          "metadata": {
            "needs_background": "light"
          }
        }
      ]
    },
    {
      "cell_type": "code",
      "source": [
        "enn_eff.load_state_dict(torch.load(f\"{DATA_DIR}RNN Effectiveness-5.pth\"))\n",
        "metrics(enn_eff, effTestDataloader, \"effectiveness\")"
      ],
      "metadata": {
        "colab": {
          "base_uri": "https://localhost:8080/"
        },
        "id": "zfj-gnwXebcV",
        "outputId": "36aff45c-dab0-4124-dec3-29dd1a8a793f"
      },
      "execution_count": 25,
      "outputs": [
        {
          "output_type": "stream",
          "name": "stderr",
          "text": [
            "/usr/local/lib/python3.7/dist-packages/ipykernel_launcher.py:31: UserWarning: Implicit dimension choice for softmax has been deprecated. Change the call to include dim=X as an argument.\n",
            "/usr/local/lib/python3.7/dist-packages/ipykernel_launcher.py:18: UserWarning: Implicit dimension choice for softmax has been deprecated. Change the call to include dim=X as an argument.\n"
          ]
        },
        {
          "output_type": "stream",
          "name": "stdout",
          "text": [
            "Test:  [    0/ 1036]\n",
            "                                 precision    recall  f1-score   support\n",
            "\n",
            "                    Ineffective       0.05      0.06      0.05        82\n",
            "Marginally/Moderately Effective       0.19      0.13      0.15       233\n",
            "  Considerably/Highly Effective       0.69      0.74      0.71       721\n",
            "\n",
            "                       accuracy                           0.55      1036\n",
            "                      macro avg       0.31      0.31      0.31      1036\n",
            "                   weighted avg       0.53      0.55      0.53      1036\n",
            "\n",
            "\n",
            "\n",
            "Accuracy: 0.5472972972972973\n",
            "Balanced_accuracy: 0.30919835074428914\n",
            "F1: 0.3064842719282508\n",
            "Roc_auc: 0.4722380828912614\n",
            "Precision: 0.3093574559132572\n",
            "Recall: 0.30919835074428914\n"
          ]
        }
      ]
    },
    {
      "cell_type": "markdown",
      "source": [
        "## GRU"
      ],
      "metadata": {
        "id": "P7xAUYYyLRRL"
      }
    },
    {
      "cell_type": "code",
      "source": [
        "embed_size, num_hiddens, num_layers = 100, 64, 2\n",
        "gru_eff = BiRNN(len(effTrainDataset.vocab), embed_size, num_hiddens, num_layers, 3, nn.GRU).to(\"cuda\")\n",
        "initNet(gru_eff, effTrainDataset.vocab)"
      ],
      "metadata": {
        "id": "9MJ45CV0ecQ0"
      },
      "execution_count": 26,
      "outputs": []
    },
    {
      "cell_type": "code",
      "source": [
        "loss_fn = nn.CrossEntropyLoss().to(\"cuda\")\n",
        "optimizer = Adam(gru_eff.parameters(), lr=0.01)\n",
        "\n",
        "train_and_plot_lc(gru_eff, \"GRU Effectiveness\", effTrainDataloader, effTestDataloader, loss_fn, optimizer, epochs = 10)"
      ],
      "metadata": {
        "colab": {
          "base_uri": "https://localhost:8080/",
          "height": 1000
        },
        "id": "P_fcvXu7ecJN",
        "outputId": "65bb4278-86ae-4748-90bf-68d7391502f4"
      },
      "execution_count": 25,
      "outputs": [
        {
          "output_type": "stream",
          "name": "stdout",
          "text": [
            "Epoch 1\n",
            "-------------------------------\n",
            "Memory allocated: 5.8 MB\n",
            "Accuracy: 25.0%, Avg loss: 1.105625,\t[   64/ 3096]\n"
          ]
        },
        {
          "output_type": "stream",
          "name": "stderr",
          "text": [
            "/usr/local/lib/python3.7/dist-packages/ipykernel_launcher.py:31: UserWarning: Implicit dimension choice for softmax has been deprecated. Change the call to include dim=X as an argument.\n"
          ]
        },
        {
          "output_type": "stream",
          "name": "stdout",
          "text": [
            "Accuracy: 47.7%, Avg loss: 0.991089,\t[ 1344/ 3096]\n",
            "Accuracy: 54.1%, Avg loss: 0.895280,\t[ 2624/ 3096]\n",
            "Train accuracy: 55.9%, Avg loss: 0.953139 \n",
            "Memory allocated: 4.6 MB\n",
            "Test loss: 1.108323  [    0/ 1036]\n",
            "Test Error: \n",
            " Accuracy: 40.0%, Avg loss: 1.112786 \n",
            "\n",
            "Memory allocated: 4.6 MB\n",
            "Validation loss decreased (inf --> 1.112786).  Saving model ...\n",
            "Epoch 2\n",
            "-------------------------------\n",
            "Memory allocated: 4.6 MB\n",
            "Accuracy: 60.9%, Avg loss: 0.944273,\t[   64/ 3096]\n",
            "Accuracy: 64.9%, Avg loss: 0.994441,\t[ 1344/ 3096]\n",
            "Accuracy: 65.9%, Avg loss: 0.843754,\t[ 2624/ 3096]\n",
            "Train accuracy: 67.0%, Avg loss: 0.869929 \n",
            "Memory allocated: 4.6 MB\n",
            "Test loss: 0.927532  [    0/ 1036]\n",
            "Test Error: \n",
            " Accuracy: 57.5%, Avg loss: 0.949486 \n",
            "\n",
            "Memory allocated: 4.6 MB\n",
            "Validation loss decreased (1.112786 --> 0.949486).  Saving model ...\n",
            "Epoch 3\n",
            "-------------------------------\n",
            "Memory allocated: 4.6 MB\n",
            "Accuracy: 71.9%, Avg loss: 0.828612,\t[   64/ 3096]\n",
            "Accuracy: 69.9%, Avg loss: 0.754753,\t[ 1344/ 3096]\n",
            "Accuracy: 70.2%, Avg loss: 0.724704,\t[ 2624/ 3096]\n",
            "Train accuracy: 69.7%, Avg loss: 0.843160 \n",
            "Memory allocated: 4.6 MB\n",
            "Test loss: 0.996216  [    0/ 1036]\n",
            "Test Error: \n",
            " Accuracy: 52.0%, Avg loss: 0.999054 \n",
            "\n",
            "Memory allocated: 4.6 MB\n",
            "EarlyStopping counter: 1 out of 3\n",
            "Epoch 4\n",
            "-------------------------------\n",
            "Memory allocated: 4.6 MB\n",
            "Accuracy: 68.8%, Avg loss: 0.860321,\t[   64/ 3096]\n",
            "Accuracy: 72.8%, Avg loss: 0.853647,\t[ 1344/ 3096]\n",
            "Accuracy: 72.9%, Avg loss: 0.818381,\t[ 2624/ 3096]\n",
            "Train accuracy: 72.8%, Avg loss: 0.819236 \n",
            "Memory allocated: 4.6 MB\n",
            "Test loss: 1.045398  [    0/ 1036]\n",
            "Test Error: \n",
            " Accuracy: 47.1%, Avg loss: 1.058283 \n",
            "\n",
            "Memory allocated: 4.6 MB\n",
            "EarlyStopping counter: 2 out of 3\n",
            "Epoch 5\n",
            "-------------------------------\n",
            "Memory allocated: 4.6 MB\n",
            "Accuracy: 73.4%, Avg loss: 0.815259,\t[   64/ 3096]\n",
            "Accuracy: 74.5%, Avg loss: 0.838512,\t[ 1344/ 3096]\n",
            "Accuracy: 74.9%, Avg loss: 0.760708,\t[ 2624/ 3096]\n",
            "Train accuracy: 74.1%, Avg loss: 0.805423 \n",
            "Memory allocated: 4.6 MB\n",
            "Test loss: 0.974368  [    0/ 1036]\n",
            "Test Error: \n",
            " Accuracy: 43.6%, Avg loss: 1.101302 \n",
            "\n",
            "Memory allocated: 4.6 MB\n",
            "EarlyStopping counter: 3 out of 3\n",
            "Early stopping, epoch 5\n",
            "Done! GRU Effectiveness trained.\n"
          ]
        },
        {
          "output_type": "display_data",
          "data": {
            "text/plain": [
              "<Figure size 432x288 with 2 Axes>"
            ],
            "image/png": "[encoded data removed]"
          },
          "metadata": {
            "needs_background": "light"
          }
        }
      ]
    },
    {
      "cell_type": "code",
      "source": [
        "gru_eff.load_state_dict(torch.load(f\"{DATA_DIR}GRU Effectiveness-2.pth\"))\n",
        "metrics(gru_eff, effTestDataloader, \"effectiveness\")"
      ],
      "metadata": {
        "colab": {
          "base_uri": "https://localhost:8080/"
        },
        "id": "VKv0c3uxLgk8",
        "outputId": "37005044-a31b-43a7-e9e1-b101a68164e9"
      },
      "execution_count": 27,
      "outputs": [
        {
          "output_type": "stream",
          "name": "stderr",
          "text": [
            "/usr/local/lib/python3.7/dist-packages/ipykernel_launcher.py:31: UserWarning: Implicit dimension choice for softmax has been deprecated. Change the call to include dim=X as an argument.\n",
            "/usr/local/lib/python3.7/dist-packages/ipykernel_launcher.py:18: UserWarning: Implicit dimension choice for softmax has been deprecated. Change the call to include dim=X as an argument.\n"
          ]
        },
        {
          "output_type": "stream",
          "name": "stdout",
          "text": [
            "Test:  [    0/ 1036]\n",
            "                                 precision    recall  f1-score   support\n",
            "\n",
            "                    Ineffective       0.03      0.01      0.02        82\n",
            "Marginally/Moderately Effective       0.24      0.38      0.29       233\n",
            "  Considerably/Highly Effective       0.72      0.62      0.67       721\n",
            "\n",
            "                       accuracy                           0.52      1036\n",
            "                      macro avg       0.33      0.34      0.33      1036\n",
            "                   weighted avg       0.55      0.52      0.53      1036\n",
            "\n",
            "\n",
            "\n",
            "Accuracy: 0.5202702702702703\n",
            "Balanced_accuracy: 0.33897185224374665\n",
            "F1: 0.32528708323433914\n",
            "Roc_auc: 0.5420205574627731\n",
            "Precision: 0.3278765656753979\n",
            "Recall: 0.33897185224374665\n"
          ]
        }
      ]
    },
    {
      "cell_type": "markdown",
      "source": [
        "## LSTM"
      ],
      "metadata": {
        "id": "p-jEljM2LREA"
      }
    },
    {
      "cell_type": "code",
      "source": [
        "embed_size, num_hiddens, num_layers = 100, 64, 2\n",
        "lstm_eff = BiRNN(len(effTrainDataset.vocab), embed_size, num_hiddens, num_layers, 3, nn.LSTM).to(\"cuda\")\n",
        "initNet(lstm_eff, effTrainDataset.vocab)"
      ],
      "metadata": {
        "id": "1nbfEKk-ec1g"
      },
      "execution_count": 28,
      "outputs": []
    },
    {
      "cell_type": "code",
      "source": [
        "loss_fn = nn.CrossEntropyLoss().to(\"cuda\")\n",
        "optimizer = Adam(lstm_eff.parameters(), lr=0.01)\n",
        "\n",
        "train_and_plot_lc(lstm_eff, \"LSTM Effectiveness\", effTrainDataloader, effTestDataloader, loss_fn, optimizer, epochs = 10)"
      ],
      "metadata": {
        "colab": {
          "base_uri": "https://localhost:8080/",
          "height": 1000
        },
        "id": "KEu_qSCIecuI",
        "outputId": "7b3ca22e-ee0f-4f4c-c723-d109a2e6d313"
      },
      "execution_count": 28,
      "outputs": [
        {
          "output_type": "stream",
          "name": "stdout",
          "text": [
            "Epoch 1\n",
            "-------------------------------\n",
            "Memory allocated: 6.0 MB\n",
            "Accuracy: 34.4%, Avg loss: 1.099666,\t[   64/ 3096]\n"
          ]
        },
        {
          "output_type": "stream",
          "name": "stderr",
          "text": [
            "/usr/local/lib/python3.7/dist-packages/ipykernel_launcher.py:31: UserWarning: Implicit dimension choice for softmax has been deprecated. Change the call to include dim=X as an argument.\n"
          ]
        },
        {
          "output_type": "stream",
          "name": "stdout",
          "text": [
            "Accuracy: 47.8%, Avg loss: 0.957095,\t[ 1344/ 3096]\n",
            "Accuracy: 49.5%, Avg loss: 0.972502,\t[ 2624/ 3096]\n",
            "Train accuracy: 50.2%, Avg loss: 1.002554 \n",
            "Memory allocated: 7.1 MB\n",
            "Test loss: 0.959916  [    0/ 1036]\n",
            "Test Error: \n",
            " Accuracy: 65.3%, Avg loss: 0.952329 \n",
            "\n",
            "Memory allocated: 7.1 MB\n",
            "Validation loss decreased (inf --> 0.952329).  Saving model ...\n",
            "Epoch 2\n",
            "-------------------------------\n",
            "Memory allocated: 7.1 MB\n",
            "Accuracy: 48.4%, Avg loss: 1.000004,\t[   64/ 3096]\n",
            "Accuracy: 57.1%, Avg loss: 0.967599,\t[ 1344/ 3096]\n",
            "Accuracy: 57.7%, Avg loss: 0.977767,\t[ 2624/ 3096]\n",
            "Train accuracy: 58.4%, Avg loss: 0.938512 \n",
            "Memory allocated: 7.1 MB\n",
            "Test loss: 1.145923  [    0/ 1036]\n",
            "Test Error: \n",
            " Accuracy: 36.0%, Avg loss: 1.116725 \n",
            "\n",
            "Memory allocated: 7.1 MB\n",
            "EarlyStopping counter: 1 out of 3\n",
            "Epoch 3\n",
            "-------------------------------\n",
            "Memory allocated: 7.1 MB\n",
            "Accuracy: 60.9%, Avg loss: 0.932400,\t[   64/ 3096]\n",
            "Accuracy: 58.2%, Avg loss: 0.947986,\t[ 1344/ 3096]\n",
            "Accuracy: 59.7%, Avg loss: 0.940588,\t[ 2624/ 3096]\n",
            "Train accuracy: 59.5%, Avg loss: 0.936604 \n",
            "Memory allocated: 7.1 MB\n",
            "Test loss: 0.973495  [    0/ 1036]\n",
            "Test Error: \n",
            " Accuracy: 55.0%, Avg loss: 0.976933 \n",
            "\n",
            "Memory allocated: 7.1 MB\n",
            "EarlyStopping counter: 2 out of 3\n",
            "Epoch 4\n",
            "-------------------------------\n",
            "Memory allocated: 7.1 MB\n",
            "Accuracy: 62.5%, Avg loss: 0.892276,\t[   64/ 3096]\n",
            "Accuracy: 65.8%, Avg loss: 0.839360,\t[ 1344/ 3096]\n",
            "Accuracy: 65.2%, Avg loss: 0.932306,\t[ 2624/ 3096]\n",
            "Train accuracy: 65.2%, Avg loss: 0.885203 \n",
            "Memory allocated: 7.1 MB\n",
            "Test loss: 0.971402  [    0/ 1036]\n",
            "Test Error: \n",
            " Accuracy: 52.8%, Avg loss: 1.001123 \n",
            "\n",
            "Memory allocated: 7.1 MB\n",
            "EarlyStopping counter: 3 out of 3\n",
            "Early stopping, epoch 4\n",
            "Done! LSTM Effectiveness trained.\n"
          ]
        },
        {
          "output_type": "display_data",
          "data": {
            "text/plain": [
              "<Figure size 432x288 with 2 Axes>"
            ],
            "image/png": "[encoded data removed]"
          },
          "metadata": {
            "needs_background": "light"
          }
        }
      ]
    },
    {
      "cell_type": "code",
      "source": [
        "lstm_eff.load_state_dict(torch.load(f\"{DATA_DIR}LSTM Effectiveness-3.pth\"))\n",
        "metrics(lstm_eff, effTestDataloader, \"effectiveness\")"
      ],
      "metadata": {
        "colab": {
          "base_uri": "https://localhost:8080/"
        },
        "id": "ZqVYZwrvLhCy",
        "outputId": "ee0ff8c7-b32a-4787-d3a8-808abbc38c55"
      },
      "execution_count": 29,
      "outputs": [
        {
          "output_type": "stream",
          "name": "stderr",
          "text": [
            "/usr/local/lib/python3.7/dist-packages/ipykernel_launcher.py:31: UserWarning: Implicit dimension choice for softmax has been deprecated. Change the call to include dim=X as an argument.\n",
            "/usr/local/lib/python3.7/dist-packages/ipykernel_launcher.py:18: UserWarning: Implicit dimension choice for softmax has been deprecated. Change the call to include dim=X as an argument.\n"
          ]
        },
        {
          "output_type": "stream",
          "name": "stdout",
          "text": [
            "Test:  [    0/ 1036]\n",
            "                                 precision    recall  f1-score   support\n",
            "\n",
            "                    Ineffective       0.05      0.04      0.04        82\n",
            "Marginally/Moderately Effective       0.25      0.33      0.29       233\n",
            "  Considerably/Highly Effective       0.70      0.65      0.67       721\n",
            "\n",
            "                       accuracy                           0.53      1036\n",
            "                      macro avg       0.33      0.34      0.33      1036\n",
            "                   weighted avg       0.55      0.53      0.54      1036\n",
            "\n",
            "\n",
            "\n",
            "Accuracy: 0.527992277992278\n",
            "Balanced_accuracy: 0.33825632688237733\n",
            "F1: 0.3334858326677897\n",
            "Roc_auc: 0.5305651555944041\n",
            "Precision: 0.33327135458283\n",
            "Recall: 0.33825632688237733\n"
          ]
        }
      ]
    },
    {
      "cell_type": "markdown",
      "source": [
        "# BERT (Extra)"
      ],
      "metadata": {
        "id": "O81EQYAXQ0XL"
      }
    },
    {
      "cell_type": "code",
      "source": [
        "tokenizer = BertTokenizer.from_pretrained('bert-base-uncased', do_lower_case=True)"
      ],
      "metadata": {
        "id": "Qn_d0xFwSd_n"
      },
      "execution_count": 15,
      "outputs": []
    },
    {
      "cell_type": "code",
      "source": [
        "class DrugLibBert(Dataset):\n",
        "  def __init__(self, root, train, task):\n",
        "    self.root = os.path.join(root, \"drugLib\") \n",
        "    self.task = task # overall | effectiveness | sideEffects\n",
        "\n",
        "    self.download()\n",
        "\n",
        "    if not self._check_integrity():\n",
        "      raise RuntimeError(\"Dataset not found or corrupted.\")\n",
        "\n",
        "    self.load(train)\n",
        "\n",
        "  def download(self) -> None:\n",
        "    if self._check_integrity():\n",
        "        print(\"Files already downloaded and verified\")\n",
        "        return\n",
        "\n",
        "    download_and_extract_archive(\n",
        "        \"https://archive.ics.uci.edu/ml/machine-learning-databases/00461/drugLib_raw.zip\",\n",
        "        self.root,\n",
        "        md5=\"b4f5b49c9ddb7b6f466928e1f49ad23f\",\n",
        "        filename=\"drugLib_raw.zip\"\n",
        "    )\n",
        "\n",
        "  def _check_integrity(self) -> bool:\n",
        "    return os.path.exists(os.path.join(self.root, \"drugLibTrain_raw.tsv\")) and os.path.exists(os.path.join(self.root, \"drugLibTest_raw.tsv\"))\n",
        "\n",
        "  def load(self, train):\n",
        "    if train:\n",
        "      self.df = pd.read_csv(os.path.join(self.root, \"drugLibTrain_raw.tsv\"), sep=\"\\t\", header=0)\n",
        "    else:\n",
        "      self.df = pd.read_csv(os.path.join(self.root, \"drugLibTest_raw.tsv\"), sep=\"\\t\", header=0)\n",
        "\n",
        "    self.df = self.df.dropna()\n",
        "\n",
        "\n",
        "    effMap = {'Ineffective':0, 'Marginally Effective':1, 'Moderately Effective':1, 'Considerably Effective':2,\n",
        "                         'Highly Effective':2}\n",
        "    sideEffectsMap = {'No Side Effects':0, 'Mild Side Effects':1, 'Moderate Side Effects':1, 'Severe Side Effects':2, 'Extremely Severe Side Effects':2}\n",
        "\n",
        "    self.df[\"rating\"] = self.df[\"rating\"].apply(lambda x: 0 if x <= 4 else (1 if x < 7 else 2))\n",
        "\n",
        "    self.df[\"effectiveness\"] = self.df[\"effectiveness\"].apply(lambda x: effMap[x])\n",
        "    self.df[\"sideEffects\"] = self.df[\"sideEffects\"].apply(lambda x: sideEffectsMap[x])\n",
        "\n",
        "    if self.task == \"overall\":\n",
        "      self.labels = self.df[\"rating\"]\n",
        "      self.data = self.df[[\"benefitsReview\", \"sideEffectsReview\", \"commentsReview\"]].apply(lambda x: \" \".join(x), axis=1)\n",
        "    elif self.task == \"effectiveness\":\n",
        "      self.labels = self.df[\"effectiveness\"]\n",
        "      self.data = self.df[\"benefitsReview\"]\n",
        "    elif self.task == \"sideEffects\":\n",
        "      self.labels = self.df[\"sideEffects\"]\n",
        "      self.data = self.df[\"sideEffectsReview\"]\n",
        "    else:\n",
        "      raise ValueError(\"Bad task!\")\n",
        "\n",
        "\n",
        "    encoded_data = tokenizer.batch_encode_plus(\n",
        "        self.data.values,\n",
        "        add_special_tokens=True,\n",
        "        return_attention_mask=True,\n",
        "        pad_to_max_length=True,\n",
        "        max_length=256,\n",
        "        return_tensors='pt'\n",
        "    )\n",
        "\n",
        "    self.input_ids = encoded_data['input_ids']\n",
        "    self.attention_masks = encoded_data['attention_mask']\n",
        "\n",
        "    self.labels = torch.tensor(self.labels.values)\n",
        "  \n",
        "  def __len__(self):\n",
        "        return len(self.df)\n",
        "\n",
        "  def __getitem__(self, idx):\n",
        "    return self.input_ids[idx], self.attention_masks[idx], self.labels[idx]"
      ],
      "metadata": {
        "id": "l-KbZjlXU4YD"
      },
      "execution_count": 16,
      "outputs": []
    },
    {
      "cell_type": "code",
      "source": [
        "class BertRNN(nn.Module):\n",
        "    def __init__(self,\n",
        "                 bert,\n",
        "                 hidden_dim,\n",
        "                 output_dim,\n",
        "                 n_layers,\n",
        "                 bidirectional,\n",
        "                 dropout):\n",
        "        super(BertRNN, self).__init__()\n",
        "\n",
        "        self.bert = bert\n",
        "        \n",
        "        embedding_dim = bert.config.to_dict()['hidden_size']\n",
        "        \n",
        "        self.rnn = nn.LSTM(embedding_dim,\n",
        "                          hidden_dim,\n",
        "                          num_layers = n_layers,\n",
        "                          bidirectional = bidirectional,\n",
        "                          batch_first = True,\n",
        "                          dropout = 0 if n_layers < 2 else dropout)\n",
        "        \n",
        "        self.out = nn.Linear(hidden_dim * 2 if bidirectional else hidden_dim, output_dim)\n",
        "        \n",
        "        self.dropout = nn.Dropout(dropout)\n",
        "\n",
        "\n",
        "\n",
        "    def forward(self, inputs):\n",
        "        #text = [batch size, sent len]\n",
        "                \n",
        "        with torch.no_grad():\n",
        "            embedded = self.bert(inputs)[0]\n",
        "\n",
        "        #embedded = [batch size, sent len, emb dim]\n",
        "        \n",
        "        _, hidden = self.rnn(embedded)\n",
        "        \n",
        "        #hidden = [n layers * n directions, batch size, emb dim]\n",
        "        \n",
        "        if self.rnn.bidirectional:\n",
        "            hidden = self.dropout(torch.cat((hidden[-2,:,:], hidden[-1,:,:]), dim = 1))\n",
        "        else:\n",
        "            hidden = self.dropout(hidden[-1,:,:])\n",
        "                \n",
        "        #hidden = [batch size, hid dim]\n",
        "        \n",
        "        output = self.out(hidden)\n",
        "        \n",
        "        #output = [batch size, out dim]\n",
        "        \n",
        "        return output"
      ],
      "metadata": {
        "id": "sd9FVgTDQ6nI"
      },
      "execution_count": 34,
      "outputs": []
    },
    {
      "cell_type": "markdown",
      "source": [
        "## Overall"
      ],
      "metadata": {
        "id": "ujmiS9S0hwZd"
      }
    },
    {
      "cell_type": "code",
      "source": [
        "bertTestDataset = DrugLibBert(DATA_DIR, train=False, task=\"overall\")\n",
        "bertTrainDataset = DrugLibBert(DATA_DIR, train=True, task=\"overall\")\n",
        "\n",
        "bertTestDataloader = DataLoader(bertTestDataset, batch_size=16)\n",
        "bertTrainDataloader = DataLoader(bertTrainDataset, batch_size=16)"
      ],
      "metadata": {
        "colab": {
          "base_uri": "https://localhost:8080/"
        },
        "id": "agdbGazyXlz9",
        "outputId": "050c5a48-2a7e-422c-a987-5dbd6047ef4e"
      },
      "execution_count": 17,
      "outputs": [
        {
          "output_type": "stream",
          "name": "stderr",
          "text": [
            "Truncation was not explicitly activated but `max_length` is provided a specific value, please use `truncation=True` to explicitly truncate examples to max length. Defaulting to 'longest_first' truncation strategy. If you encode pairs of sequences (GLUE-style) with the tokenizer you can select this strategy more precisely by providing a specific strategy to `truncation`.\n"
          ]
        },
        {
          "output_type": "stream",
          "name": "stdout",
          "text": [
            "Files already downloaded and verified\n"
          ]
        },
        {
          "output_type": "stream",
          "name": "stderr",
          "text": [
            "/usr/local/lib/python3.7/dist-packages/transformers/tokenization_utils_base.py:2269: FutureWarning: The `pad_to_max_length` argument is deprecated and will be removed in a future version, use `padding=True` or `padding='longest'` to pad to the longest sequence in the batch, or use `padding='max_length'` to pad to a max length. In this case, you can give a specific length with `max_length` (e.g. `max_length=45`) or leave max_length to None to pad to the maximal input size of the model (e.g. 512 for Bert).\n",
            "  FutureWarning,\n"
          ]
        },
        {
          "output_type": "stream",
          "name": "stdout",
          "text": [
            "Files already downloaded and verified\n"
          ]
        },
        {
          "output_type": "stream",
          "name": "stderr",
          "text": [
            "/usr/local/lib/python3.7/dist-packages/transformers/tokenization_utils_base.py:2269: FutureWarning: The `pad_to_max_length` argument is deprecated and will be removed in a future version, use `padding=True` or `padding='longest'` to pad to the longest sequence in the batch, or use `padding='max_length'` to pad to a max length. In this case, you can give a specific length with `max_length` (e.g. `max_length=45`) or leave max_length to None to pad to the maximal input size of the model (e.g. 512 for Bert).\n",
            "  FutureWarning,\n"
          ]
        }
      ]
    },
    {
      "cell_type": "code",
      "source": [
        "overallBert = BertForSequenceClassification.from_pretrained(\n",
        "                                      'bert-base-uncased', \n",
        "                                      num_labels = 3,\n",
        "                                      output_attentions = False,\n",
        "                                      output_hidden_states = False\n",
        "                                     ).to(\"cuda\")"
      ],
      "metadata": {
        "id": "gfFsXJsZzqTk",
        "colab": {
          "base_uri": "https://localhost:8080/"
        },
        "outputId": "8b5db086-d65f-4167-a44d-eff2d9e35326"
      },
      "execution_count": 24,
      "outputs": [
        {
          "output_type": "stream",
          "name": "stderr",
          "text": [
            "Some weights of the model checkpoint at bert-base-uncased were not used when initializing BertForSequenceClassification: ['cls.predictions.transform.LayerNorm.weight', 'cls.predictions.decoder.weight', 'cls.seq_relationship.bias', 'cls.predictions.transform.dense.weight', 'cls.predictions.transform.dense.bias', 'cls.predictions.transform.LayerNorm.bias', 'cls.seq_relationship.weight', 'cls.predictions.bias']\n",
            "- This IS expected if you are initializing BertForSequenceClassification from the checkpoint of a model trained on another task or with another architecture (e.g. initializing a BertForSequenceClassification model from a BertForPreTraining model).\n",
            "- This IS NOT expected if you are initializing BertForSequenceClassification from the checkpoint of a model that you expect to be exactly identical (initializing a BertForSequenceClassification model from a BertForSequenceClassification model).\n",
            "Some weights of BertForSequenceClassification were not initialized from the model checkpoint at bert-base-uncased and are newly initialized: ['classifier.bias', 'classifier.weight']\n",
            "You should probably TRAIN this model on a down-stream task to be able to use it for predictions and inference.\n"
          ]
        }
      ]
    },
    {
      "cell_type": "code",
      "source": [
        "def train_loop_bert(dataloader, model, loss_fn, optimizer):\n",
        "    size = len(dataloader.dataset)\n",
        "    correct = 0\n",
        "    total_loss = 0\n",
        "    model.train()\n",
        "    for batch, (input_ids, attention_mask, labels) in enumerate(dataloader):\n",
        "        input_ids, attention_mask, labels = input_ids.to(\"cuda\"), attention_mask.to(\"cuda\"), labels.to(\"cuda\")\n",
        "        optimizer.zero_grad()\n",
        "        model.zero_grad()\n",
        "\n",
        "        outputs = model(input_ids=input_ids, attention_mask=attention_mask, labels=labels)\n",
        "        loss = outputs[0]\n",
        "        pred = outputs[1]\n",
        "\n",
        "        loss.backward()\n",
        "        optimizer.step()\n",
        "\n",
        "        correct += (pred.argmax(1) == labels).type(torch.float).sum().item()\n",
        "        total_loss += float(loss.item())\n",
        "        if batch % 20 == 0:\n",
        "            loss, current = float(loss.item()), (batch +1) * len(input_ids)\n",
        "            print(f\"Accuracy: {(100 * correct / current):>0.1f}%, Avg loss: {loss:>7f},\\t[{current:>5d}/{size:>5d}]\")\n",
        "    \n",
        "    lossTrain = total_loss/len(dataloader)\n",
        "    accuracyTrain = 100 * correct / size\n",
        "\n",
        "    print(f\"Train accuracy: {accuracyTrain:>0.1f}%, Avg loss: {lossTrain:>7f} \")\n",
        "\n",
        "    print(f\"Memory allocated: {(torch.cuda.memory_allocated()/1024/1024):.1f} MB\")\n",
        "\n",
        "    return lossTrain, accuracyTrain"
      ],
      "metadata": {
        "id": "1wEiopcBnYl9"
      },
      "execution_count": 23,
      "outputs": []
    },
    {
      "cell_type": "code",
      "source": [
        "def test_loop_bert(dataloader, model, loss_fn):\n",
        "    size = len(dataloader.dataset)\n",
        "    num_batches = len(dataloader)\n",
        "    test_loss, correct = 0, 0\n",
        "\n",
        "    with torch.no_grad():\n",
        "        model.eval()\n",
        "        for batch, (input_ids, attention_mask, labels) in enumerate(dataloader):\n",
        "            input_ids, attention_mask, labels = input_ids.to(\"cuda\"), attention_mask.to(\"cuda\"), labels.to(\"cuda\")\n",
        "\n",
        "            outputs = model(input_ids=input_ids, attention_mask=attention_mask, labels=labels)\n",
        "            \n",
        "            loss = outputs[0]\n",
        "            pred = outputs[1]\n",
        "            \n",
        "            test_loss += float(loss.item())\n",
        "            correct += (pred.argmax(1) == labels).type(torch.float).sum().item()\n",
        "\n",
        "            if batch % 20 == 0:\n",
        "              loss, current = loss.item(), batch * len(input_ids)\n",
        "              print(f\"Test loss: {loss:>7f}  [{current:>5d}/{size:>5d}]\")\n",
        "\n",
        "    test_loss /= num_batches\n",
        "    correct /= size\n",
        "\n",
        "    accuracyTest = 100 * correct\n",
        "\n",
        "    print(f\"Test Error: \\n Accuracy: {accuracyTest:>0.1f}%, Avg loss: {test_loss:>8f} \\n\")\n",
        "    print(f\"Memory allocated: {(torch.cuda.memory_allocated()/1024/1024):.1f} MB\")\n",
        "\n",
        "    return test_loss, accuracyTest"
      ],
      "metadata": {
        "id": "abpwo8n5nkCA"
      },
      "execution_count": 21,
      "outputs": []
    },
    {
      "cell_type": "code",
      "source": [
        "def predict_bert(model, dataloader):\n",
        "  y_pred = []\n",
        "  y_true = []\n",
        "  confidence = []\n",
        "\n",
        "  size = len(dataloader.dataset)\n",
        "\n",
        "  with torch.no_grad():\n",
        "    model.eval()\n",
        "    for batch, (input_ids, attention_mask, labels) in enumerate(dataloader):\n",
        "        input_ids, attention_mask, labels = input_ids.to(\"cuda\"), attention_mask.to(\"cuda\"), labels.to(\"cuda\")\n",
        "\n",
        "        outputs = model(input_ids=input_ids, attention_mask=attention_mask, labels=labels)\n",
        "            \n",
        "        loss = outputs[0]\n",
        "        pred = outputs[1]\n",
        "\n",
        "        y_true.append(labels.cpu().numpy())\n",
        "        y_pred_t = pred.argmax(1).cpu().numpy()\n",
        "\n",
        "        y_pred.append(y_pred_t)\n",
        "        confidence.append(softmax(pred).cpu().numpy())\n",
        "\n",
        "        if batch % 20 == 0:\n",
        "          current = batch * len(input_ids)\n",
        "          print(f\"Test:  [{current:>5d}/{size:>5d}]\")\n",
        "\n",
        "  y_pred = np.concatenate([i.squeeze() for i in y_pred])\n",
        "  y_true = np.concatenate([i.squeeze() for i in y_true])\n",
        "  confidence = np.concatenate([i.squeeze() for i in confidence])\n",
        "\n",
        "  return y_pred, y_true, confidence"
      ],
      "metadata": {
        "id": "oDC4yekB2LBL"
      },
      "execution_count": 32,
      "outputs": []
    },
    {
      "cell_type": "code",
      "source": [
        "optimizer = Adam(overallBert.parameters(), lr=0.01)\n",
        "\n",
        "train_and_plot_lc(overallBert, \"BERT overall\", bertTrainDataloader, bertTestDataloader, None, optimizer, 10, train_loop_bert, test_loop_bert)"
      ],
      "metadata": {
        "colab": {
          "base_uri": "https://localhost:8080/",
          "height": 1000
        },
        "id": "yMFoCfmPzwcw",
        "outputId": "29dd54af-4bb4-4877-a115-fc9beafe1df8"
      },
      "execution_count": 26,
      "outputs": [
        {
          "output_type": "stream",
          "name": "stdout",
          "text": [
            "Epoch 1\n",
            "-------------------------------\n",
            "Memory allocated: 2174.7 MB\n",
            "Accuracy: 6.2%, Avg loss: 1.254197,\t[   16/ 3096]\n",
            "Accuracy: 46.1%, Avg loss: 1.521045,\t[  336/ 3096]\n",
            "Accuracy: 57.2%, Avg loss: 0.924126,\t[  656/ 3096]\n",
            "Accuracy: 57.6%, Avg loss: 1.027710,\t[  976/ 3096]\n",
            "Accuracy: 57.2%, Avg loss: 1.850906,\t[ 1296/ 3096]\n",
            "Accuracy: 57.2%, Avg loss: 1.772797,\t[ 1616/ 3096]\n",
            "Accuracy: 56.8%, Avg loss: 1.338751,\t[ 1936/ 3096]\n",
            "Accuracy: 57.0%, Avg loss: 2.110138,\t[ 2256/ 3096]\n",
            "Accuracy: 57.1%, Avg loss: 2.231029,\t[ 2576/ 3096]\n",
            "Accuracy: 56.8%, Avg loss: 1.966668,\t[ 2896/ 3096]\n",
            "Train accuracy: 56.3%, Avg loss: 1.369383 \n",
            "Memory allocated: 3472.5 MB\n",
            "Test loss: 2.446530  [    0/ 1036]\n",
            "Test loss: 2.003143  [  320/ 1036]\n",
            "Test loss: 3.350206  [  640/ 1036]\n",
            "Test loss: 1.116368  [  960/ 1036]\n",
            "Test Error: \n",
            " Accuracy: 64.7%, Avg loss: 2.088371 \n",
            "\n",
            "Memory allocated: 3472.5 MB\n",
            "Validation loss decreased (inf --> 2.088371).  Saving model ...\n",
            "Epoch 2\n",
            "-------------------------------\n",
            "Memory allocated: 3472.4 MB\n",
            "Accuracy: 56.2%, Avg loss: 3.075109,\t[   16/ 3096]\n",
            "Accuracy: 50.9%, Avg loss: 2.217593,\t[  336/ 3096]\n",
            "Accuracy: 58.5%, Avg loss: 1.009915,\t[  656/ 3096]\n",
            "Accuracy: 58.8%, Avg loss: 0.956781,\t[  976/ 3096]\n",
            "Accuracy: 59.3%, Avg loss: 1.889672,\t[ 1296/ 3096]\n",
            "Accuracy: 58.7%, Avg loss: 1.037164,\t[ 1616/ 3096]\n",
            "Accuracy: 57.9%, Avg loss: 1.921911,\t[ 1936/ 3096]\n",
            "Accuracy: 58.9%, Avg loss: 2.108419,\t[ 2256/ 3096]\n",
            "Accuracy: 59.1%, Avg loss: 2.287481,\t[ 2576/ 3096]\n",
            "Accuracy: 58.3%, Avg loss: 3.197304,\t[ 2896/ 3096]\n",
            "Train accuracy: 57.6%, Avg loss: 1.391637 \n",
            "Memory allocated: 3472.5 MB\n",
            "Test loss: 1.950232  [    0/ 1036]\n",
            "Test loss: 1.643624  [  320/ 1036]\n",
            "Test loss: 2.408760  [  640/ 1036]\n",
            "Test loss: 1.030407  [  960/ 1036]\n",
            "Test Error: \n",
            " Accuracy: 64.7%, Avg loss: 1.613400 \n",
            "\n",
            "Memory allocated: 3472.5 MB\n",
            "Validation loss decreased (2.088371 --> 1.613400).  Saving model ...\n",
            "Epoch 3\n",
            "-------------------------------\n",
            "Memory allocated: 3472.4 MB\n",
            "Accuracy: 56.2%, Avg loss: 2.165737,\t[   16/ 3096]\n",
            "Accuracy: 50.0%, Avg loss: 2.157193,\t[  336/ 3096]\n",
            "Accuracy: 57.5%, Avg loss: 1.094087,\t[  656/ 3096]\n",
            "Accuracy: 58.7%, Avg loss: 0.847531,\t[  976/ 3096]\n",
            "Accuracy: 58.3%, Avg loss: 2.111122,\t[ 1296/ 3096]\n",
            "Accuracy: 57.4%, Avg loss: 0.841648,\t[ 1616/ 3096]\n",
            "Accuracy: 56.6%, Avg loss: 1.909020,\t[ 1936/ 3096]\n",
            "Accuracy: 56.6%, Avg loss: 2.537662,\t[ 2256/ 3096]\n",
            "Accuracy: 56.8%, Avg loss: 1.882888,\t[ 2576/ 3096]\n",
            "Accuracy: 55.9%, Avg loss: 3.190258,\t[ 2896/ 3096]\n",
            "Train accuracy: 55.4%, Avg loss: 1.383322 \n",
            "Memory allocated: 3472.5 MB\n",
            "Test loss: 1.791325  [    0/ 1036]\n",
            "Test loss: 1.574856  [  320/ 1036]\n",
            "Test loss: 1.850033  [  640/ 1036]\n",
            "Test loss: 1.141917  [  960/ 1036]\n",
            "Test Error: \n",
            " Accuracy: 64.7%, Avg loss: 1.411495 \n",
            "\n",
            "Memory allocated: 3472.5 MB\n",
            "Validation loss decreased (1.613400 --> 1.411495).  Saving model ...\n",
            "Epoch 4\n",
            "-------------------------------\n",
            "Memory allocated: 3472.4 MB\n",
            "Accuracy: 56.2%, Avg loss: 1.450413,\t[   16/ 3096]\n",
            "Accuracy: 51.8%, Avg loss: 1.375915,\t[  336/ 3096]\n",
            "Accuracy: 57.3%, Avg loss: 0.912728,\t[  656/ 3096]\n",
            "Accuracy: 57.8%, Avg loss: 0.905153,\t[  976/ 3096]\n",
            "Accuracy: 58.6%, Avg loss: 1.097031,\t[ 1296/ 3096]\n",
            "Accuracy: 58.6%, Avg loss: 0.428209,\t[ 1616/ 3096]\n",
            "Accuracy: 58.5%, Avg loss: 2.039211,\t[ 1936/ 3096]\n",
            "Accuracy: 58.6%, Avg loss: 3.268779,\t[ 2256/ 3096]\n",
            "Accuracy: 58.6%, Avg loss: 2.320472,\t[ 2576/ 3096]\n",
            "Accuracy: 58.4%, Avg loss: 2.514998,\t[ 2896/ 3096]\n",
            "Train accuracy: 58.1%, Avg loss: 1.353054 \n",
            "Memory allocated: 3472.5 MB\n",
            "Test loss: 2.385994  [    0/ 1036]\n",
            "Test loss: 2.010540  [  320/ 1036]\n",
            "Test loss: 2.930859  [  640/ 1036]\n",
            "Test loss: 1.259633  [  960/ 1036]\n",
            "Test Error: \n",
            " Accuracy: 64.7%, Avg loss: 1.964623 \n",
            "\n",
            "Memory allocated: 3472.5 MB\n",
            "EarlyStopping counter: 1 out of 3\n",
            "Epoch 5\n",
            "-------------------------------\n",
            "Memory allocated: 3472.4 MB\n",
            "Accuracy: 56.2%, Avg loss: 2.467998,\t[   16/ 3096]\n",
            "Accuracy: 46.7%, Avg loss: 1.967530,\t[  336/ 3096]\n",
            "Accuracy: 56.6%, Avg loss: 0.960767,\t[  656/ 3096]\n",
            "Accuracy: 57.5%, Avg loss: 0.858335,\t[  976/ 3096]\n",
            "Accuracy: 56.6%, Avg loss: 2.332696,\t[ 1296/ 3096]\n",
            "Accuracy: 56.2%, Avg loss: 0.853921,\t[ 1616/ 3096]\n",
            "Accuracy: 55.6%, Avg loss: 1.594583,\t[ 1936/ 3096]\n",
            "Accuracy: 55.6%, Avg loss: 2.907293,\t[ 2256/ 3096]\n",
            "Accuracy: 55.0%, Avg loss: 1.791573,\t[ 2576/ 3096]\n",
            "Accuracy: 54.9%, Avg loss: 1.778831,\t[ 2896/ 3096]\n",
            "Train accuracy: 54.5%, Avg loss: 1.412857 \n",
            "Memory allocated: 3472.5 MB\n",
            "Test loss: 1.458530  [    0/ 1036]\n",
            "Test loss: 1.282849  [  320/ 1036]\n",
            "Test loss: 1.537927  [  640/ 1036]\n",
            "Test loss: 0.931487  [  960/ 1036]\n",
            "Test Error: \n",
            " Accuracy: 64.7%, Avg loss: 1.167285 \n",
            "\n",
            "Memory allocated: 3472.5 MB\n",
            "Validation loss decreased (1.411495 --> 1.167285).  Saving model ...\n",
            "Epoch 6\n",
            "-------------------------------\n",
            "Memory allocated: 3472.4 MB\n",
            "Accuracy: 56.2%, Avg loss: 1.285023,\t[   16/ 3096]\n",
            "Accuracy: 52.1%, Avg loss: 1.448987,\t[  336/ 3096]\n",
            "Accuracy: 59.0%, Avg loss: 1.048372,\t[  656/ 3096]\n",
            "Accuracy: 58.4%, Avg loss: 1.052224,\t[  976/ 3096]\n",
            "Accuracy: 58.5%, Avg loss: 1.123774,\t[ 1296/ 3096]\n",
            "Accuracy: 58.5%, Avg loss: 0.557470,\t[ 1616/ 3096]\n",
            "Accuracy: 58.2%, Avg loss: 1.784763,\t[ 1936/ 3096]\n",
            "Accuracy: 57.8%, Avg loss: 3.829900,\t[ 2256/ 3096]\n",
            "Accuracy: 56.8%, Avg loss: 1.077287,\t[ 2576/ 3096]\n",
            "Accuracy: 56.8%, Avg loss: 1.780651,\t[ 2896/ 3096]\n",
            "Train accuracy: 56.5%, Avg loss: 1.398378 \n",
            "Memory allocated: 3472.5 MB\n",
            "Test loss: 2.182589  [    0/ 1036]\n",
            "Test loss: 1.769002  [  320/ 1036]\n",
            "Test loss: 3.135553  [  640/ 1036]\n",
            "Test loss: 0.941828  [  960/ 1036]\n",
            "Test Error: \n",
            " Accuracy: 64.7%, Avg loss: 1.907464 \n",
            "\n",
            "Memory allocated: 3472.5 MB\n",
            "EarlyStopping counter: 1 out of 3\n",
            "Epoch 7\n",
            "-------------------------------\n",
            "Memory allocated: 3472.4 MB\n",
            "Accuracy: 56.2%, Avg loss: 2.880733,\t[   16/ 3096]\n",
            "Accuracy: 52.1%, Avg loss: 1.759573,\t[  336/ 3096]\n",
            "Accuracy: 59.0%, Avg loss: 0.962805,\t[  656/ 3096]\n",
            "Accuracy: 60.1%, Avg loss: 0.942274,\t[  976/ 3096]\n",
            "Accuracy: 59.6%, Avg loss: 1.092808,\t[ 1296/ 3096]\n",
            "Accuracy: 60.3%, Avg loss: 0.454348,\t[ 1616/ 3096]\n",
            "Accuracy: 59.3%, Avg loss: 2.255243,\t[ 1936/ 3096]\n",
            "Accuracy: 59.8%, Avg loss: 2.041545,\t[ 2256/ 3096]\n",
            "Accuracy: 59.6%, Avg loss: 2.439374,\t[ 2576/ 3096]\n",
            "Accuracy: 58.8%, Avg loss: 2.629851,\t[ 2896/ 3096]\n",
            "Train accuracy: 58.0%, Avg loss: 1.295861 \n",
            "Memory allocated: 3472.5 MB\n",
            "Test loss: 2.540664  [    0/ 1036]\n",
            "Test loss: 2.135102  [  320/ 1036]\n",
            "Test loss: 3.151283  [  640/ 1036]\n",
            "Test loss: 1.323978  [  960/ 1036]\n",
            "Test Error: \n",
            " Accuracy: 64.7%, Avg loss: 2.097325 \n",
            "\n",
            "Memory allocated: 3472.5 MB\n",
            "EarlyStopping counter: 2 out of 3\n",
            "Epoch 8\n",
            "-------------------------------\n",
            "Memory allocated: 3472.4 MB\n",
            "Accuracy: 56.2%, Avg loss: 3.052934,\t[   16/ 3096]\n",
            "Accuracy: 49.4%, Avg loss: 2.006999,\t[  336/ 3096]\n",
            "Accuracy: 57.3%, Avg loss: 1.261759,\t[  656/ 3096]\n",
            "Accuracy: 58.6%, Avg loss: 0.826609,\t[  976/ 3096]\n",
            "Accuracy: 58.9%, Avg loss: 1.191407,\t[ 1296/ 3096]\n",
            "Accuracy: 59.0%, Avg loss: 0.470569,\t[ 1616/ 3096]\n",
            "Accuracy: 58.6%, Avg loss: 2.270422,\t[ 1936/ 3096]\n",
            "Accuracy: 59.0%, Avg loss: 2.562973,\t[ 2256/ 3096]\n",
            "Accuracy: 58.9%, Avg loss: 2.063918,\t[ 2576/ 3096]\n",
            "Accuracy: 58.4%, Avg loss: 2.528087,\t[ 2896/ 3096]\n",
            "Train accuracy: 57.6%, Avg loss: 1.376674 \n",
            "Memory allocated: 3472.5 MB\n",
            "Test loss: 2.025891  [    0/ 1036]\n",
            "Test loss: 1.640802  [  320/ 1036]\n",
            "Test loss: 3.013912  [  640/ 1036]\n",
            "Test loss: 0.870625  [  960/ 1036]\n",
            "Test Error: \n",
            " Accuracy: 64.7%, Avg loss: 1.823700 \n",
            "\n",
            "Memory allocated: 3472.5 MB\n",
            "EarlyStopping counter: 3 out of 3\n",
            "Early stopping, epoch 8\n",
            "Done! BERT overall trained.\n"
          ]
        },
        {
          "output_type": "display_data",
          "data": {
            "text/plain": [
              "<Figure size 432x288 with 2 Axes>"
            ],
            "image/png": "[encoded data removed]"
          },
          "metadata": {
            "needs_background": "light"
          }
        }
      ]
    },
    {
      "cell_type": "code",
      "source": [
        "overallBert.load_state_dict(torch.load(f\"{DATA_DIR}BERT overall-4.pth\"))\n",
        "metrics(overallBert, bertTestDataloader, \"overall\", predict_bert)"
      ],
      "metadata": {
        "colab": {
          "base_uri": "https://localhost:8080/"
        },
        "id": "JqJkV9SZ38FA",
        "outputId": "d16a7b94-aefb-487f-fbea-ba1ef6a93f43"
      },
      "execution_count": 33,
      "outputs": [
        {
          "output_type": "stream",
          "name": "stderr",
          "text": [
            "/usr/local/lib/python3.7/dist-packages/ipykernel_launcher.py:22: UserWarning: Implicit dimension choice for softmax has been deprecated. Change the call to include dim=X as an argument.\n"
          ]
        },
        {
          "output_type": "stream",
          "name": "stdout",
          "text": [
            "Test:  [    0/ 1036]\n",
            "Test:  [  320/ 1036]\n",
            "Test:  [  640/ 1036]\n",
            "Test:  [  960/ 1036]\n",
            "                precision    recall  f1-score   support\n",
            "\n",
            "   rating <= 4       0.00      0.00      0.00       241\n",
            "4 < rating < 7       0.00      0.00      0.00       125\n",
            "   rating >= 7       0.65      1.00      0.79       670\n",
            "\n",
            "      accuracy                           0.65      1036\n",
            "     macro avg       0.22      0.33      0.26      1036\n",
            "  weighted avg       0.42      0.65      0.51      1036\n",
            "\n",
            "\n",
            "\n",
            "Accuracy: 0.6467181467181468\n",
            "Balanced_accuracy: 0.3333333333333333\n",
            "F1: 0.2618210238374365\n",
            "Roc_auc: 0.5\n",
            "Precision: 0.2155727155727156\n",
            "Recall: 0.3333333333333333\n"
          ]
        },
        {
          "output_type": "stream",
          "name": "stderr",
          "text": [
            "/usr/local/lib/python3.7/dist-packages/sklearn/metrics/_classification.py:1318: UndefinedMetricWarning: Precision and F-score are ill-defined and being set to 0.0 in labels with no predicted samples. Use `zero_division` parameter to control this behavior.\n",
            "  _warn_prf(average, modifier, msg_start, len(result))\n",
            "/usr/local/lib/python3.7/dist-packages/sklearn/metrics/_classification.py:1318: UndefinedMetricWarning: Precision and F-score are ill-defined and being set to 0.0 in labels with no predicted samples. Use `zero_division` parameter to control this behavior.\n",
            "  _warn_prf(average, modifier, msg_start, len(result))\n",
            "/usr/local/lib/python3.7/dist-packages/sklearn/metrics/_classification.py:1318: UndefinedMetricWarning: Precision and F-score are ill-defined and being set to 0.0 in labels with no predicted samples. Use `zero_division` parameter to control this behavior.\n",
            "  _warn_prf(average, modifier, msg_start, len(result))\n",
            "/usr/local/lib/python3.7/dist-packages/sklearn/metrics/_classification.py:1318: UndefinedMetricWarning: Precision is ill-defined and being set to 0.0 in labels with no predicted samples. Use `zero_division` parameter to control this behavior.\n",
            "  _warn_prf(average, modifier, msg_start, len(result))\n"
          ]
        }
      ]
    }
  ]
}
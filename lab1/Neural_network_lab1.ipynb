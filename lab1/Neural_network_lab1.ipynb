{
 "nbformat": 4,
 "nbformat_minor": 0,
 "metadata": {
  "colab": {
   "name": "Neural_network_lab1.ipynb",
   "provenance": [],
   "collapsed_sections": []
  },
  "kernelspec": {
   "name": "python3",
   "display_name": "Python 3"
  },
  "language_info": {
   "name": "python"
  },
  "accelerator": "GPU"
 },
 "cells": [
  {
   "cell_type": "code",
   "execution_count": 1,
   "metadata": {
    "id": "Ms07-U0YWTNH"
   },
   "outputs": [],
   "source": [
    "from os.path import exists\n",
    "\n",
    "import numpy as np\n",
    "import pandas as pd\n",
    "import matplotlib.pyplot as plt\n",
    "\n",
    "from sklearn.datasets import make_friedman1\n",
    "from sklearn.linear_model import LinearRegression\n",
    "from sklearn.model_selection import train_test_split\n",
    "from sklearn.metrics import r2_score, mean_absolute_error, mean_absolute_percentage_error, mean_squared_error\n",
    "\n",
    "import torch\n",
    "from torch import nn, Tensor\n",
    "from torch.utils.data import DataLoader, TensorDataset\n",
    "from torch.optim import Adam, SGD, RMSprop"
   ]
  },
  {
   "cell_type": "markdown",
   "source": [
    "Підключаємо гугл диск, на якому буде збережено згенерований датасет, моделі та історія їх навчання"
   ],
   "metadata": {
    "collapsed": false,
    "id": "fSBZYuND4wWS"
   }
  },
  {
   "cell_type": "code",
   "source": [
    "from google.colab import drive\n",
    "\n",
    "drive.mount(\"/content/drive\")"
   ],
   "metadata": {
    "colab": {
     "base_uri": "https://localhost:8080/",
     "height": 0
    },
    "id": "pwdO3jNltcsW",
    "outputId": "de5b4642-f2d8-4a5b-8449-6ee2cd1e46bb"
   },
   "execution_count": 2,
   "outputs": [
    {
     "output_type": "stream",
     "name": "stdout",
     "text": [
      "Mounted at /content/drive\n"
     ]
    }
   ]
  },
  {
   "cell_type": "code",
   "source": [
    "DATA_DIR = \"/content/drive/My Drive/ai/\" # Директорія, де  буде збережено згенерований датасет, моделі та історія їх навчання\n",
    "DATA_DIR = \"./data/\""
   ],
   "metadata": {
    "id": "2v-WGMIhzOUT"
   },
   "execution_count": 2,
   "outputs": []
  },
  {
   "cell_type": "markdown",
   "source": [
    "## Генерація/завантаження датасету"
   ],
   "metadata": {
    "collapsed": false,
    "id": "pylf3CGD4wWV"
   }
  },
  {
   "cell_type": "code",
   "source": [
    "load = True # Згенерувати нові дані чи завантажити існуючі\n",
    "\n",
    "if load:\n",
    "    X = np.load(DATA_DIR + \"X.npy\")\n",
    "    y = np.load(DATA_DIR + \"y.npy\")\n",
    "else:\n",
    "    X, y = make_friedman1(n_samples=150_000, n_features=10)\n",
    "\n",
    "    np.save(DATA_DIR + \"X\", X)\n",
    "    np.save(DATA_DIR + \"y\", y)"
   ],
   "metadata": {
    "id": "dSEtANGtXN1Q"
   },
   "execution_count": 3,
   "outputs": []
  },
  {
   "cell_type": "code",
   "source": [
    "print(\"X:\", X, sep=\"\\n\")\n",
    "print(\"y:\", y, sep=\"\\n\")\n",
    "print(f\"Min x {np.min(X)}, max x {np.max(X)}\")\n",
    "print(f\"Min y {np.min(y)}, max y {np.max(y)}\")"
   ],
   "metadata": {
    "colab": {
     "base_uri": "https://localhost:8080/"
    },
    "id": "BAJm5EZ1gAqp",
    "outputId": "ec164ae1-3876-48b9-caa4-fb1f6b3a1501"
   },
   "execution_count": 4,
   "outputs": [
    {
     "name": "stdout",
     "output_type": "stream",
     "text": [
      "X:\n",
      "[[0.6276258  0.86214464 0.89263484 ... 0.97469684 0.57813874 0.41094127]\n",
      " [0.27744292 0.46392083 0.05204787 ... 0.3622791  0.61838196 0.92663297]\n",
      " [0.92108686 0.02191539 0.48270836 ... 0.32016088 0.93796346 0.87034597]\n",
      " ...\n",
      " [0.87513633 0.81199328 0.46184908 ... 0.13573194 0.9331889  0.19938294]\n",
      " [0.21967225 0.07684679 0.27604684 ... 0.95627656 0.59918419 0.51917151]\n",
      " [0.62162028 0.77329336 0.1563185  ... 0.69137964 0.78353178 0.94320617]]\n",
      "y:\n",
      "[23.8923759  17.06315594  6.4487802  ... 16.67398449 14.78644001\n",
      " 22.18221849]\n",
      "Min x 1.9105694463172895e-06, max x 0.9999993994276258\n",
      "Min y 0.3174856842783556, max y 29.42166359491788\n"
     ]
    }
   ]
  },
  {
   "cell_type": "code",
   "source": [
    "X_train, X_test, y_train, y_test = train_test_split(X, y, test_size=0.3)\n",
    "print(f\"Train size: {X_train.shape}, test size: {X_test.shape}\")"
   ],
   "metadata": {
    "colab": {
     "base_uri": "https://localhost:8080/",
     "height": 0
    },
    "id": "wAycpErGgBIi",
    "outputId": "13bfeb8f-d912-439a-ec1f-2302866b13b1"
   },
   "execution_count": 9,
   "outputs": [
    {
     "name": "stdout",
     "output_type": "stream",
     "text": [
      "Train size: (105000, 10), test size: (45000, 10)\n"
     ]
    }
   ]
  },
  {
   "cell_type": "markdown",
   "source": [
    "## Лінійна регресія"
   ],
   "metadata": {
    "collapsed": false,
    "id": "yC3aq5iN4wWX"
   }
  },
  {
   "cell_type": "code",
   "source": [
    "LR = LinearRegression()\n",
    "LR_history = LR.fit(X, y)\n",
    "print(\"Train score:\", LR.score(X_train, y_train))\n",
    "print(\"Test score:\", LR.score(X_test, y_test))"
   ],
   "metadata": {
    "id": "MbnyML92XOId",
    "colab": {
     "base_uri": "https://localhost:8080/",
     "height": 0
    },
    "outputId": "25bb08a9-8950-4f16-9d3e-430e760966ed"
   },
   "execution_count": 10,
   "outputs": [
    {
     "name": "stdout",
     "output_type": "stream",
     "text": [
      "Train score: 0.7501667219047836\n",
      "Test score: 0.7541855654575358\n"
     ]
    }
   ]
  },
  {
   "cell_type": "code",
   "source": [
    "print(\"C:\", LR.coef_)\n",
    "print(\"Intercept:\", LR.intercept_)"
   ],
   "metadata": {
    "colab": {
     "base_uri": "https://localhost:8080/"
    },
    "id": "6AF8QyT7iFQ6",
    "outputId": "438436d1-aef3-43d1-98d4-0bd612925e35"
   },
   "execution_count": null,
   "outputs": [
    {
     "output_type": "stream",
     "name": "stdout",
     "text": [
      "C: [ 6.68702710e+00  6.73319562e+00  1.69922141e-02  1.00124721e+01\n",
      "  4.99876872e+00 -2.45658253e-03  2.08330419e-03 -2.46441671e-02\n",
      "  2.52495806e-02 -4.45759173e-03]\n",
      "Intercept: 0.18387248003077694\n"
     ]
    }
   ]
  },
  {
   "cell_type": "code",
   "source": [
    "y_pred = LR.predict(X_test)\n",
    "LR_df = pd.DataFrame({'True': y_test, 'Predicted': y_pred})\n",
    "LR_df"
   ],
   "metadata": {
    "id": "aq_rYv6AiFcL",
    "colab": {
     "base_uri": "https://localhost:8080/",
     "height": 423
    },
    "outputId": "443aa28f-9e7f-4fc6-aac8-161482ac9ae2"
   },
   "execution_count": null,
   "outputs": [
    {
     "output_type": "execute_result",
     "data": {
      "text/plain": [
       "            True  Predicted\n",
       "0      21.798699  22.389363\n",
       "1       6.931616   8.585501\n",
       "2      23.685924  23.203960\n",
       "3      13.739441  15.157112\n",
       "4      16.017701  16.079444\n",
       "...          ...        ...\n",
       "44995  13.739994  12.984316\n",
       "44996   8.287319   9.371831\n",
       "44997  15.989932  16.092712\n",
       "44998  15.518113  15.005784\n",
       "44999   4.214517   5.377305\n",
       "\n",
       "[45000 rows x 2 columns]"
      ],
      "text/html": [
       "\n",
       "  <div id=\"df-bc75f827-0df8-4a57-b98b-c7d28f14f2a3\">\n",
       "    <div class=\"colab-df-container\">\n",
       "      <div>\n",
       "<style scoped>\n",
       "    .dataframe tbody tr th:only-of-type {\n",
       "        vertical-align: middle;\n",
       "    }\n",
       "\n",
       "    .dataframe tbody tr th {\n",
       "        vertical-align: top;\n",
       "    }\n",
       "\n",
       "    .dataframe thead th {\n",
       "        text-align: right;\n",
       "    }\n",
       "</style>\n",
       "<table border=\"1\" class=\"dataframe\">\n",
       "  <thead>\n",
       "    <tr style=\"text-align: right;\">\n",
       "      <th></th>\n",
       "      <th>True</th>\n",
       "      <th>Predicted</th>\n",
       "    </tr>\n",
       "  </thead>\n",
       "  <tbody>\n",
       "    <tr>\n",
       "      <th>0</th>\n",
       "      <td>21.798699</td>\n",
       "      <td>22.389363</td>\n",
       "    </tr>\n",
       "    <tr>\n",
       "      <th>1</th>\n",
       "      <td>6.931616</td>\n",
       "      <td>8.585501</td>\n",
       "    </tr>\n",
       "    <tr>\n",
       "      <th>2</th>\n",
       "      <td>23.685924</td>\n",
       "      <td>23.203960</td>\n",
       "    </tr>\n",
       "    <tr>\n",
       "      <th>3</th>\n",
       "      <td>13.739441</td>\n",
       "      <td>15.157112</td>\n",
       "    </tr>\n",
       "    <tr>\n",
       "      <th>4</th>\n",
       "      <td>16.017701</td>\n",
       "      <td>16.079444</td>\n",
       "    </tr>\n",
       "    <tr>\n",
       "      <th>...</th>\n",
       "      <td>...</td>\n",
       "      <td>...</td>\n",
       "    </tr>\n",
       "    <tr>\n",
       "      <th>44995</th>\n",
       "      <td>13.739994</td>\n",
       "      <td>12.984316</td>\n",
       "    </tr>\n",
       "    <tr>\n",
       "      <th>44996</th>\n",
       "      <td>8.287319</td>\n",
       "      <td>9.371831</td>\n",
       "    </tr>\n",
       "    <tr>\n",
       "      <th>44997</th>\n",
       "      <td>15.989932</td>\n",
       "      <td>16.092712</td>\n",
       "    </tr>\n",
       "    <tr>\n",
       "      <th>44998</th>\n",
       "      <td>15.518113</td>\n",
       "      <td>15.005784</td>\n",
       "    </tr>\n",
       "    <tr>\n",
       "      <th>44999</th>\n",
       "      <td>4.214517</td>\n",
       "      <td>5.377305</td>\n",
       "    </tr>\n",
       "  </tbody>\n",
       "</table>\n",
       "<p>45000 rows × 2 columns</p>\n",
       "</div>\n",
       "      <button class=\"colab-df-convert\" onclick=\"convertToInteractive('df-bc75f827-0df8-4a57-b98b-c7d28f14f2a3')\"\n",
       "              title=\"Convert this dataframe to an interactive table.\"\n",
       "              style=\"display:none;\">\n",
       "        \n",
       "  <svg xmlns=\"http://www.w3.org/2000/svg\" height=\"24px\"viewBox=\"0 0 24 24\"\n",
       "       width=\"24px\">\n",
       "    <path d=\"M0 0h24v24H0V0z\" fill=\"none\"/>\n",
       "    <path d=\"M18.56 5.44l.94 2.06.94-2.06 2.06-.94-2.06-.94-.94-2.06-.94 2.06-2.06.94zm-11 1L8.5 8.5l.94-2.06 2.06-.94-2.06-.94L8.5 2.5l-.94 2.06-2.06.94zm10 10l.94 2.06.94-2.06 2.06-.94-2.06-.94-.94-2.06-.94 2.06-2.06.94z\"/><path d=\"M17.41 7.96l-1.37-1.37c-.4-.4-.92-.59-1.43-.59-.52 0-1.04.2-1.43.59L10.3 9.45l-7.72 7.72c-.78.78-.78 2.05 0 2.83L4 21.41c.39.39.9.59 1.41.59.51 0 1.02-.2 1.41-.59l7.78-7.78 2.81-2.81c.8-.78.8-2.07 0-2.86zM5.41 20L4 18.59l7.72-7.72 1.47 1.35L5.41 20z\"/>\n",
       "  </svg>\n",
       "      </button>\n",
       "      \n",
       "  <style>\n",
       "    .colab-df-container {\n",
       "      display:flex;\n",
       "      flex-wrap:wrap;\n",
       "      gap: 12px;\n",
       "    }\n",
       "\n",
       "    .colab-df-convert {\n",
       "      background-color: #E8F0FE;\n",
       "      border: none;\n",
       "      border-radius: 50%;\n",
       "      cursor: pointer;\n",
       "      display: none;\n",
       "      fill: #1967D2;\n",
       "      height: 32px;\n",
       "      padding: 0 0 0 0;\n",
       "      width: 32px;\n",
       "    }\n",
       "\n",
       "    .colab-df-convert:hover {\n",
       "      background-color: #E2EBFA;\n",
       "      box-shadow: 0px 1px 2px rgba(60, 64, 67, 0.3), 0px 1px 3px 1px rgba(60, 64, 67, 0.15);\n",
       "      fill: #174EA6;\n",
       "    }\n",
       "\n",
       "    [theme=dark] .colab-df-convert {\n",
       "      background-color: #3B4455;\n",
       "      fill: #D2E3FC;\n",
       "    }\n",
       "\n",
       "    [theme=dark] .colab-df-convert:hover {\n",
       "      background-color: #434B5C;\n",
       "      box-shadow: 0px 1px 3px 1px rgba(0, 0, 0, 0.15);\n",
       "      filter: drop-shadow(0px 1px 2px rgba(0, 0, 0, 0.3));\n",
       "      fill: #FFFFFF;\n",
       "    }\n",
       "  </style>\n",
       "\n",
       "      <script>\n",
       "        const buttonEl =\n",
       "          document.querySelector('#df-bc75f827-0df8-4a57-b98b-c7d28f14f2a3 button.colab-df-convert');\n",
       "        buttonEl.style.display =\n",
       "          google.colab.kernel.accessAllowed ? 'block' : 'none';\n",
       "\n",
       "        async function convertToInteractive(key) {\n",
       "          const element = document.querySelector('#df-bc75f827-0df8-4a57-b98b-c7d28f14f2a3');\n",
       "          const dataTable =\n",
       "            await google.colab.kernel.invokeFunction('convertToInteractive',\n",
       "                                                     [key], {});\n",
       "          if (!dataTable) return;\n",
       "\n",
       "          const docLinkHtml = 'Like what you see? Visit the ' +\n",
       "            '<a target=\"_blank\" href=https://colab.research.google.com/notebooks/data_table.ipynb>data table notebook</a>'\n",
       "            + ' to learn more about interactive tables.';\n",
       "          element.innerHTML = '';\n",
       "          dataTable['output_type'] = 'display_data';\n",
       "          await google.colab.output.renderOutput(dataTable, element);\n",
       "          const docLink = document.createElement('div');\n",
       "          docLink.innerHTML = docLinkHtml;\n",
       "          element.appendChild(docLink);\n",
       "        }\n",
       "      </script>\n",
       "    </div>\n",
       "  </div>\n",
       "  "
      ]
     },
     "metadata": {},
     "execution_count": 9
    }
   ]
  },
  {
   "cell_type": "code",
   "source": [
    "def calc_metrics(epoch, y_train, y_train_pred, y_test, y_test_pred):\n",
    "    # print(\"y_train:\", y_train.size, y_train)\n",
    "    # print(\"y_train_pred:\", y_train_pred.size, y_train_pred)\n",
    "\n",
    "    r2_train = r2_score(y_train, y_train_pred)\n",
    "    r2_test = r2_score(y_test, y_test_pred)\n",
    "\n",
    "    mse_train = mean_squared_error(y_train, y_train_pred)\n",
    "    mse_test = mean_squared_error(y_test, y_test_pred)\n",
    "\n",
    "    mape_train = mean_absolute_percentage_error(y_train, y_train_pred)\n",
    "    mape_test = mean_absolute_percentage_error(y_test, y_test_pred)\n",
    "\n",
    "    mae_train = mean_absolute_error(y_train, y_train_pred)\n",
    "    mae_test = mean_absolute_error(y_test, y_test_pred)\n",
    "\n",
    "    return pd.DataFrame(\n",
    "        {\n",
    "            \"R2 train\": r2_train, \"R2 test\": r2_test,\n",
    "            \"MSE train\": mse_train, \"MSE test\": mse_test,\n",
    "            \"MAPE train\": mape_train, \"MAPE test\": mape_test,\n",
    "            \"MAE train\": mae_train, \"MAE test\": mae_test\n",
    "        }, index=[epoch])\n"
   ],
   "metadata": {
    "id": "pOW0ILWLawYm"
   },
   "execution_count": 11,
   "outputs": []
  },
  {
   "cell_type": "code",
   "source": [
    "baseline = calc_metrics(\"LR\", y_train, LR.predict(X_train), y_test, LR.predict(X_test))"
   ],
   "metadata": {
    "id": "MT7Vq8hH8Oe1"
   },
   "execution_count": 12,
   "outputs": []
  },
  {
   "cell_type": "markdown",
   "source": [
    "Функція знаходження втрат для тестового датасету"
   ],
   "metadata": {
    "collapsed": false,
    "id": "2FIEVKlv4wWa"
   }
  },
  {
   "cell_type": "code",
   "source": [
    "def test_less(model, criterion, test_dataset):\n",
    "    dataloader = DataLoader(test_dataset)\n",
    "    num_batches = len(dataloader)\n",
    "\n",
    "    test_loss = 0\n",
    "\n",
    "    with torch.no_grad():\n",
    "        for X, y in dataloader:\n",
    "            pred = model(X)\n",
    "            test_loss += criterion(pred, y).item()\n",
    "\n",
    "    return test_loss / num_batches\n"
   ],
   "metadata": {
    "id": "wsmRaSWS6TKj"
   },
   "execution_count": null,
   "outputs": []
  },
  {
   "cell_type": "code",
   "source": [
    "def train(model, train_dataset, test_dataset, criterion, optimizer, epochs):\n",
    "    dataloader = DataLoader(train_dataset)\n",
    "    num_batches = len(dataloader)\n",
    "    history = pd.DataFrame(columns=[\"Loss train\", \"Loss test\"])\n",
    "\n",
    "    for epoch in range(epochs):\n",
    "        print(f\"Epoch {epoch + 1}:\")\n",
    "\n",
    "        epoch_loss = 0.0\n",
    "        running_loss = 0.0\n",
    "        for i, (inputs, labels) in enumerate(dataloader):\n",
    "            optimizer.zero_grad()\n",
    "\n",
    "            outputs = model(inputs)\n",
    "\n",
    "            loss = criterion(outputs, labels)\n",
    "            loss.backward()\n",
    "            optimizer.step()\n",
    "\n",
    "            running_loss += loss.item()\n",
    "            epoch_loss += loss.item()\n",
    "            if i % 5000 == 4999:\n",
    "                print(f\"[{epoch + 1}/{epochs}, {i + 1}/{len(train_dataset)}] loss: {running_loss / 5000:.3f}\")\n",
    "                running_loss = 0.0\n",
    "\n",
    "        x_train, y_train = train_dataset.tensors\n",
    "        x_test, y_test = test_dataset.tensors\n",
    "\n",
    "        y_train_pred = model(x_train)\n",
    "        y_test_pred = model(x_test)\n",
    "\n",
    "        history = pd.concat([history, calc_metrics(epoch + 1, y_train.cpu().detach().numpy(),\n",
    "                                                   y_train_pred.cpu().detach().numpy(), y_test.cpu().detach().numpy(),\n",
    "                                                   y_test_pred.cpu().detach().numpy())])\n",
    "\n",
    "        epoch_loss /= num_batches\n",
    "\n",
    "        print(f\"[{epoch + 1}/{epochs}] mean epoch loss: {epoch_loss:.3f}\")\n",
    "\n",
    "        history.at[epoch + 1, \"Loss train\"] = epoch_loss\n",
    "        history.at[epoch + 1, \"Loss test\"] = test_less(model, criterion, test_dataset)\n",
    "\n",
    "    return history\n",
    "\n"
   ],
   "metadata": {
    "id": "vawlM2l6jMIX"
   },
   "execution_count": null,
   "outputs": []
  },
  {
   "cell_type": "code",
   "source": [
    "x_train_tensor = Tensor(X_train).to(\"cuda\")\n",
    "y_train_tensor = Tensor(y_train).to(\"cuda\")\n",
    "train_dataset = TensorDataset(x_train_tensor, y_train_tensor)\n",
    "\n",
    "x_test_tensor = Tensor(X_test).to(\"cuda\")\n",
    "y_test_tensor = Tensor(y_test).to(\"cuda\")\n",
    "test_dataset = TensorDataset(x_test_tensor, y_test_tensor)"
   ],
   "metadata": {
    "id": "rL73gzGgzHzR"
   },
   "execution_count": null,
   "outputs": []
  },
  {
   "cell_type": "code",
   "source": [
    "class DNN1(nn.Module):\n",
    "    def __init__(self):\n",
    "        super(DNN1, self).__init__()\n",
    "        layers = [nn.Linear(10, 30), nn.ReLU(), nn.Linear(30, 30), nn.ReLU(), nn.Linear(30, 1)]\n",
    "\n",
    "        self.linear_relu_stack = nn.Sequential(*layers)\n",
    "\n",
    "    def forward(self, x):\n",
    "        logits = self.linear_relu_stack(x)\n",
    "        return logits\n",
    "\n",
    "\n",
    "class DNN2(nn.Module):\n",
    "    def __init__(self):\n",
    "        super(DNN2, self).__init__()\n",
    "        layers = [nn.Linear(10, 30), nn.ReLU()]\n",
    "\n",
    "        for i in range(5):\n",
    "            layers += [nn.Linear(30, 30), nn.ReLU()]\n",
    "\n",
    "        layers += [nn.Linear(30, 1)]\n",
    "\n",
    "        self.linear_relu_stack = nn.Sequential(*layers)\n",
    "\n",
    "    def forward(self, x):\n",
    "        logits = self.linear_relu_stack(x)\n",
    "        return logits\n",
    "\n",
    "\n",
    "class DNN3(nn.Module):\n",
    "    def __init__(self):\n",
    "        super(DNN3, self).__init__()\n",
    "        layers = [nn.Linear(10, 30), nn.ReLU()]\n",
    "\n",
    "        for i in range(25):\n",
    "            layers += [nn.Linear(30, 30)]\n",
    "\n",
    "        layers += [nn.ReLU(), nn.Linear(30, 1)]\n",
    "\n",
    "        self.linear_relu_stack = nn.Sequential(*layers)\n",
    "\n",
    "    def forward(self, x):\n",
    "        logits = self.linear_relu_stack(x)\n",
    "        return logits"
   ],
   "metadata": {
    "id": "oyAtzCqYiFk3"
   },
   "execution_count": 5,
   "outputs": []
  },
  {
   "cell_type": "code",
   "source": [
    "def train_and_save(epochs, train_dataset, test_dataset, model_class, optimizer_class, learning_rate):\n",
    "    name = f\"{model_class.__name__}-{optimizer_class.__name__}-{learning_rate}-{epochs}-epoch\"\n",
    "    print(f\"Train {name} model\")\n",
    "    model = model_class().to(\"cuda\")\n",
    "\n",
    "    optimizer = optimizer_class(model.parameters(), lr=learning_rate)\n",
    "\n",
    "    history = train(model, train_dataset, test_dataset, nn.MSELoss(), optimizer, epochs)\n",
    "\n",
    "    torch.save(model.state_dict(), f\"{DATA_DIR}{name}.pth\")\n",
    "    print(f\"Saved PyTorch Model State to {DATA_DIR}{name}.pth\")\n",
    "\n",
    "    history.to_csv(f\"{DATA_DIR}{name}-history.csv\")\n",
    "    print(f\"Saved PyTorch Model history to {DATA_DIR}{name}-history.csv\")\n",
    "\n",
    "    return name, history, model\n"
   ],
   "metadata": {
    "id": "RuQm_mqPBVMV"
   },
   "execution_count": null,
   "outputs": []
  },
  {
   "cell_type": "markdown",
   "source": [
    "## Навчання DNN"
   ],
   "metadata": {
    "collapsed": false,
    "id": "eD-6csAl4wWc"
   }
  },
  {
   "cell_type": "code",
   "source": [
    "epochs = 5\n",
    "\n",
    "result_histories = {}\n",
    "result_models = {}\n",
    "\n",
    "for dnn in [DNN3]:  #[DNN1, DNN2, DNN3]:\n",
    "    for optimizer in [SGD, RMSprop, Adam]:\n",
    "        for lr in [0.1, 0.01, 0.001]:\n",
    "          try:\n",
    "            name, history, model = train_and_save(epochs, train_dataset, test_dataset, dnn, optimizer, lr)\n",
    "\n",
    "            result_histories[name] = history\n",
    "            result_models[name] = model\n",
    "          except Exception as e:\n",
    "            print(e)"
   ],
   "metadata": {
    "colab": {
     "base_uri": "https://localhost:8080/"
    },
    "id": "4zaritI3ZHqQ",
    "outputId": "21745f94-d580-467e-d655-4f8d2ccd6829"
   },
   "execution_count": null,
   "outputs": [
    {
     "metadata": {
      "tags": null
     },
     "name": "stdout",
     "output_type": "stream",
     "text": [
      "Train DNN3-SGD-0.1-5-epoch model\n",
      "Epoch 1:\n"
     ]
    },
    {
     "metadata": {
      "tags": null
     },
     "name": "stderr",
     "output_type": "stream",
     "text": [
      "/usr/local/lib/python3.7/dist-packages/torch/nn/modules/loss.py:520: UserWarning: Using a target size (torch.Size([1])) that is different to the input size (torch.Size([1, 1])). This will likely lead to incorrect results due to broadcasting. Please ensure they have the same size.\n",
      "  return F.mse_loss(input, target, reduction=self.reduction)\n"
     ]
    },
    {
     "metadata": {
      "tags": null
     },
     "name": "stdout",
     "output_type": "stream",
     "text": [
      "[1/5, 5000/105000] loss: nan\n",
      "[1/5, 10000/105000] loss: nan\n",
      "[1/5, 15000/105000] loss: nan\n",
      "[1/5, 20000/105000] loss: nan\n",
      "[1/5, 25000/105000] loss: nan\n",
      "[1/5, 30000/105000] loss: nan\n",
      "[1/5, 35000/105000] loss: nan\n",
      "[1/5, 40000/105000] loss: nan\n",
      "[1/5, 45000/105000] loss: nan\n",
      "[1/5, 50000/105000] loss: nan\n",
      "[1/5, 55000/105000] loss: nan\n",
      "[1/5, 60000/105000] loss: nan\n",
      "[1/5, 65000/105000] loss: nan\n",
      "[1/5, 70000/105000] loss: nan\n",
      "[1/5, 75000/105000] loss: nan\n",
      "[1/5, 80000/105000] loss: nan\n",
      "[1/5, 85000/105000] loss: nan\n",
      "[1/5, 90000/105000] loss: nan\n",
      "[1/5, 95000/105000] loss: nan\n",
      "[1/5, 100000/105000] loss: nan\n",
      "[1/5, 105000/105000] loss: nan\n",
      "Input contains NaN, infinity or a value too large for dtype('float32').\n",
      "Train DNN3-SGD-0.01-5-epoch model\n",
      "Epoch 1:\n"
     ]
    },
    {
     "metadata": {
      "tags": null
     },
     "name": "stderr",
     "output_type": "stream",
     "text": [
      "/usr/local/lib/python3.7/dist-packages/torch/nn/modules/loss.py:520: UserWarning: Using a target size (torch.Size([1])) that is different to the input size (torch.Size([1, 1])). This will likely lead to incorrect results due to broadcasting. Please ensure they have the same size.\n",
      "  return F.mse_loss(input, target, reduction=self.reduction)\n"
     ]
    },
    {
     "metadata": {
      "tags": null
     },
     "name": "stdout",
     "output_type": "stream",
     "text": [
      "[1/5, 5000/105000] loss: nan\n",
      "[1/5, 10000/105000] loss: nan\n",
      "[1/5, 15000/105000] loss: nan\n",
      "[1/5, 20000/105000] loss: nan\n",
      "[1/5, 25000/105000] loss: nan\n",
      "[1/5, 30000/105000] loss: nan\n",
      "[1/5, 35000/105000] loss: nan\n",
      "[1/5, 40000/105000] loss: nan\n",
      "[1/5, 45000/105000] loss: nan\n",
      "[1/5, 50000/105000] loss: nan\n",
      "[1/5, 55000/105000] loss: nan\n",
      "[1/5, 60000/105000] loss: nan\n",
      "[1/5, 65000/105000] loss: nan\n",
      "[1/5, 70000/105000] loss: nan\n",
      "[1/5, 75000/105000] loss: nan\n",
      "[1/5, 80000/105000] loss: nan\n",
      "[1/5, 85000/105000] loss: nan\n",
      "[1/5, 90000/105000] loss: nan\n",
      "[1/5, 95000/105000] loss: nan\n",
      "[1/5, 100000/105000] loss: nan\n",
      "[1/5, 105000/105000] loss: nan\n",
      "Input contains NaN, infinity or a value too large for dtype('float32').\n",
      "Train DNN3-SGD-0.001-5-epoch model\n",
      "Epoch 1:\n"
     ]
    },
    {
     "metadata": {
      "tags": null
     },
     "name": "stderr",
     "output_type": "stream",
     "text": [
      "/usr/local/lib/python3.7/dist-packages/torch/nn/modules/loss.py:520: UserWarning: Using a target size (torch.Size([1])) that is different to the input size (torch.Size([1, 1])). This will likely lead to incorrect results due to broadcasting. Please ensure they have the same size.\n",
      "  return F.mse_loss(input, target, reduction=self.reduction)\n"
     ]
    },
    {
     "metadata": {
      "tags": null
     },
     "name": "stdout",
     "output_type": "stream",
     "text": [
      "[1/5, 5000/105000] loss: 68.900\n",
      "[1/5, 10000/105000] loss: 61.685\n",
      "[1/5, 15000/105000] loss: 62.036\n",
      "[1/5, 20000/105000] loss: 61.129\n",
      "[1/5, 25000/105000] loss: 60.063\n",
      "[1/5, 30000/105000] loss: 62.525\n",
      "[1/5, 35000/105000] loss: 61.217\n",
      "[1/5, 40000/105000] loss: 62.330\n",
      "[1/5, 45000/105000] loss: 60.439\n",
      "[1/5, 50000/105000] loss: 62.476\n",
      "[1/5, 55000/105000] loss: 60.572\n",
      "[1/5, 60000/105000] loss: 62.524\n",
      "[1/5, 65000/105000] loss: 60.929\n",
      "[1/5, 70000/105000] loss: 59.997\n",
      "[1/5, 75000/105000] loss: 59.919\n",
      "[1/5, 80000/105000] loss: 59.792\n",
      "[1/5, 85000/105000] loss: 61.009\n",
      "[1/5, 90000/105000] loss: 60.343\n",
      "[1/5, 95000/105000] loss: 60.208\n",
      "[1/5, 100000/105000] loss: 62.320\n",
      "[1/5, 105000/105000] loss: 59.961\n",
      "[1/5] mean epoch loss: 24.579\n"
     ]
    },
    {
     "metadata": {
      "tags": null
     },
     "name": "stderr",
     "output_type": "stream",
     "text": [
      "/usr/local/lib/python3.7/dist-packages/torch/nn/modules/loss.py:520: UserWarning: Using a target size (torch.Size([1])) that is different to the input size (torch.Size([1, 1])). This will likely lead to incorrect results due to broadcasting. Please ensure they have the same size.\n",
      "  return F.mse_loss(input, target, reduction=self.reduction)\n"
     ]
    },
    {
     "metadata": {
      "tags": null
     },
     "name": "stdout",
     "output_type": "stream",
     "text": [
      "Epoch 2:\n",
      "[2/5, 5000/105000] loss: 60.346\n",
      "[2/5, 10000/105000] loss: 60.622\n",
      "[2/5, 15000/105000] loss: 61.364\n",
      "[2/5, 20000/105000] loss: 60.514\n",
      "[2/5, 25000/105000] loss: 59.498\n",
      "[2/5, 30000/105000] loss: 61.954\n",
      "[2/5, 35000/105000] loss: 60.636\n",
      "[2/5, 40000/105000] loss: 61.727\n",
      "[2/5, 45000/105000] loss: 59.904\n",
      "[2/5, 50000/105000] loss: 61.766\n",
      "[2/5, 55000/105000] loss: 60.031\n",
      "[2/5, 60000/105000] loss: 61.933\n",
      "[2/5, 65000/105000] loss: 60.311\n",
      "[2/5, 70000/105000] loss: 59.460\n",
      "[2/5, 75000/105000] loss: 59.400\n",
      "[2/5, 80000/105000] loss: 59.201\n",
      "[2/5, 85000/105000] loss: 60.386\n",
      "[2/5, 90000/105000] loss: 59.872\n",
      "[2/5, 95000/105000] loss: 59.720\n",
      "[2/5, 100000/105000] loss: 61.727\n",
      "[2/5, 105000/105000] loss: 59.403\n",
      "[2/5] mean epoch loss: 24.186\n"
     ]
    },
    {
     "metadata": {
      "tags": null
     },
     "name": "stderr",
     "output_type": "stream",
     "text": [
      "/usr/local/lib/python3.7/dist-packages/torch/nn/modules/loss.py:520: UserWarning: Using a target size (torch.Size([1])) that is different to the input size (torch.Size([1, 1])). This will likely lead to incorrect results due to broadcasting. Please ensure they have the same size.\n",
      "  return F.mse_loss(input, target, reduction=self.reduction)\n"
     ]
    },
    {
     "metadata": {
      "tags": null
     },
     "name": "stdout",
     "output_type": "stream",
     "text": [
      "Epoch 3:\n",
      "[3/5, 5000/105000] loss: 59.812\n",
      "[3/5, 10000/105000] loss: 60.071\n",
      "[3/5, 15000/105000] loss: 60.718\n",
      "[3/5, 20000/105000] loss: 59.996\n",
      "[3/5, 25000/105000] loss: 58.969\n",
      "[3/5, 30000/105000] loss: 61.483\n",
      "[3/5, 35000/105000] loss: 60.134\n",
      "[3/5, 40000/105000] loss: 61.222\n",
      "[3/5, 45000/105000] loss: 59.517\n",
      "[3/5, 50000/105000] loss: 61.095\n",
      "[3/5, 55000/105000] loss: 59.663\n",
      "[3/5, 60000/105000] loss: 61.426\n",
      "[3/5, 65000/105000] loss: 59.797\n",
      "[3/5, 70000/105000] loss: 59.024\n",
      "[3/5, 75000/105000] loss: 58.975\n",
      "[3/5, 80000/105000] loss: 58.697\n",
      "[3/5, 85000/105000] loss: 59.912\n",
      "[3/5, 90000/105000] loss: 59.542\n",
      "[3/5, 95000/105000] loss: 59.326\n",
      "[3/5, 100000/105000] loss: 61.444\n",
      "[3/5, 105000/105000] loss: 59.145\n",
      "[3/5] mean epoch loss: 23.999\n"
     ]
    },
    {
     "metadata": {
      "tags": null
     },
     "name": "stderr",
     "output_type": "stream",
     "text": [
      "/usr/local/lib/python3.7/dist-packages/torch/nn/modules/loss.py:520: UserWarning: Using a target size (torch.Size([1])) that is different to the input size (torch.Size([1, 1])). This will likely lead to incorrect results due to broadcasting. Please ensure they have the same size.\n",
      "  return F.mse_loss(input, target, reduction=self.reduction)\n"
     ]
    },
    {
     "metadata": {
      "tags": null
     },
     "name": "stdout",
     "output_type": "stream",
     "text": [
      "Epoch 4:\n",
      "[4/5, 5000/105000] loss: 59.597\n",
      "[4/5, 10000/105000] loss: 59.770\n",
      "[4/5, 15000/105000] loss: 60.400\n",
      "[4/5, 20000/105000] loss: 59.806\n",
      "[4/5, 25000/105000] loss: 58.789\n",
      "[4/5, 30000/105000] loss: 61.343\n",
      "[4/5, 35000/105000] loss: 59.961\n",
      "[4/5, 40000/105000] loss: 61.104\n",
      "[4/5, 45000/105000] loss: 59.477\n",
      "[4/5, 50000/105000] loss: 60.955\n",
      "[4/5, 55000/105000] loss: 59.658\n",
      "[4/5, 60000/105000] loss: 61.356\n",
      "[4/5, 65000/105000] loss: 59.729\n",
      "[4/5, 70000/105000] loss: 58.973\n",
      "[4/5, 75000/105000] loss: 58.945\n",
      "[4/5, 80000/105000] loss: 58.671\n",
      "[4/5, 85000/105000] loss: 59.906\n",
      "[4/5, 90000/105000] loss: 59.529\n",
      "[4/5, 95000/105000] loss: 59.318\n",
      "[4/5, 100000/105000] loss: 61.440\n",
      "[4/5, 105000/105000] loss: 59.143\n",
      "[4/5] mean epoch loss: 23.959\n"
     ]
    },
    {
     "metadata": {
      "tags": null
     },
     "name": "stderr",
     "output_type": "stream",
     "text": [
      "/usr/local/lib/python3.7/dist-packages/torch/nn/modules/loss.py:520: UserWarning: Using a target size (torch.Size([1])) that is different to the input size (torch.Size([1, 1])). This will likely lead to incorrect results due to broadcasting. Please ensure they have the same size.\n",
      "  return F.mse_loss(input, target, reduction=self.reduction)\n"
     ]
    },
    {
     "metadata": {
      "tags": null
     },
     "name": "stdout",
     "output_type": "stream",
     "text": [
      "Epoch 5:\n",
      "[5/5, 5000/105000] loss: 59.596\n",
      "[5/5, 10000/105000] loss: 59.769\n",
      "[5/5, 15000/105000] loss: 60.399\n",
      "[5/5, 20000/105000] loss: 59.805\n",
      "[5/5, 25000/105000] loss: 58.789\n",
      "[5/5, 30000/105000] loss: 61.342\n",
      "[5/5, 35000/105000] loss: 59.961\n",
      "[5/5, 40000/105000] loss: 61.104\n",
      "[5/5, 45000/105000] loss: 59.477\n",
      "[5/5, 50000/105000] loss: 60.955\n",
      "[5/5, 55000/105000] loss: 59.658\n",
      "[5/5, 60000/105000] loss: 61.356\n",
      "[5/5, 65000/105000] loss: 59.729\n",
      "[5/5, 70000/105000] loss: 58.973\n",
      "[5/5, 75000/105000] loss: 58.945\n",
      "[5/5, 80000/105000] loss: 58.671\n",
      "[5/5, 85000/105000] loss: 59.906\n",
      "[5/5, 90000/105000] loss: 59.529\n",
      "[5/5, 95000/105000] loss: 59.318\n",
      "[5/5, 100000/105000] loss: 61.440\n",
      "[5/5, 105000/105000] loss: 59.143\n",
      "[5/5] mean epoch loss: 23.959\n"
     ]
    },
    {
     "metadata": {
      "tags": null
     },
     "name": "stderr",
     "output_type": "stream",
     "text": [
      "/usr/local/lib/python3.7/dist-packages/torch/nn/modules/loss.py:520: UserWarning: Using a target size (torch.Size([1])) that is different to the input size (torch.Size([1, 1])). This will likely lead to incorrect results due to broadcasting. Please ensure they have the same size.\n",
      "  return F.mse_loss(input, target, reduction=self.reduction)\n"
     ]
    },
    {
     "metadata": {
      "tags": null
     },
     "name": "stdout",
     "output_type": "stream",
     "text": [
      "Saved PyTorch Model State to /content/drive/My Drive/ai/DNN3-SGD-0.001-5-epoch.pth\n",
      "Saved PyTorch Model history to /content/drive/My Drive/ai/DNN3-SGD-0.001-5-epoch-history.csv\n",
      "Train DNN3-RMSprop-0.1-5-epoch model\n",
      "Epoch 1:\n",
      "[1/5, 5000/105000] loss: 2490858496880554094362624.000\n",
      "[1/5, 10000/105000] loss: 2181581548155832553701376.000\n",
      "[1/5, 15000/105000] loss: 1930920667965603627139072.000\n",
      "[1/5, 20000/105000] loss: 1661907806636828820242432.000\n",
      "[1/5, 25000/105000] loss: 1442465100990135261986816.000\n",
      "[1/5, 30000/105000] loss: 1210561508430948759240704.000\n",
      "[1/5, 35000/105000] loss: 1029626914706235693465600.000\n",
      "[1/5, 40000/105000] loss: 841595016377591287250944.000\n",
      "[1/5, 45000/105000] loss: 681385583989571654254592.000\n",
      "[1/5, 50000/105000] loss: 1810820363717864708898816.000\n",
      "[1/5, 55000/105000] loss: 1836048497331122993102848.000\n",
      "[1/5, 60000/105000] loss: 1624902881341100926173184.000\n",
      "[1/5, 65000/105000] loss: 1450331147299088595156992.000\n",
      "[1/5, 70000/105000] loss: 1252315907487592708308992.000\n",
      "[1/5, 75000/105000] loss: 1087707809286041301417984.000\n",
      "[1/5, 80000/105000] loss: 949720633669182627512320.000\n",
      "[1/5, 85000/105000] loss: 799213322599568756441088.000\n",
      "[1/5, 90000/105000] loss: 720521642037467309670400.000\n",
      "[1/5, 95000/105000] loss: 583452595857443373711360.000\n",
      "[1/5, 100000/105000] loss: 509929913563858037899264.000\n",
      "[1/5, 105000/105000] loss: 420757064606762196271104.000\n",
      "[1/5] mean epoch loss: 505078560436771056779264.000\n"
     ]
    },
    {
     "metadata": {
      "tags": null
     },
     "name": "stderr",
     "output_type": "stream",
     "text": [
      "/usr/local/lib/python3.7/dist-packages/torch/nn/modules/loss.py:520: UserWarning: Using a target size (torch.Size([1])) that is different to the input size (torch.Size([1, 1])). This will likely lead to incorrect results due to broadcasting. Please ensure they have the same size.\n",
      "  return F.mse_loss(input, target, reduction=self.reduction)\n"
     ]
    },
    {
     "metadata": {
      "tags": null
     },
     "name": "stdout",
     "output_type": "stream",
     "text": [
      "Epoch 2:\n",
      "[2/5, 5000/105000] loss: 364772668748230765314048.000\n",
      "[2/5, 10000/105000] loss: 296909117273569186807808.000\n",
      "[2/5, 15000/105000] loss: 258766114113227302371328.000\n",
      "[2/5, 20000/105000] loss: 210933153753642284613632.000\n",
      "[2/5, 25000/105000] loss: 181758636169715492323328.000\n",
      "[2/5, 30000/105000] loss: 144910712503487631982592.000\n",
      "[2/5, 35000/105000] loss: 127298380515916816318464.000\n",
      "[2/5, 40000/105000] loss: 102135362903641168019456.000\n",
      "[2/5, 45000/105000] loss: 87512519630496655736832.000\n",
      "[2/5, 50000/105000] loss: 73466504646719734546432.000\n",
      "[2/5, 55000/105000] loss: 61087907931042720251904.000\n",
      "[2/5, 60000/105000] loss: 50637873349240803033088.000\n",
      "[2/5, 65000/105000] loss: 46331878973022016634880.000\n",
      "[2/5, 70000/105000] loss: 33905555230134389178368.000\n",
      "[2/5, 75000/105000] loss: 30181596987351491411968.000\n",
      "[2/5, 80000/105000] loss: 28168003590018629107712.000\n",
      "[2/5, 85000/105000] loss: 22832085616308728627200.000\n",
      "[2/5, 90000/105000] loss: 20864003534834894897152.000\n",
      "[2/5, 95000/105000] loss: 17036545292723124436992.000\n",
      "[2/5, 100000/105000] loss: 16359419731408517595136.000\n",
      "[2/5, 105000/105000] loss: 13592239800312483807232.000\n",
      "[2/5] mean epoch loss: 41704005338953282486272.000\n"
     ]
    },
    {
     "metadata": {
      "tags": null
     },
     "name": "stderr",
     "output_type": "stream",
     "text": [
      "/usr/local/lib/python3.7/dist-packages/torch/nn/modules/loss.py:520: UserWarning: Using a target size (torch.Size([1])) that is different to the input size (torch.Size([1, 1])). This will likely lead to incorrect results due to broadcasting. Please ensure they have the same size.\n",
      "  return F.mse_loss(input, target, reduction=self.reduction)\n"
     ]
    },
    {
     "metadata": {
      "tags": null
     },
     "name": "stdout",
     "output_type": "stream",
     "text": [
      "Epoch 3:\n",
      "[3/5, 5000/105000] loss: 11684903443168881541120.000\n",
      "[3/5, 10000/105000] loss: 11159756298226493292544.000\n",
      "[3/5, 15000/105000] loss: 9701497871117425049600.000\n",
      "[3/5, 20000/105000] loss: 8856939249920760610816.000\n",
      "[3/5, 25000/105000] loss: 8711289160942361772032.000\n",
      "[3/5, 30000/105000] loss: 6722864484649828089856.000\n",
      "[3/5, 35000/105000] loss: 6940903388900257431552.000\n",
      "[3/5, 40000/105000] loss: 5875618306827231428608.000\n",
      "[3/5, 45000/105000] loss: 5445452976704460947456.000\n",
      "[3/5, 50000/105000] loss: 4404884844847246082048.000\n",
      "[3/5, 55000/105000] loss: 4086729391265322893312.000\n",
      "[3/5, 60000/105000] loss: 3319067985472729382912.000\n",
      "[3/5, 65000/105000] loss: 4566469533747189383168.000\n",
      "[3/5, 70000/105000] loss: 2726877767502490763264.000\n",
      "[3/5, 75000/105000] loss: 2980076186089846996992.000\n",
      "[3/5, 80000/105000] loss: 3485279884452689346560.000\n",
      "[3/5, 85000/105000] loss: 2877054071647904464896.000\n",
      "[3/5, 90000/105000] loss: 2740373573775291056128.000\n",
      "[3/5, 95000/105000] loss: 2277430430775735222272.000\n",
      "[3/5, 100000/105000] loss: 2938529415503580495872.000\n",
      "[3/5, 105000/105000] loss: 2829814008054285860864.000\n",
      "[3/5] mean epoch loss: 2177748805211276443648.000\n"
     ]
    },
    {
     "metadata": {
      "tags": null
     },
     "name": "stderr",
     "output_type": "stream",
     "text": [
      "/usr/local/lib/python3.7/dist-packages/torch/nn/modules/loss.py:520: UserWarning: Using a target size (torch.Size([1])) that is different to the input size (torch.Size([1, 1])). This will likely lead to incorrect results due to broadcasting. Please ensure they have the same size.\n",
      "  return F.mse_loss(input, target, reduction=self.reduction)\n"
     ]
    },
    {
     "metadata": {
      "tags": null
     },
     "name": "stdout",
     "output_type": "stream",
     "text": [
      "Epoch 4:\n",
      "[4/5, 5000/105000] loss: 2001848343422339645440.000\n",
      "[4/5, 10000/105000] loss: 2618808362358801432576.000\n",
      "[4/5, 15000/105000] loss: 2033559844264712863744.000\n",
      "[4/5, 20000/105000] loss: 2146778386884576935936.000\n",
      "[4/5, 25000/105000] loss: 2401670620364195495936.000\n",
      "[4/5, 30000/105000] loss: 1886845937602915729408.000\n",
      "[4/5, 35000/105000] loss: 2064889616265086763008.000\n",
      "[4/5, 40000/105000] loss: 1945085499641624264704.000\n",
      "[4/5, 45000/105000] loss: 1918417679712635322368.000\n",
      "[4/5, 50000/105000] loss: 1548092148027910520832.000\n",
      "[4/5, 55000/105000] loss: 1646272600932139139072.000\n",
      "[4/5, 60000/105000] loss: 1335596296709613813760.000\n",
      "[4/5, 65000/105000] loss: 1988493249544823242752.000\n",
      "[4/5, 70000/105000] loss: 1360839906238751047680.000\n",
      "[4/5, 75000/105000] loss: 1443278511888128016384.000\n",
      "[4/5, 80000/105000] loss: 1819873749216935542784.000\n",
      "[4/5, 85000/105000] loss: 1569083230905341575168.000\n",
      "[4/5, 90000/105000] loss: 1523833773562405847040.000\n",
      "[4/5, 95000/105000] loss: 1357676090662142083072.000\n",
      "[4/5, 100000/105000] loss: 1819653656293101273088.000\n",
      "[4/5, 105000/105000] loss: 1898493709012351320064.000\n",
      "[4/5] mean epoch loss: 730077927876391075840.000\n"
     ]
    },
    {
     "metadata": {
      "tags": null
     },
     "name": "stderr",
     "output_type": "stream",
     "text": [
      "/usr/local/lib/python3.7/dist-packages/torch/nn/modules/loss.py:520: UserWarning: Using a target size (torch.Size([1])) that is different to the input size (torch.Size([1, 1])). This will likely lead to incorrect results due to broadcasting. Please ensure they have the same size.\n",
      "  return F.mse_loss(input, target, reduction=self.reduction)\n"
     ]
    },
    {
     "output_type": "stream",
     "name": "stdout",
     "text": [
      "Epoch 5:\n",
      "[5/5, 5000/105000] loss: 1281988979586069168128.000\n",
      "[5/5, 10000/105000] loss: 1823081204803229188096.000\n",
      "[5/5, 15000/105000] loss: 1379946835812392108032.000\n",
      "[5/5, 20000/105000] loss: 1524635536977729945600.000\n",
      "[5/5, 25000/105000] loss: 1718505851333534285824.000\n",
      "[5/5, 30000/105000] loss: 1428852808280826445824.000\n",
      "[5/5, 35000/105000] loss: 1533466985872785145856.000\n",
      "[5/5, 40000/105000] loss: 1511089161220074766336.000\n",
      "[5/5, 45000/105000] loss: 1523023277346175320064.000\n",
      "[5/5, 50000/105000] loss: 1283087002889960554496.000\n",
      "[5/5, 55000/105000] loss: 1403651195921368088576.000\n",
      "[5/5, 60000/105000] loss: 1162048428316490203136.000\n",
      "[5/5, 65000/105000] loss: 1637661392530256166912.000\n",
      "[5/5, 70000/105000] loss: 1232863019935002001408.000\n",
      "[5/5, 75000/105000] loss: 1265796037134022868992.000\n",
      "[5/5, 80000/105000] loss: 1593738995844281794560.000\n",
      "[5/5, 85000/105000] loss: 1405597555932577398784.000\n",
      "[5/5, 90000/105000] loss: 1361334019050477977600.000\n",
      "[5/5, 95000/105000] loss: 1258735784065205272576.000\n",
      "[5/5, 100000/105000] loss: 1649526589933751369728.000\n",
      "[5/5, 105000/105000] loss: 1746471544128851148800.000\n",
      "[5/5] mean epoch loss: 585240042036477362176.000\n"
     ]
    },
    {
     "output_type": "stream",
     "name": "stderr",
     "text": [
      "/usr/local/lib/python3.7/dist-packages/torch/nn/modules/loss.py:520: UserWarning: Using a target size (torch.Size([1])) that is different to the input size (torch.Size([1, 1])). This will likely lead to incorrect results due to broadcasting. Please ensure they have the same size.\n",
      "  return F.mse_loss(input, target, reduction=self.reduction)\n"
     ]
    },
    {
     "output_type": "stream",
     "name": "stdout",
     "text": [
      "Saved PyTorch Model State to /content/drive/My Drive/ai/DNN3-RMSprop-0.1-5-epoch.pth\n",
      "Saved PyTorch Model history to /content/drive/My Drive/ai/DNN3-RMSprop-0.1-5-epoch-history.csv\n",
      "Train DNN3-RMSprop-0.01-5-epoch model\n",
      "Epoch 1:\n",
      "[1/5, 5000/105000] loss: 30604480270301224.000\n",
      "[1/5, 10000/105000] loss: 119495563124571392.000\n",
      "[1/5, 15000/105000] loss: 6684834695900446480714956800.000\n",
      "[1/5, 20000/105000] loss: 6976249349455278335997247488.000\n",
      "[1/5, 25000/105000] loss: 6976234775937164198335741952.000\n",
      "[1/5, 30000/105000] loss: 6975849073850771415750410240.000\n",
      "[1/5, 35000/105000] loss: 6975784322384871504186703872.000\n",
      "[1/5, 40000/105000] loss: 6975751774802054039201644544.000\n",
      "[1/5, 45000/105000] loss: 6976128522396152227516383232.000\n",
      "[1/5, 50000/105000] loss: 6975859907402204747787141120.000\n",
      "[1/5, 55000/105000] loss: 6975804363075206994095767552.000\n",
      "[1/5, 60000/105000] loss: 6976610379980704068315119616.000\n",
      "[1/5, 65000/105000] loss: 6976115422551528861469769728.000\n",
      "[1/5, 70000/105000] loss: 6975238451204182700206325760.000\n",
      "[1/5, 75000/105000] loss: 6975190360099660883946373120.000\n",
      "[1/5, 80000/105000] loss: 6975299287975841887191826432.000\n",
      "[1/5, 85000/105000] loss: 6975448814774546596209098752.000\n",
      "[1/5, 90000/105000] loss: 6974994605317585803333861376.000\n",
      "[1/5, 95000/105000] loss: 6975274935617333558318727168.000\n",
      "[1/5, 100000/105000] loss: 6975593886168047623570718720.000\n",
      "[1/5, 105000/105000] loss: 6975701889936138319503032320.000\n",
      "[1/5] mean epoch loss: 2519008853694853935626452992.000\n"
     ]
    },
    {
     "output_type": "stream",
     "name": "stderr",
     "text": [
      "/usr/local/lib/python3.7/dist-packages/torch/nn/modules/loss.py:520: UserWarning: Using a target size (torch.Size([1])) that is different to the input size (torch.Size([1, 1])). This will likely lead to incorrect results due to broadcasting. Please ensure they have the same size.\n",
      "  return F.mse_loss(input, target, reduction=self.reduction)\n"
     ]
    },
    {
     "output_type": "stream",
     "name": "stdout",
     "text": [
      "Epoch 2:\n",
      "[2/5, 5000/105000] loss: 6975036480016929031131758592.000\n",
      "[2/5, 10000/105000] loss: 6975296349188150447384297472.000\n",
      "[2/5, 15000/105000] loss: 6975559889409015683982819328.000\n",
      "[2/5, 20000/105000] loss: 6975390568073329169896833024.000\n",
      "[2/5, 25000/105000] loss: 6975379258595898516251344896.000\n",
      "[2/5, 30000/105000] loss: 6974996613651506209212071936.000\n",
      "[2/5, 35000/105000] loss: 6974937418344922178574614528.000\n",
      "[2/5, 40000/105000] loss: 6974907965092741839868395520.000\n",
      "[2/5, 45000/105000] loss: 6975289289988128188271689728.000\n",
      "[2/5, 50000/105000] loss: 6975026386991589679742058496.000\n",
      "[2/5, 55000/105000] loss: 6974972305565184316948873216.000\n",
      "[2/5, 60000/105000] loss: 6975783035835152501932294144.000\n",
      "[2/5, 65000/105000] loss: 6975286889550214977567064064.000\n",
      "[2/5, 70000/105000] loss: 6974410824011790401075675136.000\n",
      "[2/5, 75000/105000] loss: 6974362643329879248532930560.000\n",
      "[2/5, 80000/105000] loss: 6974471085392607860370702336.000\n",
      "[2/5, 85000/105000] loss: 6974621127962276474482851840.000\n",
      "[2/5, 90000/105000] loss: 6974168031803215082453729280.000\n",
      "[2/5, 95000/105000] loss: 6974446087840778607122186240.000\n",
      "[2/5, 100000/105000] loss: 6974766783158335081300361216.000\n",
      "[2/5, 105000/105000] loss: 6974873593348296202786963456.000\n",
      "[2/5] mean epoch loss: 2789980621469522662376079360.000\n"
     ]
    },
    {
     "output_type": "stream",
     "name": "stderr",
     "text": [
      "/usr/local/lib/python3.7/dist-packages/torch/nn/modules/loss.py:520: UserWarning: Using a target size (torch.Size([1])) that is different to the input size (torch.Size([1, 1])). This will likely lead to incorrect results due to broadcasting. Please ensure they have the same size.\n",
      "  return F.mse_loss(input, target, reduction=self.reduction)\n"
     ]
    },
    {
     "output_type": "stream",
     "name": "stdout",
     "text": [
      "Epoch 3:\n",
      "[3/5, 5000/105000] loss: 6974208791728919691372003328.000\n",
      "[3/5, 10000/105000] loss: 6974467058837311978815356928.000\n",
      "[3/5, 15000/105000] loss: 6974731915565408830867111936.000\n",
      "[3/5, 20000/105000] loss: 6974562840973370809225576448.000\n"
     ]
    }
   ]
  },
  {
   "cell_type": "markdown",
   "source": [
    "## Завантаження моделей та історій"
   ],
   "metadata": {
    "id": "CvBwSSXp5Gmh"
   }
  },
  {
   "cell_type": "markdown",
   "source": [
    "Функція для завантаження моделі і історії з диску"
   ],
   "metadata": {
    "collapsed": false,
    "pycharm": {
     "name": "#%% md\n"
    },
    "id": "-4V6QM8o4wWd"
   }
  },
  {
   "cell_type": "code",
   "source": [
    "def load_model_and_history(model_class, optimizer_class, learning_rate, epochs):\n",
    "    name = f\"{model_class.__name__}-{optimizer_class.__name__}-{learning_rate}-{epochs}-epoch\"\n",
    "\n",
    "    if exists(f\"{DATA_DIR}{name}.pth\"):\n",
    "        model = model_class()\n",
    "        model.load_state_dict(torch.load(f\"{DATA_DIR}{name}.pth\"))\n",
    "        model.eval()\n",
    "        print(f\"Load PyTorch Model State from {name}.pth\")\n",
    "    else:\n",
    "        model = None\n",
    "        print(f\"Can't load Model State from {name}.pth, file not exists!\")\n",
    "\n",
    "    if exists(f\"{DATA_DIR}{name}-history.csv\"):\n",
    "        history = pd.read_csv(f\"{DATA_DIR}{name}-history.csv\", index_col=\"Unnamed: 0\")\n",
    "        print(f\"Load PyTorch Model history from {DATA_DIR}{name}-history.csv\")\n",
    "    else:\n",
    "        history = None\n",
    "        print(f\"Can't load Model history from {name}.pth, file not exists!\")\n",
    "\n",
    "    return name, history, model"
   ],
   "metadata": {
    "id": "KmK4eZqa5haR"
   },
   "execution_count": 6,
   "outputs": []
  },
  {
   "cell_type": "code",
   "source": [
    "name, history, model = load_model_and_history(DNN2, Adam, 0.01, 5)"
   ],
   "metadata": {
    "colab": {
     "base_uri": "https://localhost:8080/"
    },
    "id": "-GGiXZYX80VZ",
    "outputId": "3a5533f1-cf7e-48ca-f430-6811026b3acf"
   },
   "execution_count": null,
   "outputs": [
    {
     "output_type": "stream",
     "name": "stdout",
     "text": [
      "Load PyTorch Model State from DNN2-Adam-0.01-5-epoch.pth\n",
      "Load PyTorch Model history from /content/drive/My Drive/ai/DNN2-Adam-0.01-5-epoch-history.csv\n"
     ]
    }
   ]
  },
  {
   "cell_type": "code",
   "source": [
    "history"
   ],
   "metadata": {
    "colab": {
     "base_uri": "https://localhost:8080/",
     "height": 287
    },
    "id": "-BHUUJLJ8-Cm",
    "outputId": "0d54aeef-cbc5-4fc4-9285-1cf332489c79"
   },
   "execution_count": null,
   "outputs": [
    {
     "output_type": "execute_result",
     "data": {
      "text/plain": [
       "   Loss train  Loss test  R2 train   R2 test  MSE train  MSE test  MAPE train  \\\n",
       "1    2.112286   2.852360  0.881493  0.880282   2.844388  2.852360    0.100433   \n",
       "2    0.963045   2.208461  0.908182  0.907308   2.203801  2.208461    0.091654   \n",
       "3    0.912053   2.931271  0.878389  0.876970   2.918887  2.931271    0.098922   \n",
       "4    0.839505   0.686924  0.971158  0.971169   0.692259  0.686924    0.058213   \n",
       "5    0.787974   1.174182  0.951026  0.950718   1.175476  1.174182    0.065484   \n",
       "\n",
       "   MAPE test  MAE train  MAE test  \n",
       "1   0.100362   1.438286  1.443341  \n",
       "2   0.091055   1.227623  1.229701  \n",
       "3   0.098939   1.428313  1.434474  \n",
       "4   0.057528   0.676173  0.674956  \n",
       "5   0.065156   0.879301  0.880835  "
      ],
      "text/html": [
       "\n",
       "  <div id=\"df-7593d0f1-ea6c-4904-bf25-1dc5977141fd\">\n",
       "    <div class=\"colab-df-container\">\n",
       "      <div>\n",
       "<style scoped>\n",
       "    .dataframe tbody tr th:only-of-type {\n",
       "        vertical-align: middle;\n",
       "    }\n",
       "\n",
       "    .dataframe tbody tr th {\n",
       "        vertical-align: top;\n",
       "    }\n",
       "\n",
       "    .dataframe thead th {\n",
       "        text-align: right;\n",
       "    }\n",
       "</style>\n",
       "<table border=\"1\" class=\"dataframe\">\n",
       "  <thead>\n",
       "    <tr style=\"text-align: right;\">\n",
       "      <th></th>\n",
       "      <th>Loss train</th>\n",
       "      <th>Loss test</th>\n",
       "      <th>R2 train</th>\n",
       "      <th>R2 test</th>\n",
       "      <th>MSE train</th>\n",
       "      <th>MSE test</th>\n",
       "      <th>MAPE train</th>\n",
       "      <th>MAPE test</th>\n",
       "      <th>MAE train</th>\n",
       "      <th>MAE test</th>\n",
       "    </tr>\n",
       "  </thead>\n",
       "  <tbody>\n",
       "    <tr>\n",
       "      <th>1</th>\n",
       "      <td>2.112286</td>\n",
       "      <td>2.852360</td>\n",
       "      <td>0.881493</td>\n",
       "      <td>0.880282</td>\n",
       "      <td>2.844388</td>\n",
       "      <td>2.852360</td>\n",
       "      <td>0.100433</td>\n",
       "      <td>0.100362</td>\n",
       "      <td>1.438286</td>\n",
       "      <td>1.443341</td>\n",
       "    </tr>\n",
       "    <tr>\n",
       "      <th>2</th>\n",
       "      <td>0.963045</td>\n",
       "      <td>2.208461</td>\n",
       "      <td>0.908182</td>\n",
       "      <td>0.907308</td>\n",
       "      <td>2.203801</td>\n",
       "      <td>2.208461</td>\n",
       "      <td>0.091654</td>\n",
       "      <td>0.091055</td>\n",
       "      <td>1.227623</td>\n",
       "      <td>1.229701</td>\n",
       "    </tr>\n",
       "    <tr>\n",
       "      <th>3</th>\n",
       "      <td>0.912053</td>\n",
       "      <td>2.931271</td>\n",
       "      <td>0.878389</td>\n",
       "      <td>0.876970</td>\n",
       "      <td>2.918887</td>\n",
       "      <td>2.931271</td>\n",
       "      <td>0.098922</td>\n",
       "      <td>0.098939</td>\n",
       "      <td>1.428313</td>\n",
       "      <td>1.434474</td>\n",
       "    </tr>\n",
       "    <tr>\n",
       "      <th>4</th>\n",
       "      <td>0.839505</td>\n",
       "      <td>0.686924</td>\n",
       "      <td>0.971158</td>\n",
       "      <td>0.971169</td>\n",
       "      <td>0.692259</td>\n",
       "      <td>0.686924</td>\n",
       "      <td>0.058213</td>\n",
       "      <td>0.057528</td>\n",
       "      <td>0.676173</td>\n",
       "      <td>0.674956</td>\n",
       "    </tr>\n",
       "    <tr>\n",
       "      <th>5</th>\n",
       "      <td>0.787974</td>\n",
       "      <td>1.174182</td>\n",
       "      <td>0.951026</td>\n",
       "      <td>0.950718</td>\n",
       "      <td>1.175476</td>\n",
       "      <td>1.174182</td>\n",
       "      <td>0.065484</td>\n",
       "      <td>0.065156</td>\n",
       "      <td>0.879301</td>\n",
       "      <td>0.880835</td>\n",
       "    </tr>\n",
       "  </tbody>\n",
       "</table>\n",
       "</div>\n",
       "      <button class=\"colab-df-convert\" onclick=\"convertToInteractive('df-7593d0f1-ea6c-4904-bf25-1dc5977141fd')\"\n",
       "              title=\"Convert this dataframe to an interactive table.\"\n",
       "              style=\"display:none;\">\n",
       "        \n",
       "  <svg xmlns=\"http://www.w3.org/2000/svg\" height=\"24px\"viewBox=\"0 0 24 24\"\n",
       "       width=\"24px\">\n",
       "    <path d=\"M0 0h24v24H0V0z\" fill=\"none\"/>\n",
       "    <path d=\"M18.56 5.44l.94 2.06.94-2.06 2.06-.94-2.06-.94-.94-2.06-.94 2.06-2.06.94zm-11 1L8.5 8.5l.94-2.06 2.06-.94-2.06-.94L8.5 2.5l-.94 2.06-2.06.94zm10 10l.94 2.06.94-2.06 2.06-.94-2.06-.94-.94-2.06-.94 2.06-2.06.94z\"/><path d=\"M17.41 7.96l-1.37-1.37c-.4-.4-.92-.59-1.43-.59-.52 0-1.04.2-1.43.59L10.3 9.45l-7.72 7.72c-.78.78-.78 2.05 0 2.83L4 21.41c.39.39.9.59 1.41.59.51 0 1.02-.2 1.41-.59l7.78-7.78 2.81-2.81c.8-.78.8-2.07 0-2.86zM5.41 20L4 18.59l7.72-7.72 1.47 1.35L5.41 20z\"/>\n",
       "  </svg>\n",
       "      </button>\n",
       "      \n",
       "  <style>\n",
       "    .colab-df-container {\n",
       "      display:flex;\n",
       "      flex-wrap:wrap;\n",
       "      gap: 12px;\n",
       "    }\n",
       "\n",
       "    .colab-df-convert {\n",
       "      background-color: #E8F0FE;\n",
       "      border: none;\n",
       "      border-radius: 50%;\n",
       "      cursor: pointer;\n",
       "      display: none;\n",
       "      fill: #1967D2;\n",
       "      height: 32px;\n",
       "      padding: 0 0 0 0;\n",
       "      width: 32px;\n",
       "    }\n",
       "\n",
       "    .colab-df-convert:hover {\n",
       "      background-color: #E2EBFA;\n",
       "      box-shadow: 0px 1px 2px rgba(60, 64, 67, 0.3), 0px 1px 3px 1px rgba(60, 64, 67, 0.15);\n",
       "      fill: #174EA6;\n",
       "    }\n",
       "\n",
       "    [theme=dark] .colab-df-convert {\n",
       "      background-color: #3B4455;\n",
       "      fill: #D2E3FC;\n",
       "    }\n",
       "\n",
       "    [theme=dark] .colab-df-convert:hover {\n",
       "      background-color: #434B5C;\n",
       "      box-shadow: 0px 1px 3px 1px rgba(0, 0, 0, 0.15);\n",
       "      filter: drop-shadow(0px 1px 2px rgba(0, 0, 0, 0.3));\n",
       "      fill: #FFFFFF;\n",
       "    }\n",
       "  </style>\n",
       "\n",
       "      <script>\n",
       "        const buttonEl =\n",
       "          document.querySelector('#df-7593d0f1-ea6c-4904-bf25-1dc5977141fd button.colab-df-convert');\n",
       "        buttonEl.style.display =\n",
       "          google.colab.kernel.accessAllowed ? 'block' : 'none';\n",
       "\n",
       "        async function convertToInteractive(key) {\n",
       "          const element = document.querySelector('#df-7593d0f1-ea6c-4904-bf25-1dc5977141fd');\n",
       "          const dataTable =\n",
       "            await google.colab.kernel.invokeFunction('convertToInteractive',\n",
       "                                                     [key], {});\n",
       "          if (!dataTable) return;\n",
       "\n",
       "          const docLinkHtml = 'Like what you see? Visit the ' +\n",
       "            '<a target=\"_blank\" href=https://colab.research.google.com/notebooks/data_table.ipynb>data table notebook</a>'\n",
       "            + ' to learn more about interactive tables.';\n",
       "          element.innerHTML = '';\n",
       "          dataTable['output_type'] = 'display_data';\n",
       "          await google.colab.output.renderOutput(dataTable, element);\n",
       "          const docLink = document.createElement('div');\n",
       "          docLink.innerHTML = docLinkHtml;\n",
       "          element.appendChild(docLink);\n",
       "        }\n",
       "      </script>\n",
       "    </div>\n",
       "  </div>\n",
       "  "
      ]
     },
     "metadata": {},
     "execution_count": 19
    }
   ]
  },
  {
   "cell_type": "code",
   "source": [
    "result_histories = {}\n",
    "result_models = {}\n",
    "total_acc = baseline.copy()\n",
    "\n",
    "epochs = 5\n",
    "for dnn in [DNN1, DNN2, DNN3]:\n",
    "    for optimizer in [SGD, RMSprop, Adam]:\n",
    "        for lr in [0.1, 0.01, 0.001]:\n",
    "            name, history, model = load_model_and_history(dnn, optimizer, lr, epochs)\n",
    "            if history is not None and model is not None:\n",
    "                result_histories[name] = history\n",
    "                result_models[name] = model\n",
    "\n",
    "                result = history.loc[epochs - 1]\n",
    "                result.name = name\n",
    "                total_acc = total_acc.append(result)\n"
   ],
   "metadata": {
    "id": "JjaeWzci5MnO",
    "outputId": "74ece23f-e537-40a2-e58f-e06c28f28e73",
    "colab": {
     "base_uri": "https://localhost:8080/",
     "height": 0
    }
   },
   "execution_count": 13,
   "outputs": [
    {
     "name": "stdout",
     "output_type": "stream",
     "text": [
      "Load PyTorch Model State from DNN1-SGD-0.1-5-epoch.pth\n",
      "Load PyTorch Model history from ./data/DNN1-SGD-0.1-5-epoch-history.csv\n"
     ]
    },
    {
     "name": "stderr",
     "output_type": "stream",
     "text": [
      "C:\\Users\\Danylo\\AppData\\Local\\Temp\\ipykernel_33180\\2127119678.py:16: FutureWarning: The frame.append method is deprecated and will be removed from pandas in a future version. Use pandas.concat instead.\n",
      "  total_acc = total_acc.append(result)\n",
      "C:\\Users\\Danylo\\AppData\\Local\\Temp\\ipykernel_33180\\2127119678.py:16: FutureWarning: The frame.append method is deprecated and will be removed from pandas in a future version. Use pandas.concat instead.\n",
      "  total_acc = total_acc.append(result)\n",
      "C:\\Users\\Danylo\\AppData\\Local\\Temp\\ipykernel_33180\\2127119678.py:16: FutureWarning: The frame.append method is deprecated and will be removed from pandas in a future version. Use pandas.concat instead.\n",
      "  total_acc = total_acc.append(result)\n",
      "C:\\Users\\Danylo\\AppData\\Local\\Temp\\ipykernel_33180\\2127119678.py:16: FutureWarning: The frame.append method is deprecated and will be removed from pandas in a future version. Use pandas.concat instead.\n",
      "  total_acc = total_acc.append(result)\n",
      "C:\\Users\\Danylo\\AppData\\Local\\Temp\\ipykernel_33180\\2127119678.py:16: FutureWarning: The frame.append method is deprecated and will be removed from pandas in a future version. Use pandas.concat instead.\n",
      "  total_acc = total_acc.append(result)\n",
      "C:\\Users\\Danylo\\AppData\\Local\\Temp\\ipykernel_33180\\2127119678.py:16: FutureWarning: The frame.append method is deprecated and will be removed from pandas in a future version. Use pandas.concat instead.\n",
      "  total_acc = total_acc.append(result)\n",
      "C:\\Users\\Danylo\\AppData\\Local\\Temp\\ipykernel_33180\\2127119678.py:16: FutureWarning: The frame.append method is deprecated and will be removed from pandas in a future version. Use pandas.concat instead.\n",
      "  total_acc = total_acc.append(result)\n",
      "C:\\Users\\Danylo\\AppData\\Local\\Temp\\ipykernel_33180\\2127119678.py:16: FutureWarning: The frame.append method is deprecated and will be removed from pandas in a future version. Use pandas.concat instead.\n",
      "  total_acc = total_acc.append(result)\n",
      "C:\\Users\\Danylo\\AppData\\Local\\Temp\\ipykernel_33180\\2127119678.py:16: FutureWarning: The frame.append method is deprecated and will be removed from pandas in a future version. Use pandas.concat instead.\n",
      "  total_acc = total_acc.append(result)\n",
      "C:\\Users\\Danylo\\AppData\\Local\\Temp\\ipykernel_33180\\2127119678.py:16: FutureWarning: The frame.append method is deprecated and will be removed from pandas in a future version. Use pandas.concat instead.\n",
      "  total_acc = total_acc.append(result)\n"
     ]
    },
    {
     "name": "stdout",
     "output_type": "stream",
     "text": [
      "Load PyTorch Model State from DNN1-SGD-0.01-5-epoch.pth\n",
      "Load PyTorch Model history from ./data/DNN1-SGD-0.01-5-epoch-history.csv\n",
      "Load PyTorch Model State from DNN1-SGD-0.001-5-epoch.pth\n",
      "Load PyTorch Model history from ./data/DNN1-SGD-0.001-5-epoch-history.csv\n",
      "Load PyTorch Model State from DNN1-RMSprop-0.1-5-epoch.pth\n",
      "Load PyTorch Model history from ./data/DNN1-RMSprop-0.1-5-epoch-history.csv\n",
      "Load PyTorch Model State from DNN1-RMSprop-0.01-5-epoch.pth\n",
      "Load PyTorch Model history from ./data/DNN1-RMSprop-0.01-5-epoch-history.csv\n",
      "Load PyTorch Model State from DNN1-RMSprop-0.001-5-epoch.pth\n",
      "Load PyTorch Model history from ./data/DNN1-RMSprop-0.001-5-epoch-history.csv\n",
      "Load PyTorch Model State from DNN1-Adam-0.1-5-epoch.pth\n",
      "Load PyTorch Model history from ./data/DNN1-Adam-0.1-5-epoch-history.csv\n",
      "Load PyTorch Model State from DNN1-Adam-0.01-5-epoch.pth\n",
      "Load PyTorch Model history from ./data/DNN1-Adam-0.01-5-epoch-history.csv\n",
      "Load PyTorch Model State from DNN1-Adam-0.001-5-epoch.pth\n",
      "Load PyTorch Model history from ./data/DNN1-Adam-0.001-5-epoch-history.csv\n",
      "Load PyTorch Model State from DNN2-SGD-0.1-5-epoch.pth\n",
      "Load PyTorch Model history from ./data/DNN2-SGD-0.1-5-epoch-history.csv\n",
      "Load PyTorch Model State from DNN2-SGD-0.01-5-epoch.pth\n",
      "Load PyTorch Model history from ./data/DNN2-SGD-0.01-5-epoch-history.csv\n"
     ]
    },
    {
     "name": "stderr",
     "output_type": "stream",
     "text": [
      "C:\\Users\\Danylo\\AppData\\Local\\Temp\\ipykernel_33180\\2127119678.py:16: FutureWarning: The frame.append method is deprecated and will be removed from pandas in a future version. Use pandas.concat instead.\n",
      "  total_acc = total_acc.append(result)\n",
      "C:\\Users\\Danylo\\AppData\\Local\\Temp\\ipykernel_33180\\2127119678.py:16: FutureWarning: The frame.append method is deprecated and will be removed from pandas in a future version. Use pandas.concat instead.\n",
      "  total_acc = total_acc.append(result)\n",
      "C:\\Users\\Danylo\\AppData\\Local\\Temp\\ipykernel_33180\\2127119678.py:16: FutureWarning: The frame.append method is deprecated and will be removed from pandas in a future version. Use pandas.concat instead.\n",
      "  total_acc = total_acc.append(result)\n",
      "C:\\Users\\Danylo\\AppData\\Local\\Temp\\ipykernel_33180\\2127119678.py:16: FutureWarning: The frame.append method is deprecated and will be removed from pandas in a future version. Use pandas.concat instead.\n",
      "  total_acc = total_acc.append(result)\n",
      "C:\\Users\\Danylo\\AppData\\Local\\Temp\\ipykernel_33180\\2127119678.py:16: FutureWarning: The frame.append method is deprecated and will be removed from pandas in a future version. Use pandas.concat instead.\n",
      "  total_acc = total_acc.append(result)\n",
      "C:\\Users\\Danylo\\AppData\\Local\\Temp\\ipykernel_33180\\2127119678.py:16: FutureWarning: The frame.append method is deprecated and will be removed from pandas in a future version. Use pandas.concat instead.\n",
      "  total_acc = total_acc.append(result)\n",
      "C:\\Users\\Danylo\\AppData\\Local\\Temp\\ipykernel_33180\\2127119678.py:16: FutureWarning: The frame.append method is deprecated and will be removed from pandas in a future version. Use pandas.concat instead.\n",
      "  total_acc = total_acc.append(result)\n"
     ]
    },
    {
     "name": "stdout",
     "output_type": "stream",
     "text": [
      "Load PyTorch Model State from DNN2-SGD-0.001-5-epoch.pth\n",
      "Load PyTorch Model history from ./data/DNN2-SGD-0.001-5-epoch-history.csv\n",
      "Load PyTorch Model State from DNN2-RMSprop-0.1-5-epoch.pth\n",
      "Load PyTorch Model history from ./data/DNN2-RMSprop-0.1-5-epoch-history.csv\n",
      "Load PyTorch Model State from DNN2-RMSprop-0.01-5-epoch.pth\n",
      "Load PyTorch Model history from ./data/DNN2-RMSprop-0.01-5-epoch-history.csv\n",
      "Load PyTorch Model State from DNN2-RMSprop-0.001-5-epoch.pth\n",
      "Load PyTorch Model history from ./data/DNN2-RMSprop-0.001-5-epoch-history.csv\n",
      "Load PyTorch Model State from DNN2-Adam-0.1-5-epoch.pth\n",
      "Load PyTorch Model history from ./data/DNN2-Adam-0.1-5-epoch-history.csv\n",
      "Load PyTorch Model State from DNN2-Adam-0.01-5-epoch.pth\n",
      "Load PyTorch Model history from ./data/DNN2-Adam-0.01-5-epoch-history.csv\n",
      "Load PyTorch Model State from DNN2-Adam-0.001-5-epoch.pth\n",
      "Load PyTorch Model history from ./data/DNN2-Adam-0.001-5-epoch-history.csv\n",
      "Can't load Model State from DNN3-SGD-0.1-5-epoch.pth, file not exists!\n",
      "Can't load Model history from DNN3-SGD-0.1-5-epoch.pth, file not exists!\n",
      "Can't load Model State from DNN3-SGD-0.01-5-epoch.pth, file not exists!\n",
      "Can't load Model history from DNN3-SGD-0.01-5-epoch.pth, file not exists!\n",
      "Load PyTorch Model State from DNN3-SGD-0.001-5-epoch.pth\n",
      "Load PyTorch Model history from ./data/DNN3-SGD-0.001-5-epoch-history.csv\n",
      "Load PyTorch Model State from DNN3-RMSprop-0.1-5-epoch.pth\n",
      "Load PyTorch Model history from ./data/DNN3-RMSprop-0.1-5-epoch-history.csv\n",
      "Can't load Model State from DNN3-RMSprop-0.01-5-epoch.pth, file not exists!\n",
      "Can't load Model history from DNN3-RMSprop-0.01-5-epoch.pth, file not exists!\n",
      "Can't load Model State from DNN3-RMSprop-0.001-5-epoch.pth, file not exists!\n",
      "Can't load Model history from DNN3-RMSprop-0.001-5-epoch.pth, file not exists!\n",
      "Can't load Model State from DNN3-Adam-0.1-5-epoch.pth, file not exists!\n",
      "Can't load Model history from DNN3-Adam-0.1-5-epoch.pth, file not exists!\n",
      "Can't load Model State from DNN3-Adam-0.01-5-epoch.pth, file not exists!\n",
      "Can't load Model history from DNN3-Adam-0.01-5-epoch.pth, file not exists!\n",
      "Can't load Model State from DNN3-Adam-0.001-5-epoch.pth, file not exists!\n",
      "Can't load Model history from DNN3-Adam-0.001-5-epoch.pth, file not exists!\n"
     ]
    },
    {
     "name": "stderr",
     "output_type": "stream",
     "text": [
      "C:\\Users\\Danylo\\AppData\\Local\\Temp\\ipykernel_33180\\2127119678.py:16: FutureWarning: The frame.append method is deprecated and will be removed from pandas in a future version. Use pandas.concat instead.\n",
      "  total_acc = total_acc.append(result)\n",
      "C:\\Users\\Danylo\\AppData\\Local\\Temp\\ipykernel_33180\\2127119678.py:16: FutureWarning: The frame.append method is deprecated and will be removed from pandas in a future version. Use pandas.concat instead.\n",
      "  total_acc = total_acc.append(result)\n",
      "C:\\Users\\Danylo\\AppData\\Local\\Temp\\ipykernel_33180\\2127119678.py:16: FutureWarning: The frame.append method is deprecated and will be removed from pandas in a future version. Use pandas.concat instead.\n",
      "  total_acc = total_acc.append(result)\n"
     ]
    }
   ]
  },
  {
   "cell_type": "markdown",
   "source": [
    "# Аналіз"
   ],
   "metadata": {
    "id": "HxBX-bkI486-"
   }
  },
  {
   "cell_type": "markdown",
   "source": [
    "Таблиця коефіцієнтів детермінації(R2), Mean Square Error, Mean Absolute Percentage Error, Mean Absolute Error для лінійної регресії(LR) і повнозв'язних нейронних мереж (5 епох для кожної)"
   ],
   "metadata": {
    "id": "Xo5CoCGNKVnc"
   }
  },
  {
   "cell_type": "code",
   "execution_count": 14,
   "outputs": [
    {
     "data": {
      "text/plain": "                            R2 train   R2 test  MSE train  MSE test  \\\nDNN1-SGD-0.001-5-epoch          1.00      1.00       0.02      0.02   \nDNN1-Adam-0.001-5-epoch         1.00      1.00       0.03      0.03   \nDNN1-RMSprop-0.001-5-epoch      1.00      1.00       0.04      0.04   \nDNN2-Adam-0.001-5-epoch         1.00      1.00       0.05      0.05   \nDNN2-RMSprop-0.001-5-epoch      1.00      1.00       0.08      0.07   \nDNN2-SGD-0.001-5-epoch          1.00      1.00       0.08      0.08   \nDNN1-Adam-0.01-5-epoch          0.98      0.98       0.43      0.43   \nDNN1-RMSprop-0.01-5-epoch       0.98      0.98       0.56      0.56   \nDNN2-Adam-0.01-5-epoch          0.97      0.97       0.69      0.69   \nDNN2-RMSprop-0.01-5-epoch       0.94      0.94       1.40      1.39   \nLR                              0.75      0.75       5.97      5.91   \nDNN1-RMSprop-0.1-5-epoch        0.68      0.68       7.65      7.62   \nDNN1-Adam-0.1-5-epoch           0.67      0.66       8.01      8.01   \nDNN1-SGD-0.1-5-epoch           -0.00     -0.00      24.02     23.80   \nDNN1-SGD-0.01-5-epoch          -0.00     -0.00      24.02     23.81   \nDNN3-SGD-0.001-5-epoch         -0.01     -0.01      24.09     24.13   \nDNN2-Adam-0.1-5-epoch          -0.01     -0.02      24.35     24.24   \nDNN2-RMSprop-0.1-5-epoch       -0.03     -0.04      24.82     24.75   \nDNN2-SGD-0.01-5-epoch          -0.04     -0.04      24.90     24.83   \nDNN2-SGD-0.1-5-epoch           -0.69     -0.71      40.53     40.79   \nDNN3-RMSprop-0.1-5-epoch   -2.57E+19 -2.66E+19   6.16E+20  6.38E+20   \n\n                            MAPE train  MAPE test  MAE train  MAE test  \\\nDNN1-SGD-0.001-5-epoch            0.01       0.01       0.11      0.11   \nDNN1-Adam-0.001-5-epoch           0.01       0.01       0.13      0.13   \nDNN1-RMSprop-0.001-5-epoch        0.01       0.01       0.14      0.14   \nDNN2-Adam-0.001-5-epoch           0.02       0.01       0.18      0.18   \nDNN2-RMSprop-0.001-5-epoch        0.02       0.02       0.20      0.20   \nDNN2-SGD-0.001-5-epoch            0.01       0.01       0.20      0.20   \nDNN1-Adam-0.01-5-epoch            0.04       0.04       0.51      0.51   \nDNN1-RMSprop-0.01-5-epoch         0.05       0.05       0.62      0.61   \nDNN2-Adam-0.01-5-epoch            0.06       0.06       0.68      0.67   \nDNN2-RMSprop-0.01-5-epoch         0.08       0.07       0.94      0.94   \nLR                                0.16       0.16       1.87      1.87   \nDNN1-RMSprop-0.1-5-epoch          0.20       0.20       2.13      2.13   \nDNN1-Adam-0.1-5-epoch             0.19       0.19       2.23      2.23   \nDNN1-SGD-0.1-5-epoch              0.38       0.38       4.00      3.97   \nDNN1-SGD-0.01-5-epoch             0.38       0.38       4.00      3.97   \nDNN3-SGD-0.001-5-epoch            0.37       0.37       4.00      4.01   \nDNN2-Adam-0.1-5-epoch             0.37       0.36       4.03      4.01   \nDNN2-RMSprop-0.1-5-epoch          0.36       0.36       4.06      4.05   \nDNN2-SGD-0.01-5-epoch             0.36       0.36       4.07      4.05   \nDNN2-SGD-0.1-5-epoch              0.37       0.37       5.21      5.23   \nDNN3-RMSprop-0.1-5-epoch      1.63E+09   1.63E+09   1.86E+10  1.87E+10   \n\n                            Loss test  Loss train  \nDNN1-SGD-0.001-5-epoch           0.02        0.03  \nDNN1-Adam-0.001-5-epoch          0.03        0.07  \nDNN1-RMSprop-0.001-5-epoch       0.04        0.08  \nDNN2-Adam-0.001-5-epoch          0.05        0.08  \nDNN2-RMSprop-0.001-5-epoch       0.07        0.09  \nDNN2-SGD-0.001-5-epoch           0.08        0.04  \nDNN1-Adam-0.01-5-epoch           0.43        0.29  \nDNN1-RMSprop-0.01-5-epoch        0.56        0.52  \nDNN2-Adam-0.01-5-epoch           0.69        0.84  \nDNN2-RMSprop-0.01-5-epoch        1.39        1.08  \nLR                                NaN         NaN  \nDNN1-RMSprop-0.1-5-epoch         7.62        9.79  \nDNN1-Adam-0.1-5-epoch            8.01        9.18  \nDNN1-SGD-0.1-5-epoch            23.80       26.64  \nDNN1-SGD-0.01-5-epoch           23.81       24.27  \nDNN3-SGD-0.001-5-epoch          24.13       23.96  \nDNN2-Adam-0.1-5-epoch           24.24       24.24  \nDNN2-RMSprop-0.1-5-epoch        24.75       24.25  \nDNN2-SGD-0.01-5-epoch           24.83       24.24  \nDNN2-SGD-0.1-5-epoch            40.79       26.68  \nDNN3-RMSprop-0.1-5-epoch     6.38E+20    7.30E+20  ",
      "text/html": "<div>\n<style scoped>\n    .dataframe tbody tr th:only-of-type {\n        vertical-align: middle;\n    }\n\n    .dataframe tbody tr th {\n        vertical-align: top;\n    }\n\n    .dataframe thead th {\n        text-align: right;\n    }\n</style>\n<table border=\"1\" class=\"dataframe\">\n  <thead>\n    <tr style=\"text-align: right;\">\n      <th></th>\n      <th>R2 train</th>\n      <th>R2 test</th>\n      <th>MSE train</th>\n      <th>MSE test</th>\n      <th>MAPE train</th>\n      <th>MAPE test</th>\n      <th>MAE train</th>\n      <th>MAE test</th>\n      <th>Loss test</th>\n      <th>Loss train</th>\n    </tr>\n  </thead>\n  <tbody>\n    <tr>\n      <th>DNN1-SGD-0.001-5-epoch</th>\n      <td>1.00</td>\n      <td>1.00</td>\n      <td>0.02</td>\n      <td>0.02</td>\n      <td>0.01</td>\n      <td>0.01</td>\n      <td>0.11</td>\n      <td>0.11</td>\n      <td>0.02</td>\n      <td>0.03</td>\n    </tr>\n    <tr>\n      <th>DNN1-Adam-0.001-5-epoch</th>\n      <td>1.00</td>\n      <td>1.00</td>\n      <td>0.03</td>\n      <td>0.03</td>\n      <td>0.01</td>\n      <td>0.01</td>\n      <td>0.13</td>\n      <td>0.13</td>\n      <td>0.03</td>\n      <td>0.07</td>\n    </tr>\n    <tr>\n      <th>DNN1-RMSprop-0.001-5-epoch</th>\n      <td>1.00</td>\n      <td>1.00</td>\n      <td>0.04</td>\n      <td>0.04</td>\n      <td>0.01</td>\n      <td>0.01</td>\n      <td>0.14</td>\n      <td>0.14</td>\n      <td>0.04</td>\n      <td>0.08</td>\n    </tr>\n    <tr>\n      <th>DNN2-Adam-0.001-5-epoch</th>\n      <td>1.00</td>\n      <td>1.00</td>\n      <td>0.05</td>\n      <td>0.05</td>\n      <td>0.02</td>\n      <td>0.01</td>\n      <td>0.18</td>\n      <td>0.18</td>\n      <td>0.05</td>\n      <td>0.08</td>\n    </tr>\n    <tr>\n      <th>DNN2-RMSprop-0.001-5-epoch</th>\n      <td>1.00</td>\n      <td>1.00</td>\n      <td>0.08</td>\n      <td>0.07</td>\n      <td>0.02</td>\n      <td>0.02</td>\n      <td>0.20</td>\n      <td>0.20</td>\n      <td>0.07</td>\n      <td>0.09</td>\n    </tr>\n    <tr>\n      <th>DNN2-SGD-0.001-5-epoch</th>\n      <td>1.00</td>\n      <td>1.00</td>\n      <td>0.08</td>\n      <td>0.08</td>\n      <td>0.01</td>\n      <td>0.01</td>\n      <td>0.20</td>\n      <td>0.20</td>\n      <td>0.08</td>\n      <td>0.04</td>\n    </tr>\n    <tr>\n      <th>DNN1-Adam-0.01-5-epoch</th>\n      <td>0.98</td>\n      <td>0.98</td>\n      <td>0.43</td>\n      <td>0.43</td>\n      <td>0.04</td>\n      <td>0.04</td>\n      <td>0.51</td>\n      <td>0.51</td>\n      <td>0.43</td>\n      <td>0.29</td>\n    </tr>\n    <tr>\n      <th>DNN1-RMSprop-0.01-5-epoch</th>\n      <td>0.98</td>\n      <td>0.98</td>\n      <td>0.56</td>\n      <td>0.56</td>\n      <td>0.05</td>\n      <td>0.05</td>\n      <td>0.62</td>\n      <td>0.61</td>\n      <td>0.56</td>\n      <td>0.52</td>\n    </tr>\n    <tr>\n      <th>DNN2-Adam-0.01-5-epoch</th>\n      <td>0.97</td>\n      <td>0.97</td>\n      <td>0.69</td>\n      <td>0.69</td>\n      <td>0.06</td>\n      <td>0.06</td>\n      <td>0.68</td>\n      <td>0.67</td>\n      <td>0.69</td>\n      <td>0.84</td>\n    </tr>\n    <tr>\n      <th>DNN2-RMSprop-0.01-5-epoch</th>\n      <td>0.94</td>\n      <td>0.94</td>\n      <td>1.40</td>\n      <td>1.39</td>\n      <td>0.08</td>\n      <td>0.07</td>\n      <td>0.94</td>\n      <td>0.94</td>\n      <td>1.39</td>\n      <td>1.08</td>\n    </tr>\n    <tr>\n      <th>LR</th>\n      <td>0.75</td>\n      <td>0.75</td>\n      <td>5.97</td>\n      <td>5.91</td>\n      <td>0.16</td>\n      <td>0.16</td>\n      <td>1.87</td>\n      <td>1.87</td>\n      <td>NaN</td>\n      <td>NaN</td>\n    </tr>\n    <tr>\n      <th>DNN1-RMSprop-0.1-5-epoch</th>\n      <td>0.68</td>\n      <td>0.68</td>\n      <td>7.65</td>\n      <td>7.62</td>\n      <td>0.20</td>\n      <td>0.20</td>\n      <td>2.13</td>\n      <td>2.13</td>\n      <td>7.62</td>\n      <td>9.79</td>\n    </tr>\n    <tr>\n      <th>DNN1-Adam-0.1-5-epoch</th>\n      <td>0.67</td>\n      <td>0.66</td>\n      <td>8.01</td>\n      <td>8.01</td>\n      <td>0.19</td>\n      <td>0.19</td>\n      <td>2.23</td>\n      <td>2.23</td>\n      <td>8.01</td>\n      <td>9.18</td>\n    </tr>\n    <tr>\n      <th>DNN1-SGD-0.1-5-epoch</th>\n      <td>-0.00</td>\n      <td>-0.00</td>\n      <td>24.02</td>\n      <td>23.80</td>\n      <td>0.38</td>\n      <td>0.38</td>\n      <td>4.00</td>\n      <td>3.97</td>\n      <td>23.80</td>\n      <td>26.64</td>\n    </tr>\n    <tr>\n      <th>DNN1-SGD-0.01-5-epoch</th>\n      <td>-0.00</td>\n      <td>-0.00</td>\n      <td>24.02</td>\n      <td>23.81</td>\n      <td>0.38</td>\n      <td>0.38</td>\n      <td>4.00</td>\n      <td>3.97</td>\n      <td>23.81</td>\n      <td>24.27</td>\n    </tr>\n    <tr>\n      <th>DNN3-SGD-0.001-5-epoch</th>\n      <td>-0.01</td>\n      <td>-0.01</td>\n      <td>24.09</td>\n      <td>24.13</td>\n      <td>0.37</td>\n      <td>0.37</td>\n      <td>4.00</td>\n      <td>4.01</td>\n      <td>24.13</td>\n      <td>23.96</td>\n    </tr>\n    <tr>\n      <th>DNN2-Adam-0.1-5-epoch</th>\n      <td>-0.01</td>\n      <td>-0.02</td>\n      <td>24.35</td>\n      <td>24.24</td>\n      <td>0.37</td>\n      <td>0.36</td>\n      <td>4.03</td>\n      <td>4.01</td>\n      <td>24.24</td>\n      <td>24.24</td>\n    </tr>\n    <tr>\n      <th>DNN2-RMSprop-0.1-5-epoch</th>\n      <td>-0.03</td>\n      <td>-0.04</td>\n      <td>24.82</td>\n      <td>24.75</td>\n      <td>0.36</td>\n      <td>0.36</td>\n      <td>4.06</td>\n      <td>4.05</td>\n      <td>24.75</td>\n      <td>24.25</td>\n    </tr>\n    <tr>\n      <th>DNN2-SGD-0.01-5-epoch</th>\n      <td>-0.04</td>\n      <td>-0.04</td>\n      <td>24.90</td>\n      <td>24.83</td>\n      <td>0.36</td>\n      <td>0.36</td>\n      <td>4.07</td>\n      <td>4.05</td>\n      <td>24.83</td>\n      <td>24.24</td>\n    </tr>\n    <tr>\n      <th>DNN2-SGD-0.1-5-epoch</th>\n      <td>-0.69</td>\n      <td>-0.71</td>\n      <td>40.53</td>\n      <td>40.79</td>\n      <td>0.37</td>\n      <td>0.37</td>\n      <td>5.21</td>\n      <td>5.23</td>\n      <td>40.79</td>\n      <td>26.68</td>\n    </tr>\n    <tr>\n      <th>DNN3-RMSprop-0.1-5-epoch</th>\n      <td>-2.57E+19</td>\n      <td>-2.66E+19</td>\n      <td>6.16E+20</td>\n      <td>6.38E+20</td>\n      <td>1.63E+09</td>\n      <td>1.63E+09</td>\n      <td>1.86E+10</td>\n      <td>1.87E+10</td>\n      <td>6.38E+20</td>\n      <td>7.30E+20</td>\n    </tr>\n  </tbody>\n</table>\n</div>"
     },
     "execution_count": 14,
     "metadata": {},
     "output_type": "execute_result"
    }
   ],
   "source": [
    "pd.options.display.float_format = lambda x: f\"{x:.2f}\" if abs(x) < 1000  else f\"{x:.2E}\"\n",
    "total_acc.sort_values(\"R2 train\", ascending=False)"
   ],
   "metadata": {
    "pycharm": {
     "name": "#%%\n"
    },
    "id": "uHXJEkIy4wWe",
    "outputId": "37b6568e-2afe-4add-b727-bf4008441eb9",
    "colab": {
     "base_uri": "https://localhost:8080/",
     "height": 708
    }
   }
  },
  {
   "cell_type": "markdown",
   "source": [
    "## Висновки\n",
    "Бачимо що моделі\n",
    "DNN1-SGD-0.1-5-epoch,\n",
    "DNN1-SGD-0.01-5-epoch,\n",
    "DNN3-SGD-0.001-5-epoch,\n",
    "DNN2-Adam-0.1-5-epoch,\n",
    "DNN2-RMSprop-0.1-5-epoch,\n",
    "DNN2-SGD-0.01-5-epoch,\n",
    "DNN2-SGD-0.1-5-epoch,\n",
    "DNN3-RMSprop-0.1-5-epoch\n",
    "мають нереалістичне значення R2 навіть для навчальних наборів, напевно це зумовлено некоректними комбінаціями оптимізатора і learning_rate."
   ],
   "metadata": {
    "id": "eOwBp7HKMD-3"
   }
  },
  {
   "cell_type": "code",
   "source": [
    "acc_filtered = total_acc.sort_values(\"R2 train\", ascending=False).head(13)\n",
    "acc_filtered"
   ],
   "metadata": {
    "colab": {
     "base_uri": "https://localhost:8080/",
     "height": 457
    },
    "id": "w3pu9GfaP-h9",
    "outputId": "b2e37e51-6c1e-46ab-ab00-42e92273c478"
   },
   "execution_count": 26,
   "outputs": [
    {
     "output_type": "execute_result",
     "data": {
      "text/plain": [
       "                            R2 train  R2 test  MSE train  MSE test  \\\n",
       "DNN1-SGD-0.001-5-epoch          1.00     1.00       0.02      0.02   \n",
       "DNN1-Adam-0.001-5-epoch         1.00     1.00       0.03      0.03   \n",
       "DNN1-RMSprop-0.001-5-epoch      1.00     1.00       0.04      0.04   \n",
       "DNN2-Adam-0.001-5-epoch         1.00     1.00       0.05      0.05   \n",
       "DNN2-RMSprop-0.001-5-epoch      1.00     1.00       0.08      0.07   \n",
       "DNN2-SGD-0.001-5-epoch          1.00     1.00       0.08      0.08   \n",
       "DNN1-Adam-0.01-5-epoch          0.98     0.98       0.43      0.43   \n",
       "DNN1-RMSprop-0.01-5-epoch       0.98     0.98       0.56      0.56   \n",
       "DNN2-Adam-0.01-5-epoch          0.97     0.97       0.69      0.69   \n",
       "DNN2-RMSprop-0.01-5-epoch       0.94     0.94       1.40      1.39   \n",
       "LR                              0.75     0.75       5.95      5.97   \n",
       "DNN1-RMSprop-0.1-5-epoch        0.68     0.68       7.65      7.62   \n",
       "DNN1-Adam-0.1-5-epoch           0.67     0.66       8.01      8.01   \n",
       "\n",
       "                            MAPE train  MAPE test  MAE train  MAE test  \\\n",
       "DNN1-SGD-0.001-5-epoch            0.01       0.01       0.11      0.11   \n",
       "DNN1-Adam-0.001-5-epoch           0.01       0.01       0.13      0.13   \n",
       "DNN1-RMSprop-0.001-5-epoch        0.01       0.01       0.14      0.14   \n",
       "DNN2-Adam-0.001-5-epoch           0.02       0.01       0.18      0.18   \n",
       "DNN2-RMSprop-0.001-5-epoch        0.02       0.02       0.20      0.20   \n",
       "DNN2-SGD-0.001-5-epoch            0.01       0.01       0.20      0.20   \n",
       "DNN1-Adam-0.01-5-epoch            0.04       0.04       0.51      0.51   \n",
       "DNN1-RMSprop-0.01-5-epoch         0.05       0.05       0.62      0.61   \n",
       "DNN2-Adam-0.01-5-epoch            0.06       0.06       0.68      0.67   \n",
       "DNN2-RMSprop-0.01-5-epoch         0.08       0.07       0.94      0.94   \n",
       "LR                                0.16       0.16       1.87      1.88   \n",
       "DNN1-RMSprop-0.1-5-epoch          0.20       0.20       2.13      2.13   \n",
       "DNN1-Adam-0.1-5-epoch             0.19       0.19       2.23      2.23   \n",
       "\n",
       "                            Loss test  Loss train  \n",
       "DNN1-SGD-0.001-5-epoch           0.02        0.03  \n",
       "DNN1-Adam-0.001-5-epoch          0.03        0.07  \n",
       "DNN1-RMSprop-0.001-5-epoch       0.04        0.08  \n",
       "DNN2-Adam-0.001-5-epoch          0.05        0.08  \n",
       "DNN2-RMSprop-0.001-5-epoch       0.07        0.09  \n",
       "DNN2-SGD-0.001-5-epoch           0.08        0.04  \n",
       "DNN1-Adam-0.01-5-epoch           0.43        0.29  \n",
       "DNN1-RMSprop-0.01-5-epoch        0.56        0.52  \n",
       "DNN2-Adam-0.01-5-epoch           0.69        0.84  \n",
       "DNN2-RMSprop-0.01-5-epoch        1.39        1.08  \n",
       "LR                                NaN         NaN  \n",
       "DNN1-RMSprop-0.1-5-epoch         7.62        9.79  \n",
       "DNN1-Adam-0.1-5-epoch            8.01        9.18  "
      ],
      "text/html": [
       "\n",
       "  <div id=\"df-c6305ed7-1c73-424e-a835-3583ea13a6c5\">\n",
       "    <div class=\"colab-df-container\">\n",
       "      <div>\n",
       "<style scoped>\n",
       "    .dataframe tbody tr th:only-of-type {\n",
       "        vertical-align: middle;\n",
       "    }\n",
       "\n",
       "    .dataframe tbody tr th {\n",
       "        vertical-align: top;\n",
       "    }\n",
       "\n",
       "    .dataframe thead th {\n",
       "        text-align: right;\n",
       "    }\n",
       "</style>\n",
       "<table border=\"1\" class=\"dataframe\">\n",
       "  <thead>\n",
       "    <tr style=\"text-align: right;\">\n",
       "      <th></th>\n",
       "      <th>R2 train</th>\n",
       "      <th>R2 test</th>\n",
       "      <th>MSE train</th>\n",
       "      <th>MSE test</th>\n",
       "      <th>MAPE train</th>\n",
       "      <th>MAPE test</th>\n",
       "      <th>MAE train</th>\n",
       "      <th>MAE test</th>\n",
       "      <th>Loss test</th>\n",
       "      <th>Loss train</th>\n",
       "    </tr>\n",
       "  </thead>\n",
       "  <tbody>\n",
       "    <tr>\n",
       "      <th>DNN1-SGD-0.001-5-epoch</th>\n",
       "      <td>1.00</td>\n",
       "      <td>1.00</td>\n",
       "      <td>0.02</td>\n",
       "      <td>0.02</td>\n",
       "      <td>0.01</td>\n",
       "      <td>0.01</td>\n",
       "      <td>0.11</td>\n",
       "      <td>0.11</td>\n",
       "      <td>0.02</td>\n",
       "      <td>0.03</td>\n",
       "    </tr>\n",
       "    <tr>\n",
       "      <th>DNN1-Adam-0.001-5-epoch</th>\n",
       "      <td>1.00</td>\n",
       "      <td>1.00</td>\n",
       "      <td>0.03</td>\n",
       "      <td>0.03</td>\n",
       "      <td>0.01</td>\n",
       "      <td>0.01</td>\n",
       "      <td>0.13</td>\n",
       "      <td>0.13</td>\n",
       "      <td>0.03</td>\n",
       "      <td>0.07</td>\n",
       "    </tr>\n",
       "    <tr>\n",
       "      <th>DNN1-RMSprop-0.001-5-epoch</th>\n",
       "      <td>1.00</td>\n",
       "      <td>1.00</td>\n",
       "      <td>0.04</td>\n",
       "      <td>0.04</td>\n",
       "      <td>0.01</td>\n",
       "      <td>0.01</td>\n",
       "      <td>0.14</td>\n",
       "      <td>0.14</td>\n",
       "      <td>0.04</td>\n",
       "      <td>0.08</td>\n",
       "    </tr>\n",
       "    <tr>\n",
       "      <th>DNN2-Adam-0.001-5-epoch</th>\n",
       "      <td>1.00</td>\n",
       "      <td>1.00</td>\n",
       "      <td>0.05</td>\n",
       "      <td>0.05</td>\n",
       "      <td>0.02</td>\n",
       "      <td>0.01</td>\n",
       "      <td>0.18</td>\n",
       "      <td>0.18</td>\n",
       "      <td>0.05</td>\n",
       "      <td>0.08</td>\n",
       "    </tr>\n",
       "    <tr>\n",
       "      <th>DNN2-RMSprop-0.001-5-epoch</th>\n",
       "      <td>1.00</td>\n",
       "      <td>1.00</td>\n",
       "      <td>0.08</td>\n",
       "      <td>0.07</td>\n",
       "      <td>0.02</td>\n",
       "      <td>0.02</td>\n",
       "      <td>0.20</td>\n",
       "      <td>0.20</td>\n",
       "      <td>0.07</td>\n",
       "      <td>0.09</td>\n",
       "    </tr>\n",
       "    <tr>\n",
       "      <th>DNN2-SGD-0.001-5-epoch</th>\n",
       "      <td>1.00</td>\n",
       "      <td>1.00</td>\n",
       "      <td>0.08</td>\n",
       "      <td>0.08</td>\n",
       "      <td>0.01</td>\n",
       "      <td>0.01</td>\n",
       "      <td>0.20</td>\n",
       "      <td>0.20</td>\n",
       "      <td>0.08</td>\n",
       "      <td>0.04</td>\n",
       "    </tr>\n",
       "    <tr>\n",
       "      <th>DNN1-Adam-0.01-5-epoch</th>\n",
       "      <td>0.98</td>\n",
       "      <td>0.98</td>\n",
       "      <td>0.43</td>\n",
       "      <td>0.43</td>\n",
       "      <td>0.04</td>\n",
       "      <td>0.04</td>\n",
       "      <td>0.51</td>\n",
       "      <td>0.51</td>\n",
       "      <td>0.43</td>\n",
       "      <td>0.29</td>\n",
       "    </tr>\n",
       "    <tr>\n",
       "      <th>DNN1-RMSprop-0.01-5-epoch</th>\n",
       "      <td>0.98</td>\n",
       "      <td>0.98</td>\n",
       "      <td>0.56</td>\n",
       "      <td>0.56</td>\n",
       "      <td>0.05</td>\n",
       "      <td>0.05</td>\n",
       "      <td>0.62</td>\n",
       "      <td>0.61</td>\n",
       "      <td>0.56</td>\n",
       "      <td>0.52</td>\n",
       "    </tr>\n",
       "    <tr>\n",
       "      <th>DNN2-Adam-0.01-5-epoch</th>\n",
       "      <td>0.97</td>\n",
       "      <td>0.97</td>\n",
       "      <td>0.69</td>\n",
       "      <td>0.69</td>\n",
       "      <td>0.06</td>\n",
       "      <td>0.06</td>\n",
       "      <td>0.68</td>\n",
       "      <td>0.67</td>\n",
       "      <td>0.69</td>\n",
       "      <td>0.84</td>\n",
       "    </tr>\n",
       "    <tr>\n",
       "      <th>DNN2-RMSprop-0.01-5-epoch</th>\n",
       "      <td>0.94</td>\n",
       "      <td>0.94</td>\n",
       "      <td>1.40</td>\n",
       "      <td>1.39</td>\n",
       "      <td>0.08</td>\n",
       "      <td>0.07</td>\n",
       "      <td>0.94</td>\n",
       "      <td>0.94</td>\n",
       "      <td>1.39</td>\n",
       "      <td>1.08</td>\n",
       "    </tr>\n",
       "    <tr>\n",
       "      <th>LR</th>\n",
       "      <td>0.75</td>\n",
       "      <td>0.75</td>\n",
       "      <td>5.95</td>\n",
       "      <td>5.97</td>\n",
       "      <td>0.16</td>\n",
       "      <td>0.16</td>\n",
       "      <td>1.87</td>\n",
       "      <td>1.88</td>\n",
       "      <td>NaN</td>\n",
       "      <td>NaN</td>\n",
       "    </tr>\n",
       "    <tr>\n",
       "      <th>DNN1-RMSprop-0.1-5-epoch</th>\n",
       "      <td>0.68</td>\n",
       "      <td>0.68</td>\n",
       "      <td>7.65</td>\n",
       "      <td>7.62</td>\n",
       "      <td>0.20</td>\n",
       "      <td>0.20</td>\n",
       "      <td>2.13</td>\n",
       "      <td>2.13</td>\n",
       "      <td>7.62</td>\n",
       "      <td>9.79</td>\n",
       "    </tr>\n",
       "    <tr>\n",
       "      <th>DNN1-Adam-0.1-5-epoch</th>\n",
       "      <td>0.67</td>\n",
       "      <td>0.66</td>\n",
       "      <td>8.01</td>\n",
       "      <td>8.01</td>\n",
       "      <td>0.19</td>\n",
       "      <td>0.19</td>\n",
       "      <td>2.23</td>\n",
       "      <td>2.23</td>\n",
       "      <td>8.01</td>\n",
       "      <td>9.18</td>\n",
       "    </tr>\n",
       "  </tbody>\n",
       "</table>\n",
       "</div>\n",
       "      <button class=\"colab-df-convert\" onclick=\"convertToInteractive('df-c6305ed7-1c73-424e-a835-3583ea13a6c5')\"\n",
       "              title=\"Convert this dataframe to an interactive table.\"\n",
       "              style=\"display:none;\">\n",
       "        \n",
       "  <svg xmlns=\"http://www.w3.org/2000/svg\" height=\"24px\"viewBox=\"0 0 24 24\"\n",
       "       width=\"24px\">\n",
       "    <path d=\"M0 0h24v24H0V0z\" fill=\"none\"/>\n",
       "    <path d=\"M18.56 5.44l.94 2.06.94-2.06 2.06-.94-2.06-.94-.94-2.06-.94 2.06-2.06.94zm-11 1L8.5 8.5l.94-2.06 2.06-.94-2.06-.94L8.5 2.5l-.94 2.06-2.06.94zm10 10l.94 2.06.94-2.06 2.06-.94-2.06-.94-.94-2.06-.94 2.06-2.06.94z\"/><path d=\"M17.41 7.96l-1.37-1.37c-.4-.4-.92-.59-1.43-.59-.52 0-1.04.2-1.43.59L10.3 9.45l-7.72 7.72c-.78.78-.78 2.05 0 2.83L4 21.41c.39.39.9.59 1.41.59.51 0 1.02-.2 1.41-.59l7.78-7.78 2.81-2.81c.8-.78.8-2.07 0-2.86zM5.41 20L4 18.59l7.72-7.72 1.47 1.35L5.41 20z\"/>\n",
       "  </svg>\n",
       "      </button>\n",
       "      \n",
       "  <style>\n",
       "    .colab-df-container {\n",
       "      display:flex;\n",
       "      flex-wrap:wrap;\n",
       "      gap: 12px;\n",
       "    }\n",
       "\n",
       "    .colab-df-convert {\n",
       "      background-color: #E8F0FE;\n",
       "      border: none;\n",
       "      border-radius: 50%;\n",
       "      cursor: pointer;\n",
       "      display: none;\n",
       "      fill: #1967D2;\n",
       "      height: 32px;\n",
       "      padding: 0 0 0 0;\n",
       "      width: 32px;\n",
       "    }\n",
       "\n",
       "    .colab-df-convert:hover {\n",
       "      background-color: #E2EBFA;\n",
       "      box-shadow: 0px 1px 2px rgba(60, 64, 67, 0.3), 0px 1px 3px 1px rgba(60, 64, 67, 0.15);\n",
       "      fill: #174EA6;\n",
       "    }\n",
       "\n",
       "    [theme=dark] .colab-df-convert {\n",
       "      background-color: #3B4455;\n",
       "      fill: #D2E3FC;\n",
       "    }\n",
       "\n",
       "    [theme=dark] .colab-df-convert:hover {\n",
       "      background-color: #434B5C;\n",
       "      box-shadow: 0px 1px 3px 1px rgba(0, 0, 0, 0.15);\n",
       "      filter: drop-shadow(0px 1px 2px rgba(0, 0, 0, 0.3));\n",
       "      fill: #FFFFFF;\n",
       "    }\n",
       "  </style>\n",
       "\n",
       "      <script>\n",
       "        const buttonEl =\n",
       "          document.querySelector('#df-c6305ed7-1c73-424e-a835-3583ea13a6c5 button.colab-df-convert');\n",
       "        buttonEl.style.display =\n",
       "          google.colab.kernel.accessAllowed ? 'block' : 'none';\n",
       "\n",
       "        async function convertToInteractive(key) {\n",
       "          const element = document.querySelector('#df-c6305ed7-1c73-424e-a835-3583ea13a6c5');\n",
       "          const dataTable =\n",
       "            await google.colab.kernel.invokeFunction('convertToInteractive',\n",
       "                                                     [key], {});\n",
       "          if (!dataTable) return;\n",
       "\n",
       "          const docLinkHtml = 'Like what you see? Visit the ' +\n",
       "            '<a target=\"_blank\" href=https://colab.research.google.com/notebooks/data_table.ipynb>data table notebook</a>'\n",
       "            + ' to learn more about interactive tables.';\n",
       "          element.innerHTML = '';\n",
       "          dataTable['output_type'] = 'display_data';\n",
       "          await google.colab.output.renderOutput(dataTable, element);\n",
       "          const docLink = document.createElement('div');\n",
       "          docLink.innerHTML = docLinkHtml;\n",
       "          element.appendChild(docLink);\n",
       "        }\n",
       "      </script>\n",
       "    </div>\n",
       "  </div>\n",
       "  "
      ]
     },
     "metadata": {},
     "execution_count": 26
    }
   ]
  },
  {
   "cell_type": "markdown",
   "source": [
    "Найкращі результати демонструє нейронна мережа із 1 прихованим шаром і оптимізатором SGD чи Adam і lr=0.001, за ним слідує оптимізатор RMSprop. Дещо гіршу точність дає мережа із 5 прихованими шарами. Ще меншу точність дають моделі DNN1 і DNN2 із lr=0.01, проте все ще вища за лінійну регресію. Моделі із lr=0.1 дають набагато більші помилки."
   ],
   "metadata": {
    "id": "jbLmFC3MVWAl"
   }
  },
  {
   "cell_type": "code",
   "source": [
    "def plot_learning_curves(name, history, baseline):\n",
    "    plt.subplot(121)\n",
    "\n",
    "    plt.plot(history[\"R2 train\"], label=\"train\")\n",
    "    plt.plot(history[\"R2 test\"], label=\"test\")\n",
    "\n",
    "    if baseline is not None:\n",
    "        plt.axhline(baseline[\"R2 train\"][0], label=\"baseline train\", linestyle=\"--\", c=\"tab:blue\")\n",
    "        plt.axhline(baseline[\"R2 test\"][0], label=\"baseline test\", linestyle=\"--\", c=\"tab:orange\")\n",
    "\n",
    "    plt.title(f\"{name}\\naccuracy (R2)\")\n",
    "    plt.ylabel(\"R2\")\n",
    "    plt.xlabel(\"epoch\")\n",
    "    plt.legend(loc=\"upper left\")\n",
    "    plt.xlim(0, len(history))\n",
    "\n",
    "    plt.subplot(122)\n",
    "    plt.plot(history[\"MSE train\"], label=\"train\")\n",
    "    plt.plot(history[\"MSE test\"], label=\"test\")\n",
    "\n",
    "    if baseline is not None:\n",
    "        plt.axhline(baseline[\"MSE train\"][0], label=\"baseline train\", linestyle=\"--\", c=\"tab:blue\")\n",
    "        plt.axhline(baseline[\"MSE test\"][0], label=\"baseline test\", linestyle=\"--\", c=\"tab:orange\")\n",
    "\n",
    "    plt.title(f\"{name}\\nloss (MSE)\")\n",
    "    plt.ylabel(\"loss\")\n",
    "    plt.xlabel(\"epoch\")\n",
    "    plt.legend(loc=\"upper left\")\n",
    "    plt.xlim(0, len(history))\n",
    "    plt.ylim(0)\n",
    "    plt.tight_layout()\n",
    "    plt.show()\n"
   ],
   "metadata": {
    "id": "eXbmC84_ZOLX"
   },
   "execution_count": 39,
   "outputs": []
  },
  {
   "cell_type": "markdown",
   "source": [
    "## Learning curves"
   ],
   "metadata": {
    "id": "aK6xlzLnJrRR"
   }
  },
  {
   "cell_type": "code",
   "source": [
    "for name in acc_filtered.index:\n",
    "    if name == \"LR\":\n",
    "      continue\n",
    "\n",
    "    plot_learning_curves(name, result_histories[name], None)"
   ],
   "metadata": {
    "id": "NIIsusgy1tht",
    "outputId": "fb48a29e-90ad-45c6-b2ca-e0748b563e97",
    "colab": {
     "base_uri": "https://localhost:8080/",
     "height": 1000
    }
   },
   "execution_count": 41,
   "outputs": [
    {
     "output_type": "display_data",
     "data": {
      "text/plain": [
       "<Figure size 432x288 with 2 Axes>"
      ],
      "image/png": "[encoded data removed]"
     },
     "metadata": {
      "needs_background": "light"
     }
    },
    {
     "output_type": "display_data",
     "data": {
      "text/plain": [
       "<Figure size 432x288 with 2 Axes>"
      ],
      "image/png": "[encoded data removed]"
     },
     "metadata": {
      "needs_background": "light"
     }
    },
    {
     "output_type": "display_data",
     "data": {
      "text/plain": [
       "<Figure size 432x288 with 2 Axes>"
      ],
      "image/png": "[encoded data removed]"
     },
     "metadata": {
      "needs_background": "light"
     }
    },
    {
     "output_type": "display_data",
     "data": {
      "text/plain": [
       "<Figure size 432x288 with 2 Axes>"
      ],
      "image/png": "[encoded data removed]"
     },
     "metadata": {
      "needs_background": "light"
     }
    },
    {
     "output_type": "display_data",
     "data": {
      "text/plain": [
       "<Figure size 432x288 with 2 Axes>"
      ],
      "image/png": "[encoded data removed]"
     },
     "metadata": {
      "needs_background": "light"
     }
    },
    {
     "output_type": "display_data",
     "data": {
      "text/plain": [
       "<Figure size 432x288 with 2 Axes>"
      ],
      "image/png": "[encoded data removed]"
     },
     "metadata": {
      "needs_background": "light"
     }
    },
    {
     "output_type": "display_data",
     "data": {
      "text/plain": [
       "<Figure size 432x288 with 2 Axes>"
      ],
      "image/png": "[encoded data removed]"
     },
     "metadata": {
      "needs_background": "light"
     }
    },
    {
     "output_type": "display_data",
     "data": {
      "text/plain": [
       "<Figure size 432x288 with 2 Axes>"
      ],
      "image/png": "[encoded data removed]"
     },
     "metadata": {
      "needs_background": "light"
     }
    },
    {
     "output_type": "display_data",
     "data": {
      "text/plain": [
       "<Figure size 432x288 with 2 Axes>"
      ],
      "image/png": "[encoded data removed]"
     },
     "metadata": {
      "needs_background": "light"
     }
    },
    {
     "output_type": "display_data",
     "data": {
      "text/plain": [
       "<Figure size 432x288 with 2 Axes>"
      ],
      "image/png": "[encoded data removed]"
     },
     "metadata": {
      "needs_background": "light"
     }
    },
    {
     "output_type": "display_data",
     "data": {
      "text/plain": [
       "<Figure size 432x288 with 2 Axes>"
      ],
      "image/png": "[encoded data removed]"
     },
     "metadata": {
      "needs_background": "light"
     }
    },
    {
     "output_type": "display_data",
     "data": {
      "text/plain": [
       "<Figure size 432x288 with 2 Axes>"
      ],
      "image/png": "[encoded data removed]"
     },
     "metadata": {
      "needs_background": "light"
     }
    }
   ]
  },
  {
   "cell_type": "markdown",
   "source": [
    "## Криві навчання для 3 найкращих комбінацій"
   ],
   "metadata": {
    "id": "hDMBqBOfYGEJ"
   }
  },
  {
   "cell_type": "code",
   "source": [
    "plt.rcParams[\"figure.figsize\"] = (15, 6)\n",
    "\n",
    "plt.subplot(121)\n",
    "\n",
    "plt.plot(result_histories[\"DNN1-SGD-0.001-5-epoch\"][\"R2 test\"], label=\"DNN1-SGD-0.001\")\n",
    "\n",
    "plt.plot(result_histories[\"DNN1-Adam-0.001-5-epoch\"][\"R2 test\"], label=\"DNN1-Adam-0.001\")\n",
    "\n",
    "plt.plot(result_histories[\"DNN1-RMSprop-0.001-5-epoch\"][\"R2 test\"], label=\"DNN1-Adam-0.001\")\n",
    "plt.xlim(0, len(result_histories[\"DNN1-RMSprop-0.001-5-epoch\"][\"R2 test\"]))\n",
    "\n",
    "\n",
    "plt.title(f\"{name}\\naccuracy (R2) for test data\")\n",
    "plt.ylabel(\"R2\")\n",
    "plt.xlabel(\"epoch\")\n",
    "plt.legend()\n",
    "\n",
    "plt.subplot(122)\n",
    "plt.plot(result_histories[\"DNN1-SGD-0.001-5-epoch\"][\"MSE test\"], label=\"DNN1-SGD-0.001\")\n",
    "\n",
    "plt.plot(result_histories[\"DNN1-Adam-0.001-5-epoch\"][\"MSE test\"], label=\"DNN1-Adam-0.001\")\n",
    "\n",
    "plt.plot(result_histories[\"DNN1-RMSprop-0.001-5-epoch\"][\"MSE test\"], label=\"DNN1-Adam-0.001\")\n",
    "\n",
    "plt.xlim(0, len(result_histories[\"DNN1-RMSprop-0.001-5-epoch\"][\"R2 test\"]))\n",
    "plt.ylim(0)\n",
    "\n",
    "plt.title(f\"{name}\\nloss (MSE) for test data\")\n",
    "plt.ylabel(\"loss\")\n",
    "plt.xlabel(\"epoch\")\n",
    "plt.legend()\n",
    "plt.tight_layout()\n",
    "plt.show()\n"
   ],
   "metadata": {
    "id": "OuZqU0XLjMOK",
    "colab": {
     "base_uri": "https://localhost:8080/",
     "height": 441
    },
    "outputId": "5ae1bd39-b387-4957-b6f8-88669255dd82"
   },
   "execution_count": 49,
   "outputs": [
    {
     "output_type": "display_data",
     "data": {
      "text/plain": [
       "<Figure size 1080x432 with 2 Axes>"
      ],
      "image/png": "[encoded data removed]"
     },
     "metadata": {
      "needs_background": "light"
     }
    }
   ]
  }
 ]
}